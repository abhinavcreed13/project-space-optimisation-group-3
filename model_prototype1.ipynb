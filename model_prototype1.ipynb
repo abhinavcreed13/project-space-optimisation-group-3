{
  "nbformat": 4,
  "nbformat_minor": 0,
  "metadata": {
    "colab": {
      "name": "model_prototype1.ipynb",
      "provenance": [],
      "collapsed_sections": []
    },
    "kernelspec": {
      "display_name": "Python 3",
      "language": "python",
      "name": "python3"
    },
    "language_info": {
      "codemirror_mode": {
        "name": "ipython",
        "version": 3
      },
      "file_extension": ".py",
      "mimetype": "text/x-python",
      "name": "python",
      "nbconvert_exporter": "python",
      "pygments_lexer": "ipython3",
      "version": "3.6.5"
    }
  },
  "cells": [
    {
      "cell_type": "markdown",
      "metadata": {
        "colab_type": "text",
        "id": "ZTWGg0lzAm0e"
      },
      "source": [
        "# Model Prototype"
      ]
    },
    {
      "cell_type": "markdown",
      "metadata": {
        "colab_type": "text",
        "id": "hUKat_gXAqGr"
      },
      "source": [
        "### Load Data"
      ]
    },
    {
      "cell_type": "code",
      "metadata": {
        "colab_type": "code",
        "id": "CF6Mvo6lAsVZ",
        "colab": {}
      },
      "source": [
        "# load libraries\n",
        "import pandas as pd\n",
        "import warnings\n",
        "warnings.filterwarnings('ignore')\n",
        "\n",
        "import seaborn as sns\n",
        "import matplotlib.pyplot as plt\n",
        "sns.set(style=\"ticks\", color_codes=True)"
      ],
      "execution_count": 1,
      "outputs": []
    },
    {
      "cell_type": "code",
      "metadata": {
        "colab_type": "code",
        "id": "mgVRrKRmCKb3",
        "colab": {}
      },
      "source": [
        "class DataCleaner():\n",
        "\n",
        "    def clean_uom_space(self,uom_space_df):\n",
        "        uom_space_df['Campus Code']=uom_space_df['Campus Code'].astype(str).str.strip()\n",
        "        uom_space_df['Building Code']=uom_space_df['Building Code'].astype(str).str.strip()\n",
        "        uom_space_df['Building Name']=uom_space_df['Building Name'].astype(str).str.strip()\n",
        "        uom_space_df['Room Type']=uom_space_df['Room Type'].astype(str).str.strip()\n",
        "        uom_space_df['Room Category']=uom_space_df['Room Category'].astype(str).str.strip()\n",
        "        uom_space_df['Floor Code']=uom_space_df['Floor Code'].astype(str).str.strip()\n",
        "        uom_space_df['Room Code']=uom_space_df['Room Code'].astype(str).str.strip()\n",
        "        return uom_space_df\n",
        "\n",
        "    def clean_rm_category_type(self,rm_category_type_df):\n",
        "        rm_category_type_df['Room Type']=rm_category_type_df['Room Type'].astype(str).str.strip()\n",
        "        rm_category_type_df['Room Category']=rm_category_type_df['Room Category'].astype(str).str.strip()\n",
        "        rm_category_type_df['Room Type Abbreviation']=rm_category_type_df['Room Type Abbreviation'].str.lower().str.strip()\n",
        "        rm_category_type_df['Description']=rm_category_type_df['Description'].str.lower().str.strip()\n",
        "        rm_category_type_df['Room Type Definition']=rm_category_type_df['Room Type Definition'].str.lower().str.strip()\n",
        "        return rm_category_type_df\n",
        "\n",
        "    def clean_floor_data(self,floor_df):\n",
        "        floor_df['Building Code'] = floor_df['Building Code'].astype(str).str.strip()\n",
        "        floor_df['Floor Code'] = floor_df['Floor Code'].astype(str).str.strip()\n",
        "        floor_df['Floor Name'] = floor_df['Floor Name'].astype(str).str.strip()\n",
        "        return floor_df\n",
        "\n",
        "    def clean_em_location(self,em_location_df):\n",
        "        em_location_df['Floor Code'] = em_location_df['Floor Code'].astype(int)\n",
        "        em_location_df['Floor Code'] = em_location_df['Floor Code'].astype(str).str.strip()\n",
        "        return em_location_df\n",
        "\n",
        "    def clean_av_equipment(self,av_equipment_df):\n",
        "        av_equipment_df['Room Type'] = av_equipment_df['Room Type'].astype(str).str.strip()\n",
        "        av_equipment_df['Room Code'] = av_equipment_df['Room Code'].astype(str).str.strip()\n",
        "        av_equipment_df['Building Code'] = av_equipment_df['Building Code'].astype(str).str.strip()\n",
        "        av_equipment_df['Campus Code'] = av_equipment_df['Campus Code'].astype(str).str.strip()\n",
        "        av_equipment_df['Equip. Status'] = av_equipment_df['Equip. Status'].astype(str).str.strip()\n",
        "        av_equipment_df['Floor Code'] = av_equipment_df['Floor Code'].astype(int).astype(str).str.strip()\n",
        "        return av_equipment_df\n",
        "\n",
        "    def clean_timetable_data(self,timetable_df):\n",
        "        # remove all NaN rows\n",
        "        timetable_df = timetable_df.dropna(how='all')\n",
        "\n",
        "        # drop duplicate records\n",
        "        timetable_df = timetable_df.drop_duplicates()\n",
        "\n",
        "        # dropping classes whose location is not planned\n",
        "        timetable_df = timetable_df[timetable_df['Host Key of Allocated Locations'].notna()]\n",
        "\n",
        "        # dropping classes whose location is online option\n",
        "        timetable_df = timetable_df[timetable_df['Host Key of Allocated Locations']!='Online option.']\n",
        "\n",
        "        # dropping classes with off-site location\n",
        "        timetable_df = timetable_df[timetable_df['Name of Zone of Allocated Locations']!='Off-Site']\n",
        "        return timetable_df\n",
        "\n",
        "    def clean_meeting_room_usage(self,meeting_room_usage_df):\n",
        "        meeting_room_usage_df = meeting_room_usage_df[meeting_room_usage_df['Campus Code'].notna()]\n",
        "        meeting_room_usage_df = meeting_room_usage_df[meeting_room_usage_df['Building Code'].notna()]\n",
        "        meeting_room_usage_df = meeting_room_usage_df[meeting_room_usage_df['Floor Code'].notna()]\n",
        "        meeting_room_usage_df = meeting_room_usage_df[meeting_room_usage_df['Room Code'].notna()]\n",
        "\n",
        "        meeting_room_usage_df['Campus Code'] = meeting_room_usage_df['Campus Code'].astype(str).str.strip()\n",
        "        meeting_room_usage_df['Building Code'] = meeting_room_usage_df['Building Code'].astype(str).str.strip()\n",
        "        meeting_room_usage_df['Building Name'] = meeting_room_usage_df['Building Name'].astype(str).str.strip()\n",
        "        meeting_room_usage_df['Floor Code'] = meeting_room_usage_df['Floor Code'].astype(int).astype(str).str.strip()\n",
        "        meeting_room_usage_df['Room Code'] = meeting_room_usage_df['Room Code'].astype(str).str.strip()\n",
        "        return meeting_room_usage_df"
      ],
      "execution_count": 2,
      "outputs": []
    },
    {
      "cell_type": "code",
      "metadata": {
        "colab_type": "code",
        "id": "OtYVzHniDiF5",
        "colab": {}
      },
      "source": [
        "class DataMutator():\n",
        "\n",
        "    def mutate_em_location(self,em_location_df):\n",
        "        # mutate room codes\n",
        "        for idx,row in em_location_df.iterrows():\n",
        "            if \".\" in row['Room Code']:\n",
        "                code = row['Room Code'].split(\".\")[0]\n",
        "                em_location_df.at[idx,'Room Code'] = code\n",
        "        return em_location_df\n",
        "\n",
        "    def mutate_timetable_data(self,timetable_df):\n",
        "        building_codes = []\n",
        "        room_codes = []\n",
        "        campus_codes = []\n",
        "        class_duration_minutes = []\n",
        "        for idx,row in timetable_df.iterrows():\n",
        "            s = row['Host Key of Allocated Locations'].split('-')\n",
        "            building_codes.append(s[0])\n",
        "            room_codes.append(s[1])\n",
        "            c = row['Name of Allocated Locations'].split('-')[0]\n",
        "            if c == 'zzzPAR':\n",
        "                c = 'PAR'\n",
        "            campus_codes.append(c)\n",
        "            d = row['Duration as duration']\n",
        "            class_duration_minutes.append(d.hour * 60 + d.minute)\n",
        "        timetable_df['Building Code'] = building_codes\n",
        "        timetable_df['Room Code'] = room_codes\n",
        "        timetable_df['Campus Code'] = campus_codes\n",
        "        timetable_df['Class Duration In Minutes'] = class_duration_minutes\n",
        "        return timetable_df"
      ],
      "execution_count": 3,
      "outputs": []
    },
    {
      "cell_type": "code",
      "metadata": {
        "colab_type": "code",
        "id": "n98Z0F0xEHc7",
        "colab": {}
      },
      "source": [
        "class DataMerger():\n",
        "\n",
        "    def get_merged_space_data(self,uom_space_df,rm_category_type_df, floor_df):\n",
        "        uom_space_df_enhanced = pd.merge(uom_space_df,floor_df,on=['Building Code','Floor Code'])\n",
        "        print(\"# Merge - uom_space + floor_data\")\n",
        "        print((uom_space_df.shape, uom_space_df_enhanced.shape))\n",
        "        print('Unable to merge records:',uom_space_df.shape[0]-uom_space_df_enhanced.shape[0])\n",
        "        merged_space_data_df = pd.merge(uom_space_df_enhanced,rm_category_type_df,on=['Room Category','Room Type'])\n",
        "        print(\"# Merge - enhanced_uom_space + rm_category_type\")\n",
        "        print((uom_space_df_enhanced.shape, merged_space_data_df.shape))\n",
        "        print('Unable to merge records:',uom_space_df_enhanced.shape[0]-merged_space_data_df.shape[0])\n",
        "        return merged_space_data_df\n",
        "\n",
        "    def get_merged_em_location_data(self,em_location_df,merged_space_data_df):\n",
        "        print(\"# merge - space_data + em_location\")\n",
        "        merged_em_location_df = pd.merge(em_location_df,merged_space_data_df,on=['Building Code','Floor Code','Room Code'])\n",
        "        print((em_location_df.shape, merged_em_location_df.shape))\n",
        "        print('Unable to merge records:',em_location_df.shape[0]-merged_em_location_df.shape[0])\n",
        "        return merged_em_location_df\n",
        "\n",
        "    def get_merged_av_equipment_data(self,av_equipment_df,merged_space_data_df):\n",
        "        print(\"# merge - space_data + av_equipment\")\n",
        "        merged_av_equipment_df = pd.merge(av_equipment_df,merged_space_data_df,on=['Campus Code','Building Code','Floor Code','Room Code'])\n",
        "        print((av_equipment_df.shape, merged_av_equipment_df.shape))\n",
        "        print('Unable to merge records:',av_equipment_df.shape[0]-merged_av_equipment_df.shape[0])\n",
        "        return merged_av_equipment_df\n",
        "\n",
        "    def get_merged_timetable_data(self,timetable_df,merged_space_data_df):\n",
        "        print(\"# merge - space_data + timetable_data\")\n",
        "        merged_timetable_df = pd.merge(timetable_df,merged_space_data_df,on=['Campus Code','Building Code','Room Code'])\n",
        "        print((timetable_df.shape, merged_timetable_df.shape))\n",
        "        print('Unable to merge records:',timetable_df.shape[0]-merged_timetable_df.shape[0])\n",
        "        return merged_timetable_df\n",
        "\n",
        "    def get_merged_meeting_room_usage_data(self,meeting_room_usage_df,merged_space_data_df):\n",
        "        print(\"# merge - space_data + meeting_room_usage\")\n",
        "        merged_meeting_room_usage_df = pd.merge(meeting_room_usage_df,merged_space_data_df,on=['Campus Code','Building Code','Floor Code','Room Code'])\n",
        "        print((meeting_room_usage_df.shape, merged_meeting_room_usage_df.shape))\n",
        "        print('Unable to merge records:',meeting_room_usage_df.shape[0]-merged_meeting_room_usage_df.shape[0])\n",
        "        return merged_meeting_room_usage_df"
      ],
      "execution_count": 4,
      "outputs": []
    },
    {
      "cell_type": "code",
      "metadata": {
        "colab_type": "code",
        "id": "4bsL2pSMAvr0",
        "colab": {}
      },
      "source": [
        "class DataProcessor():\n",
        "    def __init__(self,uom_space_url,rm_category_type_url,\n",
        "                 em_location_url,av_equipment_url,\n",
        "                 timetable_2020_url,floor_name_url,\n",
        "                 meeting_room_usage_url):\n",
        "        self.uom_space_url = uom_space_url\n",
        "        self.rm_category_type_url = rm_category_type_url\n",
        "        self.em_location_url = em_location_url\n",
        "        self.av_equipment_url = av_equipment_url\n",
        "        self.timetable_2020_url = timetable_2020_url\n",
        "        self.floor_name_url = floor_name_url\n",
        "        self.meeting_room_usage_url = meeting_room_usage_url\n",
        "\n",
        "    def load_data(self):\n",
        "        self.uom_space_df = pd.read_excel(uom_space_url)\n",
        "        self.rm_category_type_df = pd.read_excel(rm_category_type_url)\n",
        "        self.em_location_df = pd.read_excel(em_location_url)\n",
        "        self.av_equipment_df = pd.read_excel(av_equipment_url)\n",
        "        self.timetable_df = pd.read_excel(timetable_2020_url, delim_whitespace=True)\n",
        "        self.floor_df = pd.read_excel(floor_name_url)\n",
        "        self.meeting_room_usage_df = pd.read_excel(meeting_room_usage_url)\n",
        "        print('Data loaded successfully!')\n",
        "        # data shapes\n",
        "        print(\"UOM space shape:\"+str(self.uom_space_df.shape))\n",
        "        print(\"RM category:\"+str(self.rm_category_type_df.shape))\n",
        "        print(\"EM location:\"+str(self.em_location_df.shape))\n",
        "        print(\"AV equipment:\"+str(self.av_equipment_df.shape))\n",
        "        print(\"2020 timetable:\"+str(self.timetable_df.shape))\n",
        "        print(\"Floor data shape:\"+str(self.floor_df.shape))\n",
        "        print(\"Meeting room usage shape:\"+str(self.meeting_room_usage_df.shape))\n",
        "\n",
        "    def get_all_datasets(self):\n",
        "\n",
        "        print(\"# clean data\")\n",
        "        _cleaner = DataCleaner()\n",
        "        self.uom_space_df = _cleaner.clean_uom_space(self.uom_space_df)\n",
        "        self.rm_category_type_df = _cleaner.clean_rm_category_type(self.rm_category_type_df)\n",
        "        self.floor_df = _cleaner.clean_floor_data(self.floor_df)\n",
        "        self.em_location_df = _cleaner.clean_em_location(self.em_location_df)\n",
        "        self.av_equipment_df = _cleaner.clean_av_equipment(self.av_equipment_df)\n",
        "        self.timetable_df = _cleaner.clean_timetable_data(self.timetable_df)\n",
        "        self.meeting_room_usage_df = _cleaner.clean_meeting_room_usage(self.meeting_room_usage_df)\n",
        "\n",
        "        print(\"# mutate data\")\n",
        "        _mutator = DataMutator()\n",
        "        self.em_location_df = _mutator.mutate_em_location(self.em_location_df)\n",
        "        self.timetable_df = _mutator.mutate_timetable_data(self.timetable_df)\n",
        "\n",
        "        print(\"# merge data\")\n",
        "        _merger = DataMerger()\n",
        "        self.merged_space_data = _merger.get_merged_space_data(self.uom_space_df, self.rm_category_type_df, self.floor_df)\n",
        "        self.merged_em_location_data = _merger.get_merged_em_location_data(self.em_location_df,self.merged_space_data)\n",
        "        self.merged_av_equipment_data = _merger.get_merged_av_equipment_data(self.av_equipment_df,self.merged_space_data)\n",
        "        self.merged_timetable_data = _merger.get_merged_timetable_data(self.timetable_df,self.merged_space_data)\n",
        "        self.merged_meeting_room_usage_data = _merger.get_merged_meeting_room_usage_data(self.meeting_room_usage_df,self.merged_space_data)\n",
        "\n",
        "        return self.merged_space_data, self.merged_em_location_data, self.merged_av_equipment_data, self.merged_timetable_data, self.merged_meeting_room_usage_data"
      ],
      "execution_count": 5,
      "outputs": []
    },
    {
      "cell_type": "code",
      "metadata": {
        "id": "wsytjpvRgvSq",
        "colab_type": "code",
        "colab": {
          "base_uri": "https://localhost:8080/",
          "height": 122
        },
        "outputId": "65112750-ae5f-493e-a03b-787c346ecabd"
      },
      "source": [
        "from google.colab import drive\n",
        "drive.mount(\"/content/drive\")"
      ],
      "execution_count": 6,
      "outputs": [
        {
          "output_type": "stream",
          "text": [
            "Go to this URL in a browser: https://accounts.google.com/o/oauth2/auth?client_id=947318989803-6bn6qk8qdgf4n4g3pfee6491hc0brc4i.apps.googleusercontent.com&redirect_uri=urn%3aietf%3awg%3aoauth%3a2.0%3aoob&scope=email%20https%3a%2f%2fwww.googleapis.com%2fauth%2fdocs.test%20https%3a%2f%2fwww.googleapis.com%2fauth%2fdrive%20https%3a%2f%2fwww.googleapis.com%2fauth%2fdrive.photos.readonly%20https%3a%2f%2fwww.googleapis.com%2fauth%2fpeopleapi.readonly&response_type=code\n",
            "\n",
            "Enter your authorization code:\n",
            "··········\n",
            "Mounted at /content/drive\n"
          ],
          "name": "stdout"
        }
      ]
    },
    {
      "cell_type": "code",
      "metadata": {
        "colab_type": "code",
        "id": "cSiem3iIIOTW",
        "colab": {}
      },
      "source": [
        "# local urls\n",
        "uom_space_url = '/content/drive/My Drive//project-data/uom-space.xlsx'\n",
        "rm_category_type_url = '/content/drive/My Drive/project-data/rm-category-type-cleaned.xlsx'\n",
        "em_location_url = '/content/drive/My Drive/project-data/em-location.xlsx'\n",
        "av_equipment_url = '/content/drive/My Drive/project-data/av-equipment.xlsx'\n",
        "timetable_2020_url = '/content/drive/My Drive/project-data/2020-timetable-v2.xlsx'\n",
        "floor_name_url = '/content/drive/My Drive/project-data/fl-name-cleaned.xlsx'\n",
        "meeting_room_usage_url = '/content/drive/My Drive/project-data/meeting-room-usage.xlsx'"
      ],
      "execution_count": 7,
      "outputs": []
    },
    {
      "cell_type": "code",
      "metadata": {
        "colab_type": "code",
        "id": "6EJpvmXrILam",
        "colab": {
          "base_uri": "https://localhost:8080/",
          "height": 153
        },
        "outputId": "b367d76a-e7ed-4410-f65a-c4893e8966a1"
      },
      "source": [
        "# load data\n",
        "_processor = DataProcessor(uom_space_url,rm_category_type_url,em_location_url,av_equipment_url,\n",
        "                           timetable_2020_url,floor_name_url,meeting_room_usage_url)\n",
        "_processor.load_data()"
      ],
      "execution_count": 8,
      "outputs": [
        {
          "output_type": "stream",
          "text": [
            "Data loaded successfully!\n",
            "UOM space shape:(22166, 14)\n",
            "RM category:(209, 5)\n",
            "EM location:(7709, 4)\n",
            "AV equipment:(1964, 11)\n",
            "2020 timetable:(131857, 23)\n",
            "Floor data shape:(1369, 3)\n",
            "Meeting room usage shape:(1462, 22)\n"
          ],
          "name": "stdout"
        }
      ]
    },
    {
      "cell_type": "code",
      "metadata": {
        "colab_type": "code",
        "id": "anFAmM3AI13X",
        "colab": {
          "base_uri": "https://localhost:8080/",
          "height": 374
        },
        "outputId": "eaca1914-fa72-4e50-b405-609ee31ef513"
      },
      "source": [
        "# get datasets - after cleaning, mutation and merging\n",
        "space_data, employee_data, av_equipment_data, timetable_data, mr_usage_data = _processor.get_all_datasets()"
      ],
      "execution_count": 9,
      "outputs": [
        {
          "output_type": "stream",
          "text": [
            "# clean data\n",
            "# mutate data\n",
            "# merge data\n",
            "# Merge - uom_space + floor_data\n",
            "((22166, 14), (22166, 15))\n",
            "Unable to merge records: 0\n",
            "# Merge - enhanced_uom_space + rm_category_type\n",
            "((22166, 15), (22166, 18))\n",
            "Unable to merge records: 0\n",
            "# merge - space_data + em_location\n",
            "((7709, 4), (6962, 19))\n",
            "Unable to merge records: 747\n",
            "# merge - space_data + av_equipment\n",
            "((1964, 11), (1646, 25))\n",
            "Unable to merge records: 318\n",
            "# merge - space_data + timetable_data\n",
            "((119419, 27), (116981, 42))\n",
            "Unable to merge records: 2438\n",
            "# merge - space_data + meeting_room_usage\n",
            "((890, 22), (728, 36))\n",
            "Unable to merge records: 162\n"
          ],
          "name": "stdout"
        }
      ]
    },
    {
      "cell_type": "code",
      "metadata": {
        "colab_type": "code",
        "id": "8J2BCDK2MqIy",
        "colab": {}
      },
      "source": [
        "class DataExtractor():\n",
        "\n",
        "    def get_meeting_rooms_data(self,rm_category_type_df,space_data):\n",
        "        # possible meeting rooms\n",
        "        possible_rooms = rm_category_type_df[rm_category_type_df['Room Type'].str.contains(\"601|629\")]\n",
        "        meeting_room_types = possible_rooms['Room Type'].tolist()\n",
        "\n",
        "        # supply of meeting rooms\n",
        "        possible_meeting_rooms_df = space_data[space_data['Room Type'].isin(meeting_room_types)]\n",
        "        return possible_meeting_rooms_df\n",
        "\n",
        "    def get_toilets_data(self,rm_category_type_df,space_data):\n",
        "        possible_rooms = rm_category_type_df[rm_category_type_df['Room Type Definition'].str.contains(\"toilet|washroom\")]\n",
        "        toilet_room_types = possible_rooms['Room Type'].tolist()\n",
        "\n",
        "        possible_toilets_df = space_data[space_data['Room Type'].isin(toilet_room_types)]\n",
        "        return possible_toilets_df"
      ],
      "execution_count": 10,
      "outputs": []
    },
    {
      "cell_type": "code",
      "metadata": {
        "colab_type": "code",
        "id": "TO3sBeKfNJ1h",
        "colab": {}
      },
      "source": [
        "_extractor = DataExtractor()\n",
        "possible_meeting_rooms_data = _extractor.get_meeting_rooms_data(_processor.rm_category_type_df, space_data)\n",
        "possible_toilets_data = _extractor.get_toilets_data(_processor.rm_category_type_df, space_data)"
      ],
      "execution_count": 11,
      "outputs": []
    },
    {
      "cell_type": "markdown",
      "metadata": {
        "colab_type": "text",
        "id": "6pQq-sBpLqDh"
      },
      "source": [
        "## Floor based prediction model"
      ]
    },
    {
      "cell_type": "code",
      "metadata": {
        "colab_type": "code",
        "id": "KNKeWjbhMXfk",
        "colab": {
          "base_uri": "https://localhost:8080/",
          "height": 513
        },
        "outputId": "4705f540-e84f-4033-baab-992d0afb47be"
      },
      "source": [
        "space_data.head(5)"
      ],
      "execution_count": 12,
      "outputs": [
        {
          "output_type": "execute_result",
          "data": {
            "text/html": [
              "<div>\n",
              "<style scoped>\n",
              "    .dataframe tbody tr th:only-of-type {\n",
              "        vertical-align: middle;\n",
              "    }\n",
              "\n",
              "    .dataframe tbody tr th {\n",
              "        vertical-align: top;\n",
              "    }\n",
              "\n",
              "    .dataframe thead th {\n",
              "        text-align: right;\n",
              "    }\n",
              "</style>\n",
              "<table border=\"1\" class=\"dataframe\">\n",
              "  <thead>\n",
              "    <tr style=\"text-align: right;\">\n",
              "      <th></th>\n",
              "      <th>Campus Code</th>\n",
              "      <th>Building Code</th>\n",
              "      <th>Building Name</th>\n",
              "      <th>Floor Code</th>\n",
              "      <th>Room Code</th>\n",
              "      <th>Room Name</th>\n",
              "      <th>Room Category</th>\n",
              "      <th>Room Type</th>\n",
              "      <th>Room Type Abbreviation_x</th>\n",
              "      <th>Room Capacity</th>\n",
              "      <th>Room Area m²</th>\n",
              "      <th>Room Condition 2018</th>\n",
              "      <th>Department Code</th>\n",
              "      <th>Room Location Code</th>\n",
              "      <th>Floor Name</th>\n",
              "      <th>Room Type Abbreviation_y</th>\n",
              "      <th>Description</th>\n",
              "      <th>Room Type Definition</th>\n",
              "    </tr>\n",
              "  </thead>\n",
              "  <tbody>\n",
              "    <tr>\n",
              "      <th>0</th>\n",
              "      <td>PAR</td>\n",
              "      <td>101</td>\n",
              "      <td>BEAUREPAIRE CENTRE</td>\n",
              "      <td>0</td>\n",
              "      <td>CG01</td>\n",
              "      <td>NaN</td>\n",
              "      <td>6</td>\n",
              "      <td>631</td>\n",
              "      <td>Circ-Department</td>\n",
              "      <td>0.0</td>\n",
              "      <td>80.62</td>\n",
              "      <td>NaN</td>\n",
              "      <td>8490</td>\n",
              "      <td>PAR;101;0;CG01</td>\n",
              "      <td>Ground</td>\n",
              "      <td>circ-department</td>\n",
              "      <td>circulation - department</td>\n",
              "      <td>a corridor allocated to a specific faculty tha...</td>\n",
              "    </tr>\n",
              "    <tr>\n",
              "      <th>1</th>\n",
              "      <td>PAR</td>\n",
              "      <td>101</td>\n",
              "      <td>BEAUREPAIRE CENTRE</td>\n",
              "      <td>0</td>\n",
              "      <td>CG03</td>\n",
              "      <td>NaN</td>\n",
              "      <td>6</td>\n",
              "      <td>631</td>\n",
              "      <td>Circ-Department</td>\n",
              "      <td>0.0</td>\n",
              "      <td>14.12</td>\n",
              "      <td>NaN</td>\n",
              "      <td>8490</td>\n",
              "      <td>PAR;101;0;CG03</td>\n",
              "      <td>Ground</td>\n",
              "      <td>circ-department</td>\n",
              "      <td>circulation - department</td>\n",
              "      <td>a corridor allocated to a specific faculty tha...</td>\n",
              "    </tr>\n",
              "    <tr>\n",
              "      <th>2</th>\n",
              "      <td>PAR</td>\n",
              "      <td>101</td>\n",
              "      <td>BEAUREPAIRE CENTRE</td>\n",
              "      <td>1</td>\n",
              "      <td>C101</td>\n",
              "      <td>NaN</td>\n",
              "      <td>6</td>\n",
              "      <td>631</td>\n",
              "      <td>Circ-Department</td>\n",
              "      <td>0.0</td>\n",
              "      <td>5.79</td>\n",
              "      <td>NaN</td>\n",
              "      <td>8490</td>\n",
              "      <td>PAR;101;1;C101</td>\n",
              "      <td>Level 1</td>\n",
              "      <td>circ-department</td>\n",
              "      <td>circulation - department</td>\n",
              "      <td>a corridor allocated to a specific faculty tha...</td>\n",
              "    </tr>\n",
              "    <tr>\n",
              "      <th>3</th>\n",
              "      <td>PAR</td>\n",
              "      <td>101</td>\n",
              "      <td>BEAUREPAIRE CENTRE</td>\n",
              "      <td>1</td>\n",
              "      <td>C102</td>\n",
              "      <td>NaN</td>\n",
              "      <td>6</td>\n",
              "      <td>631</td>\n",
              "      <td>Circ-Department</td>\n",
              "      <td>0.0</td>\n",
              "      <td>5.77</td>\n",
              "      <td>NaN</td>\n",
              "      <td>8490</td>\n",
              "      <td>PAR;101;1;C102</td>\n",
              "      <td>Level 1</td>\n",
              "      <td>circ-department</td>\n",
              "      <td>circulation - department</td>\n",
              "      <td>a corridor allocated to a specific faculty tha...</td>\n",
              "    </tr>\n",
              "    <tr>\n",
              "      <th>4</th>\n",
              "      <td>PAR</td>\n",
              "      <td>101</td>\n",
              "      <td>BEAUREPAIRE CENTRE</td>\n",
              "      <td>1</td>\n",
              "      <td>C103</td>\n",
              "      <td>NaN</td>\n",
              "      <td>6</td>\n",
              "      <td>631</td>\n",
              "      <td>Circ-Department</td>\n",
              "      <td>0.0</td>\n",
              "      <td>23.87</td>\n",
              "      <td>NaN</td>\n",
              "      <td>8490</td>\n",
              "      <td>PAR;101;1;C103</td>\n",
              "      <td>Level 1</td>\n",
              "      <td>circ-department</td>\n",
              "      <td>circulation - department</td>\n",
              "      <td>a corridor allocated to a specific faculty tha...</td>\n",
              "    </tr>\n",
              "  </tbody>\n",
              "</table>\n",
              "</div>"
            ],
            "text/plain": [
              "  Campus Code  ...                               Room Type Definition\n",
              "0         PAR  ...  a corridor allocated to a specific faculty tha...\n",
              "1         PAR  ...  a corridor allocated to a specific faculty tha...\n",
              "2         PAR  ...  a corridor allocated to a specific faculty tha...\n",
              "3         PAR  ...  a corridor allocated to a specific faculty tha...\n",
              "4         PAR  ...  a corridor allocated to a specific faculty tha...\n",
              "\n",
              "[5 rows x 18 columns]"
            ]
          },
          "metadata": {
            "tags": []
          },
          "execution_count": 12
        }
      ]
    },
    {
      "cell_type": "code",
      "metadata": {
        "id": "eFAP8lG_fkId",
        "colab_type": "code",
        "colab": {
          "base_uri": "https://localhost:8080/",
          "height": 136
        },
        "outputId": "d0151c4d-1797-4ff1-b58d-ff6ae1ba9860"
      },
      "source": [
        "space_data.columns"
      ],
      "execution_count": 13,
      "outputs": [
        {
          "output_type": "execute_result",
          "data": {
            "text/plain": [
              "Index(['Campus Code', 'Building Code', 'Building Name', 'Floor Code',\n",
              "       'Room Code', 'Room Name', 'Room Category', 'Room Type',\n",
              "       'Room Type Abbreviation_x', 'Room Capacity', 'Room Area m²',\n",
              "       'Room Condition 2018', 'Department Code', 'Room Location Code',\n",
              "       'Floor Name', 'Room Type Abbreviation_y', 'Description',\n",
              "       'Room Type Definition'],\n",
              "      dtype='object')"
            ]
          },
          "metadata": {
            "tags": []
          },
          "execution_count": 13
        }
      ]
    },
    {
      "cell_type": "code",
      "metadata": {
        "id": "q_xfDhPJfkIh",
        "colab_type": "code",
        "colab": {}
      },
      "source": [
        "# find out the number of meeting rooms with excellent, very good, good condition\n",
        "import numpy as np\n",
        "possible_meeting_rooms_data[\"Good\"] = np.where((possible_meeting_rooms_data['Room Condition 2018'] == \"Good\"), 1, 0)\n",
        "possible_meeting_rooms_data[\"Excellent\"] = np.where((possible_meeting_rooms_data['Room Condition 2018'] == \"Excellent\"), 1, 0)\n",
        "possible_meeting_rooms_data[\"Very Good\"] = np.where((possible_meeting_rooms_data['Room Condition 2018'] == \"Very Good\"), 1, 0)"
      ],
      "execution_count": 14,
      "outputs": []
    },
    {
      "cell_type": "code",
      "metadata": {
        "colab_type": "code",
        "id": "J_aHe4fpbW1a",
        "colab": {}
      },
      "source": [
        "building_code = '104'"
      ],
      "execution_count": 15,
      "outputs": []
    },
    {
      "cell_type": "code",
      "metadata": {
        "colab_type": "code",
        "id": "SNmuCfucLu9V",
        "colab": {
          "base_uri": "https://localhost:8080/",
          "height": 34
        },
        "outputId": "7c276230-9b52-4655-be50-6eb006fdac78"
      },
      "source": [
        "# alan gilbert building\n",
        "data_104 = space_data[space_data['Building Code']==building_code]\n",
        "data_104.shape"
      ],
      "execution_count": 16,
      "outputs": [
        {
          "output_type": "execute_result",
          "data": {
            "text/plain": [
              "(486, 18)"
            ]
          },
          "metadata": {
            "tags": []
          },
          "execution_count": 16
        }
      ]
    },
    {
      "cell_type": "code",
      "metadata": {
        "colab_type": "code",
        "id": "ofIphmruSKjL",
        "colab": {
          "base_uri": "https://localhost:8080/",
          "height": 452
        },
        "outputId": "2071c52d-a207-4020-cd35-fb9de5f8d875"
      },
      "source": [
        "possible_floors_104 = data_104.groupby(by=['Floor Code','Floor Name'],as_index=False).agg({'Room Code':pd.Series.nunique})\n",
        "possible_floors_104"
      ],
      "execution_count": 17,
      "outputs": [
        {
          "output_type": "execute_result",
          "data": {
            "text/html": [
              "<div>\n",
              "<style scoped>\n",
              "    .dataframe tbody tr th:only-of-type {\n",
              "        vertical-align: middle;\n",
              "    }\n",
              "\n",
              "    .dataframe tbody tr th {\n",
              "        vertical-align: top;\n",
              "    }\n",
              "\n",
              "    .dataframe thead th {\n",
              "        text-align: right;\n",
              "    }\n",
              "</style>\n",
              "<table border=\"1\" class=\"dataframe\">\n",
              "  <thead>\n",
              "    <tr style=\"text-align: right;\">\n",
              "      <th></th>\n",
              "      <th>Floor Code</th>\n",
              "      <th>Floor Name</th>\n",
              "      <th>Room Code</th>\n",
              "    </tr>\n",
              "  </thead>\n",
              "  <tbody>\n",
              "    <tr>\n",
              "      <th>0</th>\n",
              "      <td>0</td>\n",
              "      <td>Ground</td>\n",
              "      <td>35</td>\n",
              "    </tr>\n",
              "    <tr>\n",
              "      <th>1</th>\n",
              "      <td>0.1</td>\n",
              "      <td>Basement 1</td>\n",
              "      <td>19</td>\n",
              "    </tr>\n",
              "    <tr>\n",
              "      <th>2</th>\n",
              "      <td>0.5</td>\n",
              "      <td>Ground Mezzanine</td>\n",
              "      <td>2</td>\n",
              "    </tr>\n",
              "    <tr>\n",
              "      <th>3</th>\n",
              "      <td>1</td>\n",
              "      <td>Level 1</td>\n",
              "      <td>45</td>\n",
              "    </tr>\n",
              "    <tr>\n",
              "      <th>4</th>\n",
              "      <td>2</td>\n",
              "      <td>Level 2</td>\n",
              "      <td>74</td>\n",
              "    </tr>\n",
              "    <tr>\n",
              "      <th>5</th>\n",
              "      <td>3</td>\n",
              "      <td>Level 3</td>\n",
              "      <td>38</td>\n",
              "    </tr>\n",
              "    <tr>\n",
              "      <th>6</th>\n",
              "      <td>4</td>\n",
              "      <td>Level 4</td>\n",
              "      <td>73</td>\n",
              "    </tr>\n",
              "    <tr>\n",
              "      <th>7</th>\n",
              "      <td>5</td>\n",
              "      <td>Level 5</td>\n",
              "      <td>62</td>\n",
              "    </tr>\n",
              "    <tr>\n",
              "      <th>8</th>\n",
              "      <td>6</td>\n",
              "      <td>Level 6</td>\n",
              "      <td>63</td>\n",
              "    </tr>\n",
              "    <tr>\n",
              "      <th>9</th>\n",
              "      <td>7</td>\n",
              "      <td>Level 7</td>\n",
              "      <td>57</td>\n",
              "    </tr>\n",
              "    <tr>\n",
              "      <th>10</th>\n",
              "      <td>8</td>\n",
              "      <td>Level 8</td>\n",
              "      <td>12</td>\n",
              "    </tr>\n",
              "    <tr>\n",
              "      <th>11</th>\n",
              "      <td>8.5</td>\n",
              "      <td>Level 8 Mezzanine</td>\n",
              "      <td>5</td>\n",
              "    </tr>\n",
              "    <tr>\n",
              "      <th>12</th>\n",
              "      <td>R</td>\n",
              "      <td>Roof</td>\n",
              "      <td>1</td>\n",
              "    </tr>\n",
              "  </tbody>\n",
              "</table>\n",
              "</div>"
            ],
            "text/plain": [
              "   Floor Code         Floor Name  Room Code\n",
              "0           0             Ground         35\n",
              "1         0.1         Basement 1         19\n",
              "2         0.5   Ground Mezzanine          2\n",
              "3           1            Level 1         45\n",
              "4           2            Level 2         74\n",
              "5           3            Level 3         38\n",
              "6           4            Level 4         73\n",
              "7           5            Level 5         62\n",
              "8           6            Level 6         63\n",
              "9           7            Level 7         57\n",
              "10          8            Level 8         12\n",
              "11        8.5  Level 8 Mezzanine          5\n",
              "12          R               Roof          1"
            ]
          },
          "metadata": {
            "tags": []
          },
          "execution_count": 17
        }
      ]
    },
    {
      "cell_type": "code",
      "metadata": {
        "colab_type": "code",
        "id": "lza21DFANbjM",
        "colab": {
          "base_uri": "https://localhost:8080/",
          "height": 34
        },
        "outputId": "4223f28c-dad0-4262-9973-d5e137dac85d"
      },
      "source": [
        "meeting_rooms_104 = possible_meeting_rooms_data[possible_meeting_rooms_data['Building Code']==building_code]\n",
        "meeting_rooms_104.shape"
      ],
      "execution_count": 18,
      "outputs": [
        {
          "output_type": "execute_result",
          "data": {
            "text/plain": [
              "(33, 21)"
            ]
          },
          "metadata": {
            "tags": []
          },
          "execution_count": 18
        }
      ]
    },
    {
      "cell_type": "code",
      "metadata": {
        "id": "VzQefTyyfkIu",
        "colab_type": "code",
        "colab": {}
      },
      "source": [
        "room_condition_104 = meeting_rooms_104.groupby(by=['Floor Code','Floor Name','Room Condition 2018'],as_index=False).agg({'Room Code':pd.Series.nunique})"
      ],
      "execution_count": 19,
      "outputs": []
    },
    {
      "cell_type": "code",
      "metadata": {
        "id": "D_9Qjg4ifkIw",
        "colab_type": "code",
        "colab": {
          "base_uri": "https://localhost:8080/",
          "height": 266
        },
        "outputId": "1b21ea8d-851f-4a7a-9633-39eae0832f19"
      },
      "source": [
        "room_condition_104"
      ],
      "execution_count": 20,
      "outputs": [
        {
          "output_type": "execute_result",
          "data": {
            "text/html": [
              "<div>\n",
              "<style scoped>\n",
              "    .dataframe tbody tr th:only-of-type {\n",
              "        vertical-align: middle;\n",
              "    }\n",
              "\n",
              "    .dataframe tbody tr th {\n",
              "        vertical-align: top;\n",
              "    }\n",
              "\n",
              "    .dataframe thead th {\n",
              "        text-align: right;\n",
              "    }\n",
              "</style>\n",
              "<table border=\"1\" class=\"dataframe\">\n",
              "  <thead>\n",
              "    <tr style=\"text-align: right;\">\n",
              "      <th></th>\n",
              "      <th>Floor Code</th>\n",
              "      <th>Floor Name</th>\n",
              "      <th>Room Condition 2018</th>\n",
              "      <th>Room Code</th>\n",
              "    </tr>\n",
              "  </thead>\n",
              "  <tbody>\n",
              "    <tr>\n",
              "      <th>0</th>\n",
              "      <td>1</td>\n",
              "      <td>Level 1</td>\n",
              "      <td>Excellent</td>\n",
              "      <td>2</td>\n",
              "    </tr>\n",
              "    <tr>\n",
              "      <th>1</th>\n",
              "      <td>2</td>\n",
              "      <td>Level 2</td>\n",
              "      <td>Good</td>\n",
              "      <td>5</td>\n",
              "    </tr>\n",
              "    <tr>\n",
              "      <th>2</th>\n",
              "      <td>3</td>\n",
              "      <td>Level 3</td>\n",
              "      <td>Good</td>\n",
              "      <td>1</td>\n",
              "    </tr>\n",
              "    <tr>\n",
              "      <th>3</th>\n",
              "      <td>4</td>\n",
              "      <td>Level 4</td>\n",
              "      <td>Excellent</td>\n",
              "      <td>12</td>\n",
              "    </tr>\n",
              "    <tr>\n",
              "      <th>4</th>\n",
              "      <td>5</td>\n",
              "      <td>Level 5</td>\n",
              "      <td>Excellent</td>\n",
              "      <td>8</td>\n",
              "    </tr>\n",
              "    <tr>\n",
              "      <th>5</th>\n",
              "      <td>6</td>\n",
              "      <td>Level 6</td>\n",
              "      <td>Excellent</td>\n",
              "      <td>3</td>\n",
              "    </tr>\n",
              "    <tr>\n",
              "      <th>6</th>\n",
              "      <td>7</td>\n",
              "      <td>Level 7</td>\n",
              "      <td>Excellent</td>\n",
              "      <td>2</td>\n",
              "    </tr>\n",
              "  </tbody>\n",
              "</table>\n",
              "</div>"
            ],
            "text/plain": [
              "  Floor Code Floor Name Room Condition 2018  Room Code\n",
              "0          1    Level 1           Excellent          2\n",
              "1          2    Level 2                Good          5\n",
              "2          3    Level 3                Good          1\n",
              "3          4    Level 4           Excellent         12\n",
              "4          5    Level 5           Excellent          8\n",
              "5          6    Level 6           Excellent          3\n",
              "6          7    Level 7           Excellent          2"
            ]
          },
          "metadata": {
            "tags": []
          },
          "execution_count": 20
        }
      ]
    },
    {
      "cell_type": "code",
      "metadata": {
        "id": "TUr7eUYvfkIz",
        "colab_type": "code",
        "colab": {
          "base_uri": "https://localhost:8080/",
          "height": 266
        },
        "outputId": "e57ee738-731a-449c-bfd3-93d6e652b9eb"
      },
      "source": [
        "meeting_rooms_104.groupby(by = ['Floor Code','Floor Name'], as_index=False).agg({'Good':sum, 'Very Good':sum, 'Excellent':sum,'Room Capacity':sum})"
      ],
      "execution_count": 60,
      "outputs": [
        {
          "output_type": "execute_result",
          "data": {
            "text/html": [
              "<div>\n",
              "<style scoped>\n",
              "    .dataframe tbody tr th:only-of-type {\n",
              "        vertical-align: middle;\n",
              "    }\n",
              "\n",
              "    .dataframe tbody tr th {\n",
              "        vertical-align: top;\n",
              "    }\n",
              "\n",
              "    .dataframe thead th {\n",
              "        text-align: right;\n",
              "    }\n",
              "</style>\n",
              "<table border=\"1\" class=\"dataframe\">\n",
              "  <thead>\n",
              "    <tr style=\"text-align: right;\">\n",
              "      <th></th>\n",
              "      <th>Floor Code</th>\n",
              "      <th>Floor Name</th>\n",
              "      <th>Good</th>\n",
              "      <th>Very Good</th>\n",
              "      <th>Excellent</th>\n",
              "      <th>Room Capacity</th>\n",
              "    </tr>\n",
              "  </thead>\n",
              "  <tbody>\n",
              "    <tr>\n",
              "      <th>0</th>\n",
              "      <td>1</td>\n",
              "      <td>Level 1</td>\n",
              "      <td>0</td>\n",
              "      <td>0</td>\n",
              "      <td>2</td>\n",
              "      <td>8.0</td>\n",
              "    </tr>\n",
              "    <tr>\n",
              "      <th>1</th>\n",
              "      <td>2</td>\n",
              "      <td>Level 2</td>\n",
              "      <td>5</td>\n",
              "      <td>0</td>\n",
              "      <td>0</td>\n",
              "      <td>58.0</td>\n",
              "    </tr>\n",
              "    <tr>\n",
              "      <th>2</th>\n",
              "      <td>3</td>\n",
              "      <td>Level 3</td>\n",
              "      <td>1</td>\n",
              "      <td>0</td>\n",
              "      <td>0</td>\n",
              "      <td>6.0</td>\n",
              "    </tr>\n",
              "    <tr>\n",
              "      <th>3</th>\n",
              "      <td>4</td>\n",
              "      <td>Level 4</td>\n",
              "      <td>0</td>\n",
              "      <td>0</td>\n",
              "      <td>12</td>\n",
              "      <td>76.0</td>\n",
              "    </tr>\n",
              "    <tr>\n",
              "      <th>4</th>\n",
              "      <td>5</td>\n",
              "      <td>Level 5</td>\n",
              "      <td>0</td>\n",
              "      <td>0</td>\n",
              "      <td>8</td>\n",
              "      <td>84.0</td>\n",
              "    </tr>\n",
              "    <tr>\n",
              "      <th>5</th>\n",
              "      <td>6</td>\n",
              "      <td>Level 6</td>\n",
              "      <td>0</td>\n",
              "      <td>0</td>\n",
              "      <td>3</td>\n",
              "      <td>16.0</td>\n",
              "    </tr>\n",
              "    <tr>\n",
              "      <th>6</th>\n",
              "      <td>7</td>\n",
              "      <td>Level 7</td>\n",
              "      <td>0</td>\n",
              "      <td>0</td>\n",
              "      <td>2</td>\n",
              "      <td>33.0</td>\n",
              "    </tr>\n",
              "  </tbody>\n",
              "</table>\n",
              "</div>"
            ],
            "text/plain": [
              "  Floor Code Floor Name  Good  Very Good  Excellent  Room Capacity\n",
              "0          1    Level 1     0          0          2            8.0\n",
              "1          2    Level 2     5          0          0           58.0\n",
              "2          3    Level 3     1          0          0            6.0\n",
              "3          4    Level 4     0          0         12           76.0\n",
              "4          5    Level 5     0          0          8           84.0\n",
              "5          6    Level 6     0          0          3           16.0\n",
              "6          7    Level 7     0          0          2           33.0"
            ]
          },
          "metadata": {
            "tags": []
          },
          "execution_count": 60
        }
      ]
    },
    {
      "cell_type": "code",
      "metadata": {
        "colab_type": "code",
        "id": "oIBzmBrcNxUL",
        "colab": {
          "base_uri": "https://localhost:8080/",
          "height": 153
        },
        "outputId": "fae629ca-307a-4715-da4d-77a60e7cee5c"
      },
      "source": [
        "# props of good condition meeting rooms\n",
        "meeting_rooms_104_by_floor = meeting_rooms_104.groupby(by = ['Floor Code','Floor Name'], as_index=False).agg({'Good':sum, 'Very Good':sum, 'Excellent':sum,'Room Capacity':sum,'Room Capacity':sum, 'Room Code':pd.Series.nunique})\n",
        "print(meeting_rooms_104_by_floor)"
      ],
      "execution_count": 110,
      "outputs": [
        {
          "output_type": "stream",
          "text": [
            "  Floor Code Floor Name  Good  Very Good  Excellent  Room Capacity  Room Code\n",
            "0          1    Level 1     0          0          2            8.0          2\n",
            "1          2    Level 2     5          0          0           58.0          5\n",
            "2          3    Level 3     1          0          0            6.0          1\n",
            "3          4    Level 4     0          0         12           76.0         12\n",
            "4          5    Level 5     0          0          8           84.0          8\n",
            "5          6    Level 6     0          0          3           16.0          3\n",
            "6          7    Level 7     0          0          2           33.0          2\n"
          ],
          "name": "stdout"
        }
      ]
    },
    {
      "cell_type": "code",
      "metadata": {
        "id": "0WnZpXHTfkI4",
        "colab_type": "code",
        "colab": {
          "base_uri": "https://localhost:8080/",
          "height": 34
        },
        "outputId": "4e8875d6-3cff-4bb1-a200-b60201b62cad"
      },
      "source": [
        "meeting_rooms_104_by_floor['Room Code'].sum()"
      ],
      "execution_count": 23,
      "outputs": [
        {
          "output_type": "execute_result",
          "data": {
            "text/plain": [
              "33"
            ]
          },
          "metadata": {
            "tags": []
          },
          "execution_count": 23
        }
      ]
    },
    {
      "cell_type": "code",
      "metadata": {
        "colab_type": "code",
        "id": "BOXXzWHzViRd",
        "colab": {
          "base_uri": "https://localhost:8080/",
          "height": 80
        },
        "outputId": "814943e1-834a-4859-941f-ed4ca48b1460"
      },
      "source": [
        "meeting_rooms_104_by_floor[meeting_rooms_104_by_floor['Floor Code']=='1']"
      ],
      "execution_count": 24,
      "outputs": [
        {
          "output_type": "execute_result",
          "data": {
            "text/html": [
              "<div>\n",
              "<style scoped>\n",
              "    .dataframe tbody tr th:only-of-type {\n",
              "        vertical-align: middle;\n",
              "    }\n",
              "\n",
              "    .dataframe tbody tr th {\n",
              "        vertical-align: top;\n",
              "    }\n",
              "\n",
              "    .dataframe thead th {\n",
              "        text-align: right;\n",
              "    }\n",
              "</style>\n",
              "<table border=\"1\" class=\"dataframe\">\n",
              "  <thead>\n",
              "    <tr style=\"text-align: right;\">\n",
              "      <th></th>\n",
              "      <th>Floor Code</th>\n",
              "      <th>Floor Name</th>\n",
              "      <th>Good</th>\n",
              "      <th>Very Good</th>\n",
              "      <th>Excellent</th>\n",
              "      <th>Room Capacity</th>\n",
              "      <th>Room Code</th>\n",
              "    </tr>\n",
              "  </thead>\n",
              "  <tbody>\n",
              "    <tr>\n",
              "      <th>0</th>\n",
              "      <td>1</td>\n",
              "      <td>Level 1</td>\n",
              "      <td>0</td>\n",
              "      <td>0</td>\n",
              "      <td>2</td>\n",
              "      <td>8.0</td>\n",
              "      <td>2</td>\n",
              "    </tr>\n",
              "  </tbody>\n",
              "</table>\n",
              "</div>"
            ],
            "text/plain": [
              "  Floor Code Floor Name  Good  Very Good  Excellent  Room Capacity  Room Code\n",
              "0          1    Level 1     0          0          2            8.0          2"
            ]
          },
          "metadata": {
            "tags": []
          },
          "execution_count": 24
        }
      ]
    },
    {
      "cell_type": "code",
      "metadata": {
        "colab_type": "code",
        "id": "qrXCiXuIOwbK",
        "colab": {
          "base_uri": "https://localhost:8080/",
          "height": 34
        },
        "outputId": "aa566ab7-c867-4f4d-f342-be3b5be9b3c5"
      },
      "source": [
        "em_104 = employee_data[employee_data['Building Code']==building_code]\n",
        "em_104.shape"
      ],
      "execution_count": 25,
      "outputs": [
        {
          "output_type": "execute_result",
          "data": {
            "text/plain": [
              "(329, 19)"
            ]
          },
          "metadata": {
            "tags": []
          },
          "execution_count": 25
        }
      ]
    },
    {
      "cell_type": "code",
      "metadata": {
        "colab_type": "code",
        "id": "y_WFMU7EO6hU",
        "colab": {
          "base_uri": "https://localhost:8080/",
          "height": 266
        },
        "outputId": "f0215372-ab50-46bc-9fd2-8b1dbdb5a301"
      },
      "source": [
        "em_104_by_floor = em_104.groupby(by=['Floor Code','Floor Name'], as_index=False).agg({'Employee Sequential ID':pd.Series.nunique})\n",
        "em_104_by_floor['props']  = em_104_by_floor['Employee Sequential ID']/em_104.shape[0]\n",
        "em_104_by_floor"
      ],
      "execution_count": 26,
      "outputs": [
        {
          "output_type": "execute_result",
          "data": {
            "text/html": [
              "<div>\n",
              "<style scoped>\n",
              "    .dataframe tbody tr th:only-of-type {\n",
              "        vertical-align: middle;\n",
              "    }\n",
              "\n",
              "    .dataframe tbody tr th {\n",
              "        vertical-align: top;\n",
              "    }\n",
              "\n",
              "    .dataframe thead th {\n",
              "        text-align: right;\n",
              "    }\n",
              "</style>\n",
              "<table border=\"1\" class=\"dataframe\">\n",
              "  <thead>\n",
              "    <tr style=\"text-align: right;\">\n",
              "      <th></th>\n",
              "      <th>Floor Code</th>\n",
              "      <th>Floor Name</th>\n",
              "      <th>Employee Sequential ID</th>\n",
              "      <th>props</th>\n",
              "    </tr>\n",
              "  </thead>\n",
              "  <tbody>\n",
              "    <tr>\n",
              "      <th>0</th>\n",
              "      <td>0</td>\n",
              "      <td>Ground</td>\n",
              "      <td>10</td>\n",
              "      <td>0.030395</td>\n",
              "    </tr>\n",
              "    <tr>\n",
              "      <th>1</th>\n",
              "      <td>1</td>\n",
              "      <td>Level 1</td>\n",
              "      <td>29</td>\n",
              "      <td>0.088146</td>\n",
              "    </tr>\n",
              "    <tr>\n",
              "      <th>2</th>\n",
              "      <td>2</td>\n",
              "      <td>Level 2</td>\n",
              "      <td>61</td>\n",
              "      <td>0.185410</td>\n",
              "    </tr>\n",
              "    <tr>\n",
              "      <th>3</th>\n",
              "      <td>4</td>\n",
              "      <td>Level 4</td>\n",
              "      <td>68</td>\n",
              "      <td>0.206687</td>\n",
              "    </tr>\n",
              "    <tr>\n",
              "      <th>4</th>\n",
              "      <td>5</td>\n",
              "      <td>Level 5</td>\n",
              "      <td>40</td>\n",
              "      <td>0.121581</td>\n",
              "    </tr>\n",
              "    <tr>\n",
              "      <th>5</th>\n",
              "      <td>6</td>\n",
              "      <td>Level 6</td>\n",
              "      <td>76</td>\n",
              "      <td>0.231003</td>\n",
              "    </tr>\n",
              "    <tr>\n",
              "      <th>6</th>\n",
              "      <td>7</td>\n",
              "      <td>Level 7</td>\n",
              "      <td>45</td>\n",
              "      <td>0.136778</td>\n",
              "    </tr>\n",
              "  </tbody>\n",
              "</table>\n",
              "</div>"
            ],
            "text/plain": [
              "  Floor Code Floor Name  Employee Sequential ID     props\n",
              "0          0     Ground                      10  0.030395\n",
              "1          1    Level 1                      29  0.088146\n",
              "2          2    Level 2                      61  0.185410\n",
              "3          4    Level 4                      68  0.206687\n",
              "4          5    Level 5                      40  0.121581\n",
              "5          6    Level 6                      76  0.231003\n",
              "6          7    Level 7                      45  0.136778"
            ]
          },
          "metadata": {
            "tags": []
          },
          "execution_count": 26
        }
      ]
    },
    {
      "cell_type": "code",
      "metadata": {
        "id": "q6ru7UH3fkJD",
        "colab_type": "code",
        "colab": {
          "base_uri": "https://localhost:8080/",
          "height": 170
        },
        "outputId": "74c4cbfd-54ea-4dab-9e31-87295e33180f"
      },
      "source": [
        "av_equipment_data.columns"
      ],
      "execution_count": 27,
      "outputs": [
        {
          "output_type": "execute_result",
          "data": {
            "text/plain": [
              "Index(['Equipment Code', 'Equipment Standard', 'Manufacturer', 'Equip. Status',\n",
              "       'Building Code', 'Floor Code', 'Room Code', 'Campus Code',\n",
              "       'Room Type_x', 'Room Type Abbreviation', 'Room Category_x',\n",
              "       'Building Name', 'Room Name', 'Room Category_y', 'Room Type_y',\n",
              "       'Room Type Abbreviation_x', 'Room Capacity', 'Room Area m²',\n",
              "       'Room Condition 2018', 'Department Code', 'Room Location Code',\n",
              "       'Floor Name', 'Room Type Abbreviation_y', 'Description',\n",
              "       'Room Type Definition'],\n",
              "      dtype='object')"
            ]
          },
          "metadata": {
            "tags": []
          },
          "execution_count": 27
        }
      ]
    },
    {
      "cell_type": "code",
      "metadata": {
        "id": "-FQv08bwfkJG",
        "colab_type": "code",
        "colab": {}
      },
      "source": [
        "# get equipment data for meeting rooms\n",
        "meetingroom_equipment = av_equipment_data[av_equipment_data['Room Type_x'].str.contains(\"601|629\")]\n",
        "# find out number of equip. in use\n",
        "meetingroom_equipment[\"Usable Equip.\"] = np.where((meetingroom_equipment['Equip. Status'] == \"In service\"), 1, 0)\n",
        "\n",
        "equipment_104 = meetingroom_equipment[meetingroom_equipment['Building Code']==building_code]"
      ],
      "execution_count": 28,
      "outputs": []
    },
    {
      "cell_type": "code",
      "metadata": {
        "id": "oBnOVJzlfkJI",
        "colab_type": "code",
        "colab": {
          "base_uri": "https://localhost:8080/",
          "height": 170
        },
        "outputId": "f4a71727-cb68-4808-c393-2d23d1aed2f7"
      },
      "source": [
        "equipment_104.columns"
      ],
      "execution_count": 29,
      "outputs": [
        {
          "output_type": "execute_result",
          "data": {
            "text/plain": [
              "Index(['Equipment Code', 'Equipment Standard', 'Manufacturer', 'Equip. Status',\n",
              "       'Building Code', 'Floor Code', 'Room Code', 'Campus Code',\n",
              "       'Room Type_x', 'Room Type Abbreviation', 'Room Category_x',\n",
              "       'Building Name', 'Room Name', 'Room Category_y', 'Room Type_y',\n",
              "       'Room Type Abbreviation_x', 'Room Capacity', 'Room Area m²',\n",
              "       'Room Condition 2018', 'Department Code', 'Room Location Code',\n",
              "       'Floor Name', 'Room Type Abbreviation_y', 'Description',\n",
              "       'Room Type Definition', 'Usable Equip.'],\n",
              "      dtype='object')"
            ]
          },
          "metadata": {
            "tags": []
          },
          "execution_count": 29
        }
      ]
    },
    {
      "cell_type": "code",
      "metadata": {
        "id": "oBDA-NUsfkJL",
        "colab_type": "code",
        "colab": {}
      },
      "source": [
        "equipment_by_floor = equipment_104.groupby(by=['Floor Code','Floor Name'], as_index=False).agg({'Usable Equip.':sum})\n",
        "\n",
        "equipment_by_floor[\"props\"] = equipment_by_floor['Usable Equip.']/equipment_104.shape[0]"
      ],
      "execution_count": 30,
      "outputs": []
    },
    {
      "cell_type": "code",
      "metadata": {
        "id": "BlYwpuZsfkJQ",
        "colab_type": "code",
        "colab": {
          "base_uri": "https://localhost:8080/",
          "height": 111
        },
        "outputId": "8a6ebf25-498e-467e-8f83-014995f9e24e"
      },
      "source": [
        "equipment_by_floor"
      ],
      "execution_count": 31,
      "outputs": [
        {
          "output_type": "execute_result",
          "data": {
            "text/html": [
              "<div>\n",
              "<style scoped>\n",
              "    .dataframe tbody tr th:only-of-type {\n",
              "        vertical-align: middle;\n",
              "    }\n",
              "\n",
              "    .dataframe tbody tr th {\n",
              "        vertical-align: top;\n",
              "    }\n",
              "\n",
              "    .dataframe thead th {\n",
              "        text-align: right;\n",
              "    }\n",
              "</style>\n",
              "<table border=\"1\" class=\"dataframe\">\n",
              "  <thead>\n",
              "    <tr style=\"text-align: right;\">\n",
              "      <th></th>\n",
              "      <th>Floor Code</th>\n",
              "      <th>Floor Name</th>\n",
              "      <th>Usable Equip.</th>\n",
              "      <th>props</th>\n",
              "    </tr>\n",
              "  </thead>\n",
              "  <tbody>\n",
              "    <tr>\n",
              "      <th>0</th>\n",
              "      <td>4</td>\n",
              "      <td>Level 4</td>\n",
              "      <td>1</td>\n",
              "      <td>0.5</td>\n",
              "    </tr>\n",
              "    <tr>\n",
              "      <th>1</th>\n",
              "      <td>6</td>\n",
              "      <td>Level 6</td>\n",
              "      <td>1</td>\n",
              "      <td>0.5</td>\n",
              "    </tr>\n",
              "  </tbody>\n",
              "</table>\n",
              "</div>"
            ],
            "text/plain": [
              "  Floor Code Floor Name  Usable Equip.  props\n",
              "0          4    Level 4              1    0.5\n",
              "1          6    Level 6              1    0.5"
            ]
          },
          "metadata": {
            "tags": []
          },
          "execution_count": 31
        }
      ]
    },
    {
      "cell_type": "code",
      "metadata": {
        "id": "G__PAbH6lUru",
        "colab_type": "code",
        "colab": {
          "base_uri": "https://localhost:8080/",
          "height": 187
        },
        "outputId": "efe60e1e-171e-462a-efd4-4d5d6a2cb0bf"
      },
      "source": [
        " mr_usage_data.columns"
      ],
      "execution_count": 32,
      "outputs": [
        {
          "output_type": "execute_result",
          "data": {
            "text/plain": [
              "Index(['From', 'To', 'RoomEmail', 'Campus Code', 'Building Code',\n",
              "       'Building Name_x', 'Floor Code', 'Room Code', 'RoomName', 'Meetings',\n",
              "       'Duration', 'AvgDuration', 'TotAttendees', 'AvgAttendees',\n",
              "       'ReqAttendees', 'OptAttendees', 'AMtotal', 'AMperc', 'PMtotal',\n",
              "       'PMperc', 'RecTotal', 'RecPerc', 'Building Name_y', 'Room Name',\n",
              "       'Room Category', 'Room Type', 'Room Type Abbreviation_x',\n",
              "       'Room Capacity', 'Room Area m²', 'Room Condition 2018',\n",
              "       'Department Code', 'Room Location Code', 'Floor Name',\n",
              "       'Room Type Abbreviation_y', 'Description', 'Room Type Definition'],\n",
              "      dtype='object')"
            ]
          },
          "metadata": {
            "tags": []
          },
          "execution_count": 32
        }
      ]
    },
    {
      "cell_type": "code",
      "metadata": {
        "id": "-azJMzCfmA76",
        "colab_type": "code",
        "colab": {}
      },
      "source": [
        "usage_104 = mr_usage_data[mr_usage_data['Building Code']==building_code]"
      ],
      "execution_count": 33,
      "outputs": []
    },
    {
      "cell_type": "code",
      "metadata": {
        "id": "SfqA4duH2JQ4",
        "colab_type": "code",
        "colab": {}
      },
      "source": [
        "# number of meeting held in each floor\n",
        "count_df = usage_104.groupby(by=['Floor Code','Floor Name'],as_index=False).size().reset_index(name='Meeting_Counts')"
      ],
      "execution_count": 34,
      "outputs": []
    },
    {
      "cell_type": "code",
      "metadata": {
        "id": "lo6K2yqUHZsj",
        "colab_type": "code",
        "colab": {
          "base_uri": "https://localhost:8080/",
          "height": 266
        },
        "outputId": "56b0ad01-d08f-4db7-8836-33308960d86f"
      },
      "source": [
        "count_df"
      ],
      "execution_count": 35,
      "outputs": [
        {
          "output_type": "execute_result",
          "data": {
            "text/html": [
              "<div>\n",
              "<style scoped>\n",
              "    .dataframe tbody tr th:only-of-type {\n",
              "        vertical-align: middle;\n",
              "    }\n",
              "\n",
              "    .dataframe tbody tr th {\n",
              "        vertical-align: top;\n",
              "    }\n",
              "\n",
              "    .dataframe thead th {\n",
              "        text-align: right;\n",
              "    }\n",
              "</style>\n",
              "<table border=\"1\" class=\"dataframe\">\n",
              "  <thead>\n",
              "    <tr style=\"text-align: right;\">\n",
              "      <th></th>\n",
              "      <th>Floor Code</th>\n",
              "      <th>Floor Name</th>\n",
              "      <th>Meeting_Counts</th>\n",
              "    </tr>\n",
              "  </thead>\n",
              "  <tbody>\n",
              "    <tr>\n",
              "      <th>0</th>\n",
              "      <td>1</td>\n",
              "      <td>Level 1</td>\n",
              "      <td>2</td>\n",
              "    </tr>\n",
              "    <tr>\n",
              "      <th>1</th>\n",
              "      <td>2</td>\n",
              "      <td>Level 2</td>\n",
              "      <td>4</td>\n",
              "    </tr>\n",
              "    <tr>\n",
              "      <th>2</th>\n",
              "      <td>3</td>\n",
              "      <td>Level 3</td>\n",
              "      <td>4</td>\n",
              "    </tr>\n",
              "    <tr>\n",
              "      <th>3</th>\n",
              "      <td>4</td>\n",
              "      <td>Level 4</td>\n",
              "      <td>11</td>\n",
              "    </tr>\n",
              "    <tr>\n",
              "      <th>4</th>\n",
              "      <td>5</td>\n",
              "      <td>Level 5</td>\n",
              "      <td>10</td>\n",
              "    </tr>\n",
              "    <tr>\n",
              "      <th>5</th>\n",
              "      <td>6</td>\n",
              "      <td>Level 6</td>\n",
              "      <td>3</td>\n",
              "    </tr>\n",
              "    <tr>\n",
              "      <th>6</th>\n",
              "      <td>7</td>\n",
              "      <td>Level 7</td>\n",
              "      <td>6</td>\n",
              "    </tr>\n",
              "  </tbody>\n",
              "</table>\n",
              "</div>"
            ],
            "text/plain": [
              "  Floor Code Floor Name  Meeting_Counts\n",
              "0          1    Level 1               2\n",
              "1          2    Level 2               4\n",
              "2          3    Level 3               4\n",
              "3          4    Level 4              11\n",
              "4          5    Level 5              10\n",
              "5          6    Level 6               3\n",
              "6          7    Level 7               6"
            ]
          },
          "metadata": {
            "tags": []
          },
          "execution_count": 35
        }
      ]
    },
    {
      "cell_type": "code",
      "metadata": {
        "id": "iqceXsil58w1",
        "colab_type": "code",
        "colab": {}
      },
      "source": [
        "duration_df = usage_104.groupby(by=['Floor Code','Floor Name'],as_index=False).agg({'AvgDuration':'mean'})"
      ],
      "execution_count": 36,
      "outputs": []
    },
    {
      "cell_type": "code",
      "metadata": {
        "id": "KoTp6lgl6rE-",
        "colab_type": "code",
        "colab": {
          "base_uri": "https://localhost:8080/",
          "height": 266
        },
        "outputId": "3be4b6b4-9735-45cb-fadd-91ec9bb6c293"
      },
      "source": [
        "pd.merge(count_df, duration_df, on='Floor Code', how='outer')"
      ],
      "execution_count": 37,
      "outputs": [
        {
          "output_type": "execute_result",
          "data": {
            "text/html": [
              "<div>\n",
              "<style scoped>\n",
              "    .dataframe tbody tr th:only-of-type {\n",
              "        vertical-align: middle;\n",
              "    }\n",
              "\n",
              "    .dataframe tbody tr th {\n",
              "        vertical-align: top;\n",
              "    }\n",
              "\n",
              "    .dataframe thead th {\n",
              "        text-align: right;\n",
              "    }\n",
              "</style>\n",
              "<table border=\"1\" class=\"dataframe\">\n",
              "  <thead>\n",
              "    <tr style=\"text-align: right;\">\n",
              "      <th></th>\n",
              "      <th>Floor Code</th>\n",
              "      <th>Floor Name_x</th>\n",
              "      <th>Meeting_Counts</th>\n",
              "      <th>Floor Name_y</th>\n",
              "      <th>AvgDuration</th>\n",
              "    </tr>\n",
              "  </thead>\n",
              "  <tbody>\n",
              "    <tr>\n",
              "      <th>0</th>\n",
              "      <td>1</td>\n",
              "      <td>Level 1</td>\n",
              "      <td>2</td>\n",
              "      <td>Level 1</td>\n",
              "      <td>63.500000</td>\n",
              "    </tr>\n",
              "    <tr>\n",
              "      <th>1</th>\n",
              "      <td>2</td>\n",
              "      <td>Level 2</td>\n",
              "      <td>4</td>\n",
              "      <td>Level 2</td>\n",
              "      <td>107.250000</td>\n",
              "    </tr>\n",
              "    <tr>\n",
              "      <th>2</th>\n",
              "      <td>3</td>\n",
              "      <td>Level 3</td>\n",
              "      <td>4</td>\n",
              "      <td>Level 3</td>\n",
              "      <td>141.750000</td>\n",
              "    </tr>\n",
              "    <tr>\n",
              "      <th>3</th>\n",
              "      <td>4</td>\n",
              "      <td>Level 4</td>\n",
              "      <td>11</td>\n",
              "      <td>Level 4</td>\n",
              "      <td>41.727273</td>\n",
              "    </tr>\n",
              "    <tr>\n",
              "      <th>4</th>\n",
              "      <td>5</td>\n",
              "      <td>Level 5</td>\n",
              "      <td>10</td>\n",
              "      <td>Level 5</td>\n",
              "      <td>51.400000</td>\n",
              "    </tr>\n",
              "    <tr>\n",
              "      <th>5</th>\n",
              "      <td>6</td>\n",
              "      <td>Level 6</td>\n",
              "      <td>3</td>\n",
              "      <td>Level 6</td>\n",
              "      <td>63.000000</td>\n",
              "    </tr>\n",
              "    <tr>\n",
              "      <th>6</th>\n",
              "      <td>7</td>\n",
              "      <td>Level 7</td>\n",
              "      <td>6</td>\n",
              "      <td>Level 7</td>\n",
              "      <td>286.000000</td>\n",
              "    </tr>\n",
              "  </tbody>\n",
              "</table>\n",
              "</div>"
            ],
            "text/plain": [
              "  Floor Code Floor Name_x  Meeting_Counts Floor Name_y  AvgDuration\n",
              "0          1      Level 1               2      Level 1    63.500000\n",
              "1          2      Level 2               4      Level 2   107.250000\n",
              "2          3      Level 3               4      Level 3   141.750000\n",
              "3          4      Level 4              11      Level 4    41.727273\n",
              "4          5      Level 5              10      Level 5    51.400000\n",
              "5          6      Level 6               3      Level 6    63.000000\n",
              "6          7      Level 7               6      Level 7   286.000000"
            ]
          },
          "metadata": {
            "tags": []
          },
          "execution_count": 37
        }
      ]
    },
    {
      "cell_type": "code",
      "metadata": {
        "colab_type": "code",
        "id": "6PSb5GR3Rz0E",
        "colab": {}
      },
      "source": [
        "from scipy.special import softmax\n",
        "def get_MR_scores_for_floors(floor_position, building_code, required_condition, required_capacity, penalty=0.05):\n",
        "    data = space_data[space_data['Building Code']==building_code]\n",
        "    possible_floors = data.groupby(by=['Floor Code','Floor Name'],as_index=False).agg({'Room Code':pd.Series.nunique})\n",
        "    print(possible_floors)\n",
        "\n",
        "    meeting_rooms = possible_meeting_rooms_data[possible_meeting_rooms_data['Building Code']==building_code]\n",
        "    meeting_rooms_by_floor = meeting_rooms.groupby( by = ['Floor Code','Floor Name'], as_index=False).agg({'Good':sum, 'Very Good':sum, 'Excellent':sum,'Room Capacity':sum, 'Room Code':pd.Series.nunique})\n",
        "  \n",
        "    equipment_rooms = meetingroom_equipment[meetingroom_equipment['Building Code']==building_code]\n",
        "    equipment_by_floor = equipment_rooms.groupby(by=['Floor Code','Floor Name'], as_index=False).agg({'Usable Equip.':sum})\n",
        "    meeting_rooms_equipment = pd.merge(meeting_rooms_by_floor,equipment_by_floor,how = 'left',on='Floor Name')\n",
        "    meeting_rooms_equipment = meeting_rooms_equipment.fillna(0)\n",
        "    meeting_rooms_equipment[required_condition] += meeting_rooms_equipment['Usable Equip.']\n",
        "    meeting_rooms_by_floor[required_condition] = meeting_rooms_equipment[required_condition]\n",
        "    \n",
        "    meeting_rooms_by_floor = meeting_rooms_by_floor[meeting_rooms_by_floor[\"Room Capacity\"] >= required_capacity]\n",
        "\n",
        "    total_rooms = meeting_rooms_by_floor[required_condition].sum()\n",
        "    \n",
        "    mr_usage = mr_usage_data[mr_usage_data['Building Code']==building_code]\n",
        "    mr_usage_by_floor = mr_usage.groupby(by=['Floor Code','Floor Name'],as_index=False).size().reset_index(name='Meeting_Counts')\n",
        "    \n",
        "    if total_rooms == 0:\n",
        "      return print(\"No Suitable Floor\")\n",
        "    \n",
        "    else:\n",
        "      meeting_rooms_by_floor['props']  = meeting_rooms_by_floor[required_condition]/total_rooms\n",
        "      print(meeting_rooms_by_floor)\n",
        "\n",
        "      em = employee_data[employee_data['Building Code']==building_code]\n",
        "      em_by_floor = em.groupby(by=['Floor Code','Floor Name'], as_index=False).agg({'Employee Sequential ID':pd.Series.nunique})\n",
        "      total_emp = em_by_floor['Employee Sequential ID'].sum()\n",
        "      em_by_floor['props']  = em_by_floor['Employee Sequential ID']/total_emp\n",
        "      print(em_by_floor)\n",
        "\n",
        "      idx_of_position = possible_floors[possible_floors['Floor Code']==floor_position].index[0]\n",
        "      probs = []\n",
        "      penalty_scores = []\n",
        "      weighted_probs = []\n",
        "      for idx,row in possible_floors.iterrows():\n",
        "          neg = 0\n",
        "          if idx < idx_of_position:\n",
        "              neg = idx - idx_of_position\n",
        "          else:\n",
        "              neg = idx_of_position - idx\n",
        "          penalize = neg*penalty\n",
        "          target_floor_code = row['Floor Code']\n",
        "          mr_df = meeting_rooms_by_floor[meeting_rooms_by_floor['Floor Code']==target_floor_code]\n",
        "          if len(mr_df) > 0:\n",
        "              meeting_room_prop = mr_df.iloc[0]['Room Capacity']*mr_df.iloc[0]['props']\n",
        "          else:\n",
        "              meeting_room_prop = 0\n",
        "          em_df = em_by_floor[em_by_floor['Floor Code']==target_floor_code]\n",
        "          if len(em_df) > 0:\n",
        "              employee_prop = em_df.iloc[0]['Employee Sequential ID']*em_df.iloc[0]['props']\n",
        "          else:\n",
        "              employee_prop = 1\n",
        "          prob = meeting_room_prop/employee_prop\n",
        "          probs.append(prob)\n",
        "          penalty_scores.append(penalize)\n",
        "      possible_floors['weights'] = probs\n",
        "      possible_floors['probs'] = probs\n",
        "      possible_floors = possible_floors[possible_floors['probs']!=0]\n",
        "      nz_probs = []\n",
        "      nz_penalty = []\n",
        "      for idx,prob in enumerate(probs): \n",
        "          if prob > 0:\n",
        "              nz_probs.append(prob)\n",
        "              nz_penalty.append(penalty_scores[idx])\n",
        "      possible_floors['weights'] = nz_probs\n",
        "      probs = softmax(nz_probs)\n",
        "      for idx,prob in enumerate(probs):\n",
        "          weighted_probs.append(prob + nz_penalty[idx])\n",
        "      possible_floors['probs'] = probs\n",
        "      possible_floors['penalize'] = nz_penalty\n",
        "      possible_floors['scores'] = weighted_probs\n",
        "      return possible_floors"
      ],
      "execution_count": 104,
      "outputs": []
    },
    {
      "cell_type": "code",
      "metadata": {
        "id": "WRJPwVUH98dA",
        "colab_type": "code",
        "colab": {
          "base_uri": "https://localhost:8080/",
          "height": 868
        },
        "outputId": "2f881d72-4dfc-4807-e30d-5a4363397fea"
      },
      "source": [
        "floor_scores = get_MR_scores_for_floors(floor_position='3',building_code='104', required_condition = 'Excellent', required_capacity = 0, penalty=0.005)\n",
        "print(floor_scores)\n",
        "plt.figure(figsize=(8,4))\n",
        "ax = sns.barplot(x=\"Floor Name\", y='scores', data=floor_scores);\n",
        "ax.set_xticklabels(ax.get_xticklabels(), rotation=40, ha=\"right\")\n",
        "ax.set(xlabel='Floors', ylabel='Model Scores')\n",
        "ax.set_title(\"Best floor prediction\")\n",
        "plt.show()"
      ],
      "execution_count": 106,
      "outputs": [
        {
          "output_type": "stream",
          "text": [
            "  Floor Code Floor Name  Good  Very Good  Excellent  Room Capacity  Room Code\n",
            "0          1    Level 1     0          0        2.0            8.0          2\n",
            "1          2    Level 2     5          0        0.0           58.0          5\n",
            "2          3    Level 3     1          0        0.0            6.0          1\n",
            "3          4    Level 4     0          0       13.0           76.0         12\n",
            "4          5    Level 5     0          0        8.0           84.0          8\n",
            "5          6    Level 6     0          0        4.0           16.0          3\n",
            "6          7    Level 7     0          0        2.0           33.0          2\n",
            "  Floor Code Floor Name  Good  ...  Room Capacity  Room Code     props\n",
            "0          1    Level 1     0  ...            8.0          2  0.068966\n",
            "1          2    Level 2     5  ...           58.0          5  0.000000\n",
            "2          3    Level 3     1  ...            6.0          1  0.000000\n",
            "3          4    Level 4     0  ...           76.0         12  0.448276\n",
            "4          5    Level 5     0  ...           84.0          8  0.275862\n",
            "5          6    Level 6     0  ...           16.0          3  0.137931\n",
            "6          7    Level 7     0  ...           33.0          2  0.068966\n",
            "\n",
            "[7 rows x 8 columns]\n",
            "  Floor Code Floor Name  Employee Sequential ID     props\n",
            "0          0     Ground                      10  0.030395\n",
            "1          1    Level 1                      29  0.088146\n",
            "2          2    Level 2                      61  0.185410\n",
            "3          4    Level 4                      68  0.206687\n",
            "4          5    Level 5                      40  0.121581\n",
            "5          6    Level 6                      76  0.231003\n",
            "6          7    Level 7                      45  0.136778\n",
            "  Floor Code Floor Name  Room Code   weights     probs  penalize    scores\n",
            "3          1    Level 1         45  0.215835  0.009371    -0.010 -0.000629\n",
            "6          4    Level 4         73  2.424025  0.085265    -0.005  0.080265\n",
            "7          5    Level 5         62  4.764828  0.885871    -0.010  0.875871\n",
            "8          6    Level 6         63  0.125704  0.008563    -0.015 -0.006437\n",
            "9          7    Level 7         57  0.369757  0.010930    -0.020 -0.009070\n"
          ],
          "name": "stdout"
        },
        {
          "output_type": "display_data",
          "data": {
            "image/png": "[encoded data removed]",
            "text/plain": [
              "<Figure size 576x288 with 1 Axes>"
            ]
          },
          "metadata": {
            "tags": [],
            "needs_background": "light"
          }
        }
      ]
    },
    {
      "cell_type": "code",
      "metadata": {
        "id": "ZHlyiUgX8xmf",
        "colab_type": "code",
        "colab": {}
      },
      "source": [
        "# toilet condition data\n",
        "possible_toilets_data[\"Good\"] = np.where((possible_toilets_data['Room Condition 2018'] == \"Good\"), 1, 0)\n",
        "possible_toilets_data[\"Excellent\"] = np.where((possible_toilets_data['Room Condition 2018'] == \"Excellent\"), 1, 0)\n",
        "possible_toilets_data[\"Very Good\"] = np.where((possible_toilets_data['Room Condition 2018'] == \"Very Good\"), 1, 0)"
      ],
      "execution_count": 39,
      "outputs": []
    },
    {
      "cell_type": "code",
      "metadata": {
        "id": "XBhbpkRxfkJX",
        "colab_type": "code",
        "colab": {}
      },
      "source": [
        "toilets_104 = possible_toilets_data[possible_toilets_data['Building Code']==building_code]\n",
        "\n",
        "toilets_by_floor = toilets_104.groupby(by=['Floor Code','Floor Name'], as_index=False).agg({'Good':sum, 'Very Good':sum, 'Excellent':sum, \"Room Code\": 'count', \"Room Capacity\":sum})\n"
      ],
      "execution_count": 40,
      "outputs": []
    },
    {
      "cell_type": "code",
      "metadata": {
        "id": "CvIJoiB_9OSN",
        "colab_type": "code",
        "colab": {
          "base_uri": "https://localhost:8080/",
          "height": 328
        },
        "outputId": "89e0e4d2-60b2-4441-a5d0-25e5ad3c0256"
      },
      "source": [
        "toilets_by_floor "
      ],
      "execution_count": 41,
      "outputs": [
        {
          "output_type": "execute_result",
          "data": {
            "text/html": [
              "<div>\n",
              "<style scoped>\n",
              "    .dataframe tbody tr th:only-of-type {\n",
              "        vertical-align: middle;\n",
              "    }\n",
              "\n",
              "    .dataframe tbody tr th {\n",
              "        vertical-align: top;\n",
              "    }\n",
              "\n",
              "    .dataframe thead th {\n",
              "        text-align: right;\n",
              "    }\n",
              "</style>\n",
              "<table border=\"1\" class=\"dataframe\">\n",
              "  <thead>\n",
              "    <tr style=\"text-align: right;\">\n",
              "      <th></th>\n",
              "      <th>Floor Code</th>\n",
              "      <th>Floor Name</th>\n",
              "      <th>Good</th>\n",
              "      <th>Very Good</th>\n",
              "      <th>Excellent</th>\n",
              "      <th>Room Code</th>\n",
              "      <th>Room Capacity</th>\n",
              "    </tr>\n",
              "  </thead>\n",
              "  <tbody>\n",
              "    <tr>\n",
              "      <th>0</th>\n",
              "      <td>0</td>\n",
              "      <td>Ground</td>\n",
              "      <td>0</td>\n",
              "      <td>0</td>\n",
              "      <td>3</td>\n",
              "      <td>3</td>\n",
              "      <td>16.0</td>\n",
              "    </tr>\n",
              "    <tr>\n",
              "      <th>1</th>\n",
              "      <td>0.1</td>\n",
              "      <td>Basement 1</td>\n",
              "      <td>0</td>\n",
              "      <td>0</td>\n",
              "      <td>1</td>\n",
              "      <td>1</td>\n",
              "      <td>1.0</td>\n",
              "    </tr>\n",
              "    <tr>\n",
              "      <th>2</th>\n",
              "      <td>1</td>\n",
              "      <td>Level 1</td>\n",
              "      <td>0</td>\n",
              "      <td>0</td>\n",
              "      <td>4</td>\n",
              "      <td>4</td>\n",
              "      <td>16.0</td>\n",
              "    </tr>\n",
              "    <tr>\n",
              "      <th>3</th>\n",
              "      <td>2</td>\n",
              "      <td>Level 2</td>\n",
              "      <td>0</td>\n",
              "      <td>0</td>\n",
              "      <td>3</td>\n",
              "      <td>3</td>\n",
              "      <td>10.0</td>\n",
              "    </tr>\n",
              "    <tr>\n",
              "      <th>4</th>\n",
              "      <td>3</td>\n",
              "      <td>Level 3</td>\n",
              "      <td>0</td>\n",
              "      <td>0</td>\n",
              "      <td>3</td>\n",
              "      <td>3</td>\n",
              "      <td>10.0</td>\n",
              "    </tr>\n",
              "    <tr>\n",
              "      <th>5</th>\n",
              "      <td>4</td>\n",
              "      <td>Level 4</td>\n",
              "      <td>0</td>\n",
              "      <td>0</td>\n",
              "      <td>3</td>\n",
              "      <td>3</td>\n",
              "      <td>10.0</td>\n",
              "    </tr>\n",
              "    <tr>\n",
              "      <th>6</th>\n",
              "      <td>5</td>\n",
              "      <td>Level 5</td>\n",
              "      <td>0</td>\n",
              "      <td>0</td>\n",
              "      <td>3</td>\n",
              "      <td>3</td>\n",
              "      <td>10.0</td>\n",
              "    </tr>\n",
              "    <tr>\n",
              "      <th>7</th>\n",
              "      <td>6</td>\n",
              "      <td>Level 6</td>\n",
              "      <td>0</td>\n",
              "      <td>0</td>\n",
              "      <td>3</td>\n",
              "      <td>3</td>\n",
              "      <td>10.0</td>\n",
              "    </tr>\n",
              "    <tr>\n",
              "      <th>8</th>\n",
              "      <td>7</td>\n",
              "      <td>Level 7</td>\n",
              "      <td>0</td>\n",
              "      <td>0</td>\n",
              "      <td>3</td>\n",
              "      <td>3</td>\n",
              "      <td>10.0</td>\n",
              "    </tr>\n",
              "  </tbody>\n",
              "</table>\n",
              "</div>"
            ],
            "text/plain": [
              "  Floor Code  Floor Name  Good  Very Good  Excellent  Room Code  Room Capacity\n",
              "0          0      Ground     0          0          3          3           16.0\n",
              "1        0.1  Basement 1     0          0          1          1            1.0\n",
              "2          1     Level 1     0          0          4          4           16.0\n",
              "3          2     Level 2     0          0          3          3           10.0\n",
              "4          3     Level 3     0          0          3          3           10.0\n",
              "5          4     Level 4     0          0          3          3           10.0\n",
              "6          5     Level 5     0          0          3          3           10.0\n",
              "7          6     Level 6     0          0          3          3           10.0\n",
              "8          7     Level 7     0          0          3          3           10.0"
            ]
          },
          "metadata": {
            "tags": []
          },
          "execution_count": 41
        }
      ]
    },
    {
      "cell_type": "code",
      "metadata": {
        "id": "o1gzZZG99kds",
        "colab_type": "code",
        "colab": {
          "base_uri": "https://localhost:8080/",
          "height": 340
        },
        "outputId": "8540edc9-174f-4ee6-8df5-8253a116f63e"
      },
      "source": [
        "timetable_data.columns"
      ],
      "execution_count": 42,
      "outputs": [
        {
          "output_type": "execute_result",
          "data": {
            "text/plain": [
              "Index(['Host Key of Department', 'Name of Department', 'Name of Module',\n",
              "       'Description of Module', 'Name', 'Name of Children', 'Planned Size',\n",
              "       'Scheduled Start as day name', 'Scheduled Start as start time',\n",
              "       'Scheduled Finish as end time', 'Duration as duration',\n",
              "       'Name of Allocated Locations',\n",
              "       'Name of Allocated Locations of Children',\n",
              "       'Name of Zone of Allocated Locations',\n",
              "       'Host Key of Allocated Locations',\n",
              "       'Name of Department of Allocated Locations',\n",
              "       'Size of Allocated Locations', 'Teaching week pattern as start week',\n",
              "       'Activity dates', 'Teaching week pattern as number of weeks',\n",
              "       'Name of Type', 'Scheduled?', 'Booking?', 'Building Code', 'Room Code',\n",
              "       'Campus Code', 'Class Duration In Minutes', 'Building Name',\n",
              "       'Floor Code', 'Room Name', 'Room Category', 'Room Type',\n",
              "       'Room Type Abbreviation_x', 'Room Capacity', 'Room Area m²',\n",
              "       'Room Condition 2018', 'Department Code', 'Room Location Code',\n",
              "       'Floor Name', 'Room Type Abbreviation_y', 'Description',\n",
              "       'Room Type Definition'],\n",
              "      dtype='object')"
            ]
          },
          "metadata": {
            "tags": []
          },
          "execution_count": 42
        }
      ]
    },
    {
      "cell_type": "code",
      "metadata": {
        "id": "pWQDITTjJZ3a",
        "colab_type": "code",
        "colab": {}
      },
      "source": [
        "timetable_104 = timetable_data[timetable_data['Building Code'] == building_code]"
      ],
      "execution_count": 43,
      "outputs": []
    },
    {
      "cell_type": "code",
      "metadata": {
        "id": "TDT1bwVp-Hji",
        "colab_type": "code",
        "colab": {
          "base_uri": "https://localhost:8080/",
          "height": 111
        },
        "outputId": "37c5de4a-adb1-4dcc-a4ab-8e3288440625"
      },
      "source": [
        "# class duration for each floor \n",
        "timetable_104.groupby(by = ['Floor Code','Floor Name'], as_index=False).agg({'Name':'count', 'Class Duration In Minutes':'mean'})"
      ],
      "execution_count": 44,
      "outputs": [
        {
          "output_type": "execute_result",
          "data": {
            "text/html": [
              "<div>\n",
              "<style scoped>\n",
              "    .dataframe tbody tr th:only-of-type {\n",
              "        vertical-align: middle;\n",
              "    }\n",
              "\n",
              "    .dataframe tbody tr th {\n",
              "        vertical-align: top;\n",
              "    }\n",
              "\n",
              "    .dataframe thead th {\n",
              "        text-align: right;\n",
              "    }\n",
              "</style>\n",
              "<table border=\"1\" class=\"dataframe\">\n",
              "  <thead>\n",
              "    <tr style=\"text-align: right;\">\n",
              "      <th></th>\n",
              "      <th>Floor Code</th>\n",
              "      <th>Floor Name</th>\n",
              "      <th>Name</th>\n",
              "      <th>Class Duration In Minutes</th>\n",
              "    </tr>\n",
              "  </thead>\n",
              "  <tbody>\n",
              "    <tr>\n",
              "      <th>0</th>\n",
              "      <td>0</td>\n",
              "      <td>Ground</td>\n",
              "      <td>1807</td>\n",
              "      <td>73.065855</td>\n",
              "    </tr>\n",
              "    <tr>\n",
              "      <th>1</th>\n",
              "      <td>1</td>\n",
              "      <td>Level 1</td>\n",
              "      <td>2771</td>\n",
              "      <td>90.519668</td>\n",
              "    </tr>\n",
              "  </tbody>\n",
              "</table>\n",
              "</div>"
            ],
            "text/plain": [
              "  Floor Code Floor Name  Name  Class Duration In Minutes\n",
              "0          0     Ground  1807                  73.065855\n",
              "1          1    Level 1  2771                  90.519668"
            ]
          },
          "metadata": {
            "tags": []
          },
          "execution_count": 44
        }
      ]
    },
    {
      "cell_type": "code",
      "metadata": {
        "colab_type": "code",
        "id": "xr8VQwA4VfIc",
        "colab": {}
      },
      "source": [
        "from scipy.special import softmax\n",
        "import numpy as np\n",
        "def get_TO_scores_for_floors(floor_position, building_code, penalty=0.025):\n",
        "    data = space_data[space_data['Building Code']==building_code]\n",
        "    possible_floors = data.groupby(by=['Floor Code','Floor Name'],as_index=False).agg({'Room Code':pd.Series.nunique})\n",
        "    possible_floors['Floor Code'] = possible_floors['Floor Code'].astype(float)\n",
        "    possible_floors.sort_values(by=['Floor Code'], inplace=True)\n",
        "    print(possible_floors)\n",
        "\n",
        "    toilets = possible_toilets_data[possible_toilets_data['Building Code']==building_code]\n",
        "    toilets_by_floor = toilets.groupby(by=['Floor Code','Floor Name'], as_index=False).agg({'Room Code':pd.Series.nunique, 'Room Capacity':sum})\n",
        "\n",
        "    total_rooms = toilets_by_floor['Room Code'].sum()\n",
        "    toilets_by_floor['props']  = toilets_by_floor['Room Code']/total_rooms\n",
        "    print(toilets_by_floor)\n",
        "\n",
        "    stud = timetable_data[timetable_data['Building Code']==building_code]\n",
        "    stud_by_floor = stud.groupby(by=['Floor Code','Floor Name'], as_index=False).agg({'Planned Size':sum, 'Class Duration In Minutes':'mean'})\n",
        "    total_studs = stud_by_floor['Planned Size'].sum()\n",
        "    \n",
        "    stud_by_floor['props']  = stud_by_floor['Planned Size']/total_studs\n",
        "    print(stud_by_floor)\n",
        "\n",
        "    idx_of_position = possible_floors[possible_floors['Floor Code']==float(floor_position)].index[0]\n",
        "    probs = []\n",
        "    penalty_scores = []\n",
        "    weighted_probs = []\n",
        "    for idx,row in possible_floors.iterrows():\n",
        "        neg = 0\n",
        "        if idx < idx_of_position:\n",
        "            neg = idx - idx_of_position\n",
        "        else:\n",
        "            neg = idx_of_position - idx\n",
        "        penalize = neg*penalty\n",
        "        target_floor_code = row['Floor Code']\n",
        "        if target_floor_code not in (0.1,0.2):\n",
        "            target_floor_code = int(target_floor_code)\n",
        "        target_floor_code = str(target_floor_code)\n",
        "        to_df = toilets_by_floor[toilets_by_floor['Floor Code']==target_floor_code]\n",
        "        if len(to_df) > 0:\n",
        "            toilet_prop = to_df.iloc[0]['Room Capacity']*to_df.iloc[0]['props']\n",
        "        else:\n",
        "            toilet_prop = 0\n",
        "        stu_df = stud_by_floor[stud_by_floor['Floor Code']==target_floor_code]\n",
        "        if len(stu_df) > 0:\n",
        "            stu_prop = stu_df.iloc[0]['Planned Size']*stu_df.iloc[0]['props']\n",
        "        else:\n",
        "            stu_prop = 1\n",
        "        prob = toilet_prop/stu_prop\n",
        "        probs.append(prob)\n",
        "        penalty_scores.append(penalize)\n",
        "    possible_floors['weights'] = probs\n",
        "    possible_floors['probs'] = probs\n",
        "    possible_floors = possible_floors[possible_floors['probs']!=0]\n",
        "    nz_probs = []\n",
        "    nz_penalty = []\n",
        "    for idx,prob in enumerate(probs): \n",
        "        if prob > 0:\n",
        "            nz_probs.append(prob)\n",
        "            nz_penalty.append(penalty_scores[idx])\n",
        "    possible_floors['weights'] = nz_probs\n",
        "    probs = softmax(nz_probs)\n",
        "    for idx,prob in enumerate(probs):\n",
        "        weighted_probs.append(prob + nz_penalty[idx])\n",
        "    possible_floors['probs'] = probs\n",
        "    possible_floors['penalize'] = nz_penalty\n",
        "    possible_floors['scores'] = weighted_probs\n",
        "    return possible_floors"
      ],
      "execution_count": 48,
      "outputs": []
    },
    {
      "cell_type": "code",
      "metadata": {
        "colab_type": "code",
        "id": "-zERNoIJv225",
        "colab": {
          "base_uri": "https://localhost:8080/",
          "height": 970
        },
        "outputId": "1ddab22a-1320-4b87-d339-fee24b2c515f"
      },
      "source": [
        "# 104/263\n",
        "floor_scores = get_MR_scores_for_floors(floor_position='3',building_code='104', required_condition = 'Excellent', required_capacity = 0, penalty=0.005)\n",
        "print(floor_scores)\n",
        "plt.figure(figsize=(8,4))\n",
        "ax = sns.barplot(x=\"Floor Name\", y='scores', data=floor_scores);\n",
        "ax.set_xticklabels(ax.get_xticklabels(), rotation=40, ha=\"right\")\n",
        "ax.set(xlabel='Floors', ylabel='Model Scores')\n",
        "ax.set_title(\"Best floor prediction\")\n",
        "plt.show()"
      ],
      "execution_count": 97,
      "outputs": [
        {
          "output_type": "stream",
          "text": [
            "   Floor Code         Floor Name  Room Code\n",
            "0           0             Ground         35\n",
            "1         0.1         Basement 1         19\n",
            "2         0.5   Ground Mezzanine          2\n",
            "3           1            Level 1         45\n",
            "4           2            Level 2         74\n",
            "5           3            Level 3         38\n",
            "6           4            Level 4         73\n",
            "7           5            Level 5         62\n",
            "8           6            Level 6         63\n",
            "9           7            Level 7         57\n",
            "10          8            Level 8         12\n",
            "11        8.5  Level 8 Mezzanine          5\n",
            "12          R               Roof          1\n",
            "  Floor Code Floor Name  Good  ...  Room Capacity  Room Code     props\n",
            "0          1    Level 1     0  ...            8.0          2  0.068966\n",
            "1          2    Level 2     5  ...           58.0          5  0.000000\n",
            "2          3    Level 3     1  ...            6.0          1  0.000000\n",
            "3          4    Level 4     0  ...           76.0         12  0.448276\n",
            "4          5    Level 5     0  ...           84.0          8  0.275862\n",
            "5          6    Level 6     0  ...           16.0          3  0.137931\n",
            "6          7    Level 7     0  ...           33.0          2  0.068966\n",
            "\n",
            "[7 rows x 8 columns]\n",
            "  Floor Code Floor Name  Employee Sequential ID     props\n",
            "0          0     Ground                      10  0.030395\n",
            "1          1    Level 1                      29  0.088146\n",
            "2          2    Level 2                      61  0.185410\n",
            "3          4    Level 4                      68  0.206687\n",
            "4          5    Level 5                      40  0.121581\n",
            "5          6    Level 6                      76  0.231003\n",
            "6          7    Level 7                      45  0.136778\n",
            "  Floor Code Floor Name  Room Code   weights     probs  penalize    scores\n",
            "3          1    Level 1         45  0.215835  0.009371    -0.010 -0.000629\n",
            "6          4    Level 4         73  2.424025  0.085265    -0.005  0.080265\n",
            "7          5    Level 5         62  4.764828  0.885871    -0.010  0.875871\n",
            "8          6    Level 6         63  0.125704  0.008563    -0.015 -0.006437\n",
            "9          7    Level 7         57  0.369757  0.010930    -0.020 -0.009070\n"
          ],
          "name": "stdout"
        },
        {
          "output_type": "display_data",
          "data": {
            "image/png": "[encoded data removed]",
            "text/plain": [
              "<Figure size 576x288 with 1 Axes>"
            ]
          },
          "metadata": {
            "tags": [],
            "needs_background": "light"
          }
        }
      ]
    },
    {
      "cell_type": "code",
      "metadata": {
        "colab_type": "code",
        "id": "_djdjg6oKd3U",
        "colab": {
          "base_uri": "https://localhost:8080/",
          "height": 851
        },
        "outputId": "4aa1823c-594f-41c5-bc34-e79b5ab50522"
      },
      "source": [
        "# 133/115\n",
        "floor_scores = get_TO_scores_for_floors(floor_position='1',building_code='133',penalty=0.015)\n",
        "print(floor_scores[['Floor Code','Floor Name','weights','probs','penalize','scores']])\n",
        "plt.figure(figsize=(8,4))\n",
        "ax = sns.barplot(x=\"Floor Name\", y='scores', data=floor_scores);\n",
        "ax.set_xticklabels(ax.get_xticklabels(), rotation=40, ha=\"right\")\n",
        "ax.set(xlabel='Floors', ylabel='Model Scores')\n",
        "ax.set_title(\"Best floor prediction\")\n",
        "plt.show()"
      ],
      "execution_count": 49,
      "outputs": [
        {
          "output_type": "stream",
          "text": [
            "   Floor Code  Floor Name  Room Code\n",
            "0         0.0      Ground         57\n",
            "1         0.1  Basement 1         66\n",
            "2         0.2  Basement 2          6\n",
            "3         1.0     Level 1         64\n",
            "4         2.0     Level 2         68\n",
            "5         3.0     Level 3         76\n",
            "6         4.0     Level 4         67\n",
            "7         5.0     Level 5         10\n",
            "  Floor Code  Floor Name  Room Code  Room Capacity     props\n",
            "0          0      Ground          3            6.0  0.096774\n",
            "1        0.1  Basement 1          4           13.0  0.129032\n",
            "2          1     Level 1          6           10.0  0.193548\n",
            "3          2     Level 2          6           12.0  0.193548\n",
            "4          3     Level 3          6           12.0  0.193548\n",
            "5          4     Level 4          6           12.0  0.193548\n",
            "  Floor Code  Floor Name  Planned Size  Class Duration In Minutes     props\n",
            "0          0      Ground         816.0                 180.000000  0.001839\n",
            "1        0.1  Basement 1      321918.0                  72.795699  0.725380\n",
            "2          1     Level 1       55706.0                 121.548913  0.125523\n",
            "3          2     Level 2       52512.0                 121.322931  0.118326\n",
            "4          3     Level 3        3912.0                 105.000000  0.008815\n",
            "5          4     Level 4        8928.0                 103.500000  0.020118\n",
            "   Floor Code  Floor Name   weights     probs  penalize    scores\n",
            "0         0.0      Ground  0.386999  0.224615    -0.045  0.179615\n",
            "1         0.1  Basement 1  0.000007  0.152535    -0.030  0.122535\n",
            "3         1.0     Level 1  0.000277  0.152577     0.000  0.152577\n",
            "4         2.0     Level 2  0.000374  0.152591    -0.015  0.137591\n",
            "5         3.0     Level 3  0.067352  0.163162    -0.030  0.133162\n",
            "6         4.0     Level 4  0.012931  0.154520    -0.045  0.109520\n"
          ],
          "name": "stdout"
        },
        {
          "output_type": "display_data",
          "data": {
            "image/png": "[encoded data removed]",
            "text/plain": [
              "<Figure size 576x288 with 1 Axes>"
            ]
          },
          "metadata": {
            "tags": [],
            "needs_background": "light"
          }
        }
      ]
    }
  ]
}
