{
  "nbformat": 4,
  "nbformat_minor": 0,
  "metadata": {
    "colab": {
      "name": "Floor algorithm.ipynb",
      "provenance": [],
      "collapsed_sections": []
    },
    "kernelspec": {
      "display_name": "Python 3",
      "language": "python",
      "name": "python3"
    },
    "language_info": {
      "codemirror_mode": {
        "name": "ipython",
        "version": 3
      },
      "file_extension": ".py",
      "mimetype": "text/x-python",
      "name": "python",
      "nbconvert_exporter": "python",
      "pygments_lexer": "ipython3",
      "version": "3.6.5"
    }
  },
  "cells": [
    {
      "cell_type": "markdown",
      "metadata": {
        "colab_type": "text",
        "id": "ZTWGg0lzAm0e"
      },
      "source": [
        "# Model Prototype"
      ]
    },
    {
      "cell_type": "markdown",
      "metadata": {
        "colab_type": "text",
        "id": "hUKat_gXAqGr"
      },
      "source": [
        "### Load Data"
      ]
    },
    {
      "cell_type": "code",
      "metadata": {
        "colab_type": "code",
        "id": "CF6Mvo6lAsVZ",
        "colab": {}
      },
      "source": [
        "# load libraries\n",
        "import pandas as pd\n",
        "import warnings\n",
        "warnings.filterwarnings('ignore')\n",
        "\n",
        "import seaborn as sns\n",
        "import matplotlib.pyplot as plt\n",
        "sns.set(style=\"ticks\", color_codes=True)"
      ],
      "execution_count": 1,
      "outputs": []
    },
    {
      "cell_type": "code",
      "metadata": {
        "colab_type": "code",
        "id": "mgVRrKRmCKb3",
        "colab": {}
      },
      "source": [
        "class DataCleaner():\n",
        "\n",
        "    def clean_uom_space(self,uom_space_df):\n",
        "        uom_space_df['Campus Code']=uom_space_df['Campus Code'].astype(str).str.strip()\n",
        "        uom_space_df['Building Code']=uom_space_df['Building Code'].astype(str).str.strip()\n",
        "        uom_space_df['Building Name']=uom_space_df['Building Name'].astype(str).str.strip()\n",
        "        uom_space_df['Room Type']=uom_space_df['Room Type'].astype(str).str.strip()\n",
        "        uom_space_df['Room Category']=uom_space_df['Room Category'].astype(str).str.strip()\n",
        "        uom_space_df['Floor Code']=uom_space_df['Floor Code'].astype(str).str.strip()\n",
        "        uom_space_df['Room Code']=uom_space_df['Room Code'].astype(str).str.strip()\n",
        "        return uom_space_df\n",
        "\n",
        "    def clean_rm_category_type(self,rm_category_type_df):\n",
        "        rm_category_type_df['Room Type']=rm_category_type_df['Room Type'].astype(str).str.strip()\n",
        "        rm_category_type_df['Room Category']=rm_category_type_df['Room Category'].astype(str).str.strip()\n",
        "        rm_category_type_df['Room Type Abbreviation']=rm_category_type_df['Room Type Abbreviation'].str.lower().str.strip()\n",
        "        rm_category_type_df['Description']=rm_category_type_df['Description'].str.lower().str.strip()\n",
        "        rm_category_type_df['Room Type Definition']=rm_category_type_df['Room Type Definition'].str.lower().str.strip()\n",
        "        return rm_category_type_df\n",
        "\n",
        "    def clean_floor_data(self,floor_df):\n",
        "        floor_df['Building Code'] = floor_df['Building Code'].astype(str).str.strip()\n",
        "        floor_df['Floor Code'] = floor_df['Floor Code'].astype(str).str.strip()\n",
        "        floor_df['Floor Name'] = floor_df['Floor Name'].astype(str).str.strip()\n",
        "        return floor_df\n",
        "\n",
        "    def clean_em_location(self,em_location_df):\n",
        "        em_location_df['Floor Code'] = em_location_df['Floor Code'].astype(int)\n",
        "        em_location_df['Floor Code'] = em_location_df['Floor Code'].astype(str).str.strip()\n",
        "        return em_location_df\n",
        "\n",
        "    def clean_av_equipment(self,av_equipment_df):\n",
        "        av_equipment_df['Room Type'] = av_equipment_df['Room Type'].astype(str).str.strip()\n",
        "        av_equipment_df['Room Code'] = av_equipment_df['Room Code'].astype(str).str.strip()\n",
        "        av_equipment_df['Building Code'] = av_equipment_df['Building Code'].astype(str).str.strip()\n",
        "        av_equipment_df['Campus Code'] = av_equipment_df['Campus Code'].astype(str).str.strip()\n",
        "        av_equipment_df['Equip. Status'] = av_equipment_df['Equip. Status'].astype(str).str.strip()\n",
        "        av_equipment_df['Floor Code'] = av_equipment_df['Floor Code'].astype(int).astype(str).str.strip()\n",
        "        return av_equipment_df\n",
        "\n",
        "    def clean_timetable_data(self,timetable_df):\n",
        "        # remove all NaN rows\n",
        "        timetable_df = timetable_df.dropna(how='all')\n",
        "\n",
        "        # drop duplicate records\n",
        "        timetable_df = timetable_df.drop_duplicates()\n",
        "\n",
        "        # dropping classes whose location is not planned\n",
        "        timetable_df = timetable_df[timetable_df['Host Key of Allocated Locations'].notna()]\n",
        "\n",
        "        # dropping classes whose location is online option\n",
        "        timetable_df = timetable_df[timetable_df['Host Key of Allocated Locations']!='Online option.']\n",
        "\n",
        "        # dropping classes with off-site location\n",
        "        timetable_df = timetable_df[timetable_df['Name of Zone of Allocated Locations']!='Off-Site']\n",
        "        return timetable_df\n",
        "\n",
        "    def clean_meeting_room_usage(self,meeting_room_usage_df):\n",
        "        meeting_room_usage_df = meeting_room_usage_df[meeting_room_usage_df['Campus Code'].notna()]\n",
        "        meeting_room_usage_df = meeting_room_usage_df[meeting_room_usage_df['Building Code'].notna()]\n",
        "        meeting_room_usage_df = meeting_room_usage_df[meeting_room_usage_df['Floor Code'].notna()]\n",
        "        meeting_room_usage_df = meeting_room_usage_df[meeting_room_usage_df['Room Code'].notna()]\n",
        "\n",
        "        meeting_room_usage_df['Campus Code'] = meeting_room_usage_df['Campus Code'].astype(str).str.strip()\n",
        "        meeting_room_usage_df['Building Code'] = meeting_room_usage_df['Building Code'].astype(str).str.strip()\n",
        "        meeting_room_usage_df['Building Name'] = meeting_room_usage_df['Building Name'].astype(str).str.strip()\n",
        "        meeting_room_usage_df['Floor Code'] = meeting_room_usage_df['Floor Code'].astype(int).astype(str).str.strip()\n",
        "        meeting_room_usage_df['Room Code'] = meeting_room_usage_df['Room Code'].astype(str).str.strip()\n",
        "        return meeting_room_usage_df"
      ],
      "execution_count": 2,
      "outputs": []
    },
    {
      "cell_type": "code",
      "metadata": {
        "colab_type": "code",
        "id": "OtYVzHniDiF5",
        "colab": {}
      },
      "source": [
        "class DataMutator():\n",
        "\n",
        "    def mutate_em_location(self,em_location_df):\n",
        "        # mutate room codes\n",
        "        for idx,row in em_location_df.iterrows():\n",
        "            if \".\" in row['Room Code']:\n",
        "                code = row['Room Code'].split(\".\")[0]\n",
        "                em_location_df.at[idx,'Room Code'] = code\n",
        "        return em_location_df\n",
        "\n",
        "    def mutate_timetable_data(self,timetable_df):\n",
        "        building_codes = []\n",
        "        room_codes = []\n",
        "        campus_codes = []\n",
        "        class_duration_minutes = []\n",
        "        for idx,row in timetable_df.iterrows():\n",
        "            s = row['Host Key of Allocated Locations'].split('-')\n",
        "            building_codes.append(s[0])\n",
        "            room_codes.append(s[1])\n",
        "            c = row['Name of Allocated Locations'].split('-')[0]\n",
        "            if c == 'zzzPAR':\n",
        "                c = 'PAR'\n",
        "            campus_codes.append(c)\n",
        "            d = row['Duration as duration']\n",
        "            class_duration_minutes.append(d.hour * 60 + d.minute)\n",
        "        timetable_df['Building Code'] = building_codes\n",
        "        timetable_df['Room Code'] = room_codes\n",
        "        timetable_df['Campus Code'] = campus_codes\n",
        "        timetable_df['Class Duration In Minutes'] = class_duration_minutes\n",
        "        return timetable_df"
      ],
      "execution_count": 3,
      "outputs": []
    },
    {
      "cell_type": "code",
      "metadata": {
        "colab_type": "code",
        "id": "n98Z0F0xEHc7",
        "colab": {}
      },
      "source": [
        "class DataMerger():\n",
        "\n",
        "    def get_merged_space_data(self,uom_space_df,rm_category_type_df, floor_df):\n",
        "        uom_space_df_enhanced = pd.merge(uom_space_df,floor_df,on=['Building Code','Floor Code'])\n",
        "        print(\"# Merge - uom_space + floor_data\")\n",
        "        print((uom_space_df.shape, uom_space_df_enhanced.shape))\n",
        "        print('Unable to merge records:',uom_space_df.shape[0]-uom_space_df_enhanced.shape[0])\n",
        "        merged_space_data_df = pd.merge(uom_space_df_enhanced,rm_category_type_df,on=['Room Category','Room Type'])\n",
        "        print(\"# Merge - enhanced_uom_space + rm_category_type\")\n",
        "        print((uom_space_df_enhanced.shape, merged_space_data_df.shape))\n",
        "        print('Unable to merge records:',uom_space_df_enhanced.shape[0]-merged_space_data_df.shape[0])\n",
        "        return merged_space_data_df\n",
        "\n",
        "    def get_merged_em_location_data(self,em_location_df,merged_space_data_df):\n",
        "        print(\"# merge - space_data + em_location\")\n",
        "        merged_em_location_df = pd.merge(em_location_df,merged_space_data_df,on=['Building Code','Floor Code','Room Code'])\n",
        "        print((em_location_df.shape, merged_em_location_df.shape))\n",
        "        print('Unable to merge records:',em_location_df.shape[0]-merged_em_location_df.shape[0])\n",
        "        return merged_em_location_df\n",
        "\n",
        "    def get_merged_av_equipment_data(self,av_equipment_df,merged_space_data_df):\n",
        "        print(\"# merge - space_data + av_equipment\")\n",
        "        merged_av_equipment_df = pd.merge(av_equipment_df,merged_space_data_df,on=['Campus Code','Building Code','Floor Code','Room Code'])\n",
        "        print((av_equipment_df.shape, merged_av_equipment_df.shape))\n",
        "        print('Unable to merge records:',av_equipment_df.shape[0]-merged_av_equipment_df.shape[0])\n",
        "        return merged_av_equipment_df\n",
        "\n",
        "    def get_merged_timetable_data(self,timetable_df,merged_space_data_df):\n",
        "        print(\"# merge - space_data + timetable_data\")\n",
        "        merged_timetable_df = pd.merge(timetable_df,merged_space_data_df,on=['Campus Code','Building Code','Room Code'])\n",
        "        print((timetable_df.shape, merged_timetable_df.shape))\n",
        "        print('Unable to merge records:',timetable_df.shape[0]-merged_timetable_df.shape[0])\n",
        "        return merged_timetable_df\n",
        "\n",
        "    def get_merged_meeting_room_usage_data(self,meeting_room_usage_df,merged_space_data_df):\n",
        "        print(\"# merge - space_data + meeting_room_usage\")\n",
        "        merged_meeting_room_usage_df = pd.merge(meeting_room_usage_df,merged_space_data_df,on=['Campus Code','Building Code','Floor Code','Room Code'])\n",
        "        print((meeting_room_usage_df.shape, merged_meeting_room_usage_df.shape))\n",
        "        print('Unable to merge records:',meeting_room_usage_df.shape[0]-merged_meeting_room_usage_df.shape[0])\n",
        "        return merged_meeting_room_usage_df"
      ],
      "execution_count": 4,
      "outputs": []
    },
    {
      "cell_type": "code",
      "metadata": {
        "colab_type": "code",
        "id": "4bsL2pSMAvr0",
        "colab": {}
      },
      "source": [
        "class DataProcessor():\n",
        "    def __init__(self,uom_space_url,rm_category_type_url,\n",
        "                 em_location_url,av_equipment_url,\n",
        "                 timetable_2020_url,floor_name_url,\n",
        "                 meeting_room_usage_url):\n",
        "        self.uom_space_url = uom_space_url\n",
        "        self.rm_category_type_url = rm_category_type_url\n",
        "        self.em_location_url = em_location_url\n",
        "        self.av_equipment_url = av_equipment_url\n",
        "        self.timetable_2020_url = timetable_2020_url\n",
        "        self.floor_name_url = floor_name_url\n",
        "        self.meeting_room_usage_url = meeting_room_usage_url\n",
        "\n",
        "    def load_data(self):\n",
        "        self.uom_space_df = pd.read_excel(uom_space_url)\n",
        "        self.rm_category_type_df = pd.read_excel(rm_category_type_url)\n",
        "        self.em_location_df = pd.read_excel(em_location_url)\n",
        "        self.av_equipment_df = pd.read_excel(av_equipment_url)\n",
        "        self.timetable_df = pd.read_excel(timetable_2020_url, delim_whitespace=True)\n",
        "        self.floor_df = pd.read_excel(floor_name_url)\n",
        "        self.meeting_room_usage_df = pd.read_excel(meeting_room_usage_url)\n",
        "        print('Data loaded successfully!')\n",
        "        # data shapes\n",
        "        print(\"UOM space shape:\"+str(self.uom_space_df.shape))\n",
        "        print(\"RM category:\"+str(self.rm_category_type_df.shape))\n",
        "        print(\"EM location:\"+str(self.em_location_df.shape))\n",
        "        print(\"AV equipment:\"+str(self.av_equipment_df.shape))\n",
        "        print(\"2020 timetable:\"+str(self.timetable_df.shape))\n",
        "        print(\"Floor data shape:\"+str(self.floor_df.shape))\n",
        "        print(\"Meeting room usage shape:\"+str(self.meeting_room_usage_df.shape))\n",
        "\n",
        "    def get_all_datasets(self):\n",
        "\n",
        "        print(\"# clean data\")\n",
        "        _cleaner = DataCleaner()\n",
        "        self.uom_space_df = _cleaner.clean_uom_space(self.uom_space_df)\n",
        "        self.rm_category_type_df = _cleaner.clean_rm_category_type(self.rm_category_type_df)\n",
        "        self.floor_df = _cleaner.clean_floor_data(self.floor_df)\n",
        "        self.em_location_df = _cleaner.clean_em_location(self.em_location_df)\n",
        "        self.av_equipment_df = _cleaner.clean_av_equipment(self.av_equipment_df)\n",
        "        self.timetable_df = _cleaner.clean_timetable_data(self.timetable_df)\n",
        "        self.meeting_room_usage_df = _cleaner.clean_meeting_room_usage(self.meeting_room_usage_df)\n",
        "\n",
        "        print(\"# mutate data\")\n",
        "        _mutator = DataMutator()\n",
        "        self.em_location_df = _mutator.mutate_em_location(self.em_location_df)\n",
        "        self.timetable_df = _mutator.mutate_timetable_data(self.timetable_df)\n",
        "\n",
        "        print(\"# merge data\")\n",
        "        _merger = DataMerger()\n",
        "        self.merged_space_data = _merger.get_merged_space_data(self.uom_space_df, self.rm_category_type_df, self.floor_df)\n",
        "        self.merged_em_location_data = _merger.get_merged_em_location_data(self.em_location_df,self.merged_space_data)\n",
        "        self.merged_av_equipment_data = _merger.get_merged_av_equipment_data(self.av_equipment_df,self.merged_space_data)\n",
        "        self.merged_timetable_data = _merger.get_merged_timetable_data(self.timetable_df,self.merged_space_data)\n",
        "        self.merged_meeting_room_usage_data = _merger.get_merged_meeting_room_usage_data(self.meeting_room_usage_df,self.merged_space_data)\n",
        "\n",
        "        return self.merged_space_data, self.merged_em_location_data, self.merged_av_equipment_data, self.merged_timetable_data, self.merged_meeting_room_usage_data"
      ],
      "execution_count": 5,
      "outputs": []
    },
    {
      "cell_type": "code",
      "metadata": {
        "id": "wsytjpvRgvSq",
        "colab_type": "code",
        "colab": {
          "base_uri": "https://localhost:8080/",
          "height": 34
        },
        "outputId": "6360786c-199f-4493-bf76-17276f1e7c1f"
      },
      "source": [
        "from google.colab import drive\n",
        "drive.mount(\"/content/drive\")"
      ],
      "execution_count": 6,
      "outputs": [
        {
          "output_type": "stream",
          "text": [
            "Mounted at /content/drive\n"
          ],
          "name": "stdout"
        }
      ]
    },
    {
      "cell_type": "code",
      "metadata": {
        "colab_type": "code",
        "id": "cSiem3iIIOTW",
        "colab": {}
      },
      "source": [
        "# local urls\n",
        "uom_space_url = '/content/drive/My Drive//project-data/uom-space.xlsx'\n",
        "rm_category_type_url = '/content/drive/My Drive/project-data/rm-category-type-cleaned.xlsx'\n",
        "em_location_url = '/content/drive/My Drive/project-data/em-location.xlsx'\n",
        "av_equipment_url = '/content/drive/My Drive/project-data/av-equipment.xlsx'\n",
        "timetable_2020_url = '/content/drive/My Drive/project-data/2020-timetable-v2.xlsx'\n",
        "floor_name_url = '/content/drive/My Drive/project-data/fl-name-cleaned.xlsx'\n",
        "meeting_room_usage_url = '/content/drive/My Drive/project-data/meeting-room-usage.xlsx'"
      ],
      "execution_count": 7,
      "outputs": []
    },
    {
      "cell_type": "code",
      "metadata": {
        "colab_type": "code",
        "id": "6EJpvmXrILam",
        "colab": {
          "base_uri": "https://localhost:8080/",
          "height": 153
        },
        "outputId": "fc2edfc5-6ccb-478c-e160-10680c77b5a3"
      },
      "source": [
        "# load data\n",
        "_processor = DataProcessor(uom_space_url,rm_category_type_url,em_location_url,av_equipment_url,\n",
        "                           timetable_2020_url,floor_name_url,meeting_room_usage_url)\n",
        "_processor.load_data()"
      ],
      "execution_count": 8,
      "outputs": [
        {
          "output_type": "stream",
          "text": [
            "Data loaded successfully!\n",
            "UOM space shape:(22166, 14)\n",
            "RM category:(209, 5)\n",
            "EM location:(7709, 4)\n",
            "AV equipment:(1964, 11)\n",
            "2020 timetable:(131857, 23)\n",
            "Floor data shape:(1369, 3)\n",
            "Meeting room usage shape:(1462, 22)\n"
          ],
          "name": "stdout"
        }
      ]
    },
    {
      "cell_type": "code",
      "metadata": {
        "colab_type": "code",
        "id": "anFAmM3AI13X",
        "colab": {
          "base_uri": "https://localhost:8080/",
          "height": 374
        },
        "outputId": "6aa4328c-59c1-4da4-d982-c3b513697eb0"
      },
      "source": [
        "# get datasets - after cleaning, mutation and merging\n",
        "space_data, employee_data, av_equipment_data, timetable_data, mr_usage_data = _processor.get_all_datasets()"
      ],
      "execution_count": 9,
      "outputs": [
        {
          "output_type": "stream",
          "text": [
            "# clean data\n",
            "# mutate data\n",
            "# merge data\n",
            "# Merge - uom_space + floor_data\n",
            "((22166, 14), (22166, 15))\n",
            "Unable to merge records: 0\n",
            "# Merge - enhanced_uom_space + rm_category_type\n",
            "((22166, 15), (22166, 18))\n",
            "Unable to merge records: 0\n",
            "# merge - space_data + em_location\n",
            "((7709, 4), (6962, 19))\n",
            "Unable to merge records: 747\n",
            "# merge - space_data + av_equipment\n",
            "((1964, 11), (1646, 25))\n",
            "Unable to merge records: 318\n",
            "# merge - space_data + timetable_data\n",
            "((119419, 27), (116981, 42))\n",
            "Unable to merge records: 2438\n",
            "# merge - space_data + meeting_room_usage\n",
            "((890, 22), (728, 36))\n",
            "Unable to merge records: 162\n"
          ],
          "name": "stdout"
        }
      ]
    },
    {
      "cell_type": "code",
      "metadata": {
        "colab_type": "code",
        "id": "8J2BCDK2MqIy",
        "colab": {}
      },
      "source": [
        "class DataExtractor():\n",
        "\n",
        "    def get_meeting_rooms_data(self,rm_category_type_df,space_data):\n",
        "        # possible meeting rooms\n",
        "        possible_rooms = rm_category_type_df[rm_category_type_df['Room Type'].str.contains(\"601|629\")]\n",
        "        meeting_room_types = possible_rooms['Room Type'].tolist()\n",
        "\n",
        "        # supply of meeting rooms\n",
        "        possible_meeting_rooms_df = space_data[space_data['Room Type'].isin(meeting_room_types)]\n",
        "        return possible_meeting_rooms_df\n",
        "\n",
        "    def get_toilets_data(self,rm_category_type_df,space_data):\n",
        "        possible_rooms = rm_category_type_df[rm_category_type_df['Room Type Definition'].str.contains(\"toilet|washroom\")]\n",
        "        toilet_room_types = possible_rooms['Room Type'].tolist()\n",
        "\n",
        "        possible_toilets_df = space_data[space_data['Room Type'].isin(toilet_room_types)]\n",
        "        return possible_toilets_df"
      ],
      "execution_count": 10,
      "outputs": []
    },
    {
      "cell_type": "code",
      "metadata": {
        "colab_type": "code",
        "id": "TO3sBeKfNJ1h",
        "colab": {}
      },
      "source": [
        "_extractor = DataExtractor()\n",
        "possible_meeting_rooms_data = _extractor.get_meeting_rooms_data(_processor.rm_category_type_df, space_data)\n",
        "possible_toilets_data = _extractor.get_toilets_data(_processor.rm_category_type_df, space_data)"
      ],
      "execution_count": 11,
      "outputs": []
    },
    {
      "cell_type": "markdown",
      "metadata": {
        "colab_type": "text",
        "id": "6pQq-sBpLqDh"
      },
      "source": [
        "## Floor based prediction model"
      ]
    },
    {
      "cell_type": "code",
      "metadata": {
        "colab_type": "code",
        "id": "KNKeWjbhMXfk",
        "colab": {}
      },
      "source": [
        "space_data.head(5)"
      ],
      "execution_count": null,
      "outputs": []
    },
    {
      "cell_type": "code",
      "metadata": {
        "id": "eFAP8lG_fkId",
        "colab_type": "code",
        "colab": {
          "base_uri": "https://localhost:8080/",
          "height": 136
        },
        "outputId": "eb6d4374-5740-471f-bcee-bfa10c0d878f"
      },
      "source": [
        "space_data.columns"
      ],
      "execution_count": 13,
      "outputs": [
        {
          "output_type": "execute_result",
          "data": {
            "text/plain": [
              "Index(['Campus Code', 'Building Code', 'Building Name', 'Floor Code',\n",
              "       'Room Code', 'Room Name', 'Room Category', 'Room Type',\n",
              "       'Room Type Abbreviation_x', 'Room Capacity', 'Room Area m²',\n",
              "       'Room Condition 2018', 'Department Code', 'Room Location Code',\n",
              "       'Floor Name', 'Room Type Abbreviation_y', 'Description',\n",
              "       'Room Type Definition'],\n",
              "      dtype='object')"
            ]
          },
          "metadata": {
            "tags": []
          },
          "execution_count": 13
        }
      ]
    },
    {
      "cell_type": "code",
      "metadata": {
        "id": "q_xfDhPJfkIh",
        "colab_type": "code",
        "colab": {}
      },
      "source": [
        "# find out the number of meeting rooms with excellent, very good, good condition\n",
        "import numpy as np\n",
        "possible_meeting_rooms_data[\"Good\"] = np.where((possible_meeting_rooms_data['Room Condition 2018'] == \"Good\"), 1, 0)\n",
        "possible_meeting_rooms_data[\"Excellent\"] = np.where((possible_meeting_rooms_data['Room Condition 2018'] == \"Excellent\"), 1, 0)\n",
        "possible_meeting_rooms_data[\"Very Good\"] = np.where((possible_meeting_rooms_data['Room Condition 2018'] == \"Very Good\"), 1, 0)"
      ],
      "execution_count": 14,
      "outputs": []
    },
    {
      "cell_type": "code",
      "metadata": {
        "colab_type": "code",
        "id": "J_aHe4fpbW1a",
        "colab": {}
      },
      "source": [
        "building_code = '104'"
      ],
      "execution_count": 15,
      "outputs": []
    },
    {
      "cell_type": "code",
      "metadata": {
        "colab_type": "code",
        "id": "SNmuCfucLu9V",
        "colab": {
          "base_uri": "https://localhost:8080/",
          "height": 34
        },
        "outputId": "d496c4c2-a64c-49e3-f9fa-36a01dd9e474"
      },
      "source": [
        "# alan gilbert building\n",
        "data_104 = space_data[space_data['Building Code']==building_code]\n",
        "data_104.shape"
      ],
      "execution_count": 16,
      "outputs": [
        {
          "output_type": "execute_result",
          "data": {
            "text/plain": [
              "(486, 18)"
            ]
          },
          "metadata": {
            "tags": []
          },
          "execution_count": 16
        }
      ]
    },
    {
      "cell_type": "code",
      "metadata": {
        "id": "9KsGffWpuenm",
        "colab_type": "code",
        "colab": {
          "base_uri": "https://localhost:8080/",
          "height": 111
        },
        "outputId": "d14b1c6a-c81c-4f12-f024-2376f15a49d3"
      },
      "source": [
        "timetable_104 = timetable_data[timetable_data['Building Code'] == building_code]\n",
        "timetable_104.groupby(by = ['Floor Code','Floor Name'], as_index=False).agg({ 'Class Duration In Minutes':'mean'})"
      ],
      "execution_count": 17,
      "outputs": [
        {
          "output_type": "execute_result",
          "data": {
            "text/html": [
              "<div>\n",
              "<style scoped>\n",
              "    .dataframe tbody tr th:only-of-type {\n",
              "        vertical-align: middle;\n",
              "    }\n",
              "\n",
              "    .dataframe tbody tr th {\n",
              "        vertical-align: top;\n",
              "    }\n",
              "\n",
              "    .dataframe thead th {\n",
              "        text-align: right;\n",
              "    }\n",
              "</style>\n",
              "<table border=\"1\" class=\"dataframe\">\n",
              "  <thead>\n",
              "    <tr style=\"text-align: right;\">\n",
              "      <th></th>\n",
              "      <th>Floor Code</th>\n",
              "      <th>Floor Name</th>\n",
              "      <th>Class Duration In Minutes</th>\n",
              "    </tr>\n",
              "  </thead>\n",
              "  <tbody>\n",
              "    <tr>\n",
              "      <th>0</th>\n",
              "      <td>0</td>\n",
              "      <td>Ground</td>\n",
              "      <td>73.065855</td>\n",
              "    </tr>\n",
              "    <tr>\n",
              "      <th>1</th>\n",
              "      <td>1</td>\n",
              "      <td>Level 1</td>\n",
              "      <td>90.519668</td>\n",
              "    </tr>\n",
              "  </tbody>\n",
              "</table>\n",
              "</div>"
            ],
            "text/plain": [
              "  Floor Code Floor Name  Class Duration In Minutes\n",
              "0          0     Ground                  73.065855\n",
              "1          1    Level 1                  90.519668"
            ]
          },
          "metadata": {
            "tags": []
          },
          "execution_count": 17
        }
      ]
    },
    {
      "cell_type": "code",
      "metadata": {
        "colab_type": "code",
        "id": "ofIphmruSKjL",
        "colab": {}
      },
      "source": [
        "possible_floors_104 = data_104.groupby(by=['Floor Code','Floor Name'],as_index=False).agg({'Room Code':pd.Series.nunique})\n",
        "possible_floors_104"
      ],
      "execution_count": null,
      "outputs": []
    },
    {
      "cell_type": "code",
      "metadata": {
        "colab_type": "code",
        "id": "lza21DFANbjM",
        "colab": {
          "base_uri": "https://localhost:8080/",
          "height": 34
        },
        "outputId": "4df96767-0a2d-410a-b9df-7bf78df60048"
      },
      "source": [
        "meeting_rooms_104 = possible_meeting_rooms_data[possible_meeting_rooms_data['Building Code']==building_code]\n",
        "meeting_rooms_104.shape"
      ],
      "execution_count": 19,
      "outputs": [
        {
          "output_type": "execute_result",
          "data": {
            "text/plain": [
              "(33, 21)"
            ]
          },
          "metadata": {
            "tags": []
          },
          "execution_count": 19
        }
      ]
    },
    {
      "cell_type": "code",
      "metadata": {
        "id": "VzQefTyyfkIu",
        "colab_type": "code",
        "colab": {}
      },
      "source": [
        "room_condition_104 = meeting_rooms_104.groupby(by=['Floor Code','Floor Name','Room Condition 2018'],as_index=False).agg({'Room Code':pd.Series.nunique})"
      ],
      "execution_count": 20,
      "outputs": []
    },
    {
      "cell_type": "code",
      "metadata": {
        "id": "D_9Qjg4ifkIw",
        "colab_type": "code",
        "colab": {
          "base_uri": "https://localhost:8080/",
          "height": 266
        },
        "outputId": "a38acf4f-62d2-44be-d778-7204a060ab9e"
      },
      "source": [
        "room_condition_104"
      ],
      "execution_count": 21,
      "outputs": [
        {
          "output_type": "execute_result",
          "data": {
            "text/html": [
              "<div>\n",
              "<style scoped>\n",
              "    .dataframe tbody tr th:only-of-type {\n",
              "        vertical-align: middle;\n",
              "    }\n",
              "\n",
              "    .dataframe tbody tr th {\n",
              "        vertical-align: top;\n",
              "    }\n",
              "\n",
              "    .dataframe thead th {\n",
              "        text-align: right;\n",
              "    }\n",
              "</style>\n",
              "<table border=\"1\" class=\"dataframe\">\n",
              "  <thead>\n",
              "    <tr style=\"text-align: right;\">\n",
              "      <th></th>\n",
              "      <th>Floor Code</th>\n",
              "      <th>Floor Name</th>\n",
              "      <th>Room Condition 2018</th>\n",
              "      <th>Room Code</th>\n",
              "    </tr>\n",
              "  </thead>\n",
              "  <tbody>\n",
              "    <tr>\n",
              "      <th>0</th>\n",
              "      <td>1</td>\n",
              "      <td>Level 1</td>\n",
              "      <td>Excellent</td>\n",
              "      <td>2</td>\n",
              "    </tr>\n",
              "    <tr>\n",
              "      <th>1</th>\n",
              "      <td>2</td>\n",
              "      <td>Level 2</td>\n",
              "      <td>Good</td>\n",
              "      <td>5</td>\n",
              "    </tr>\n",
              "    <tr>\n",
              "      <th>2</th>\n",
              "      <td>3</td>\n",
              "      <td>Level 3</td>\n",
              "      <td>Good</td>\n",
              "      <td>1</td>\n",
              "    </tr>\n",
              "    <tr>\n",
              "      <th>3</th>\n",
              "      <td>4</td>\n",
              "      <td>Level 4</td>\n",
              "      <td>Excellent</td>\n",
              "      <td>12</td>\n",
              "    </tr>\n",
              "    <tr>\n",
              "      <th>4</th>\n",
              "      <td>5</td>\n",
              "      <td>Level 5</td>\n",
              "      <td>Excellent</td>\n",
              "      <td>8</td>\n",
              "    </tr>\n",
              "    <tr>\n",
              "      <th>5</th>\n",
              "      <td>6</td>\n",
              "      <td>Level 6</td>\n",
              "      <td>Excellent</td>\n",
              "      <td>3</td>\n",
              "    </tr>\n",
              "    <tr>\n",
              "      <th>6</th>\n",
              "      <td>7</td>\n",
              "      <td>Level 7</td>\n",
              "      <td>Excellent</td>\n",
              "      <td>2</td>\n",
              "    </tr>\n",
              "  </tbody>\n",
              "</table>\n",
              "</div>"
            ],
            "text/plain": [
              "  Floor Code Floor Name Room Condition 2018  Room Code\n",
              "0          1    Level 1           Excellent          2\n",
              "1          2    Level 2                Good          5\n",
              "2          3    Level 3                Good          1\n",
              "3          4    Level 4           Excellent         12\n",
              "4          5    Level 5           Excellent          8\n",
              "5          6    Level 6           Excellent          3\n",
              "6          7    Level 7           Excellent          2"
            ]
          },
          "metadata": {
            "tags": []
          },
          "execution_count": 21
        }
      ]
    },
    {
      "cell_type": "code",
      "metadata": {
        "id": "TUr7eUYvfkIz",
        "colab_type": "code",
        "colab": {
          "base_uri": "https://localhost:8080/",
          "height": 266
        },
        "outputId": "196fabe9-cff5-4f43-98ce-08b9a140b215"
      },
      "source": [
        "meeting_rooms_104.groupby(by = ['Floor Code','Floor Name'], as_index=False).agg({'Good':sum, 'Very Good':sum, 'Excellent':sum,'Room Capacity':sum})"
      ],
      "execution_count": 22,
      "outputs": [
        {
          "output_type": "execute_result",
          "data": {
            "text/html": [
              "<div>\n",
              "<style scoped>\n",
              "    .dataframe tbody tr th:only-of-type {\n",
              "        vertical-align: middle;\n",
              "    }\n",
              "\n",
              "    .dataframe tbody tr th {\n",
              "        vertical-align: top;\n",
              "    }\n",
              "\n",
              "    .dataframe thead th {\n",
              "        text-align: right;\n",
              "    }\n",
              "</style>\n",
              "<table border=\"1\" class=\"dataframe\">\n",
              "  <thead>\n",
              "    <tr style=\"text-align: right;\">\n",
              "      <th></th>\n",
              "      <th>Floor Code</th>\n",
              "      <th>Floor Name</th>\n",
              "      <th>Good</th>\n",
              "      <th>Very Good</th>\n",
              "      <th>Excellent</th>\n",
              "      <th>Room Capacity</th>\n",
              "    </tr>\n",
              "  </thead>\n",
              "  <tbody>\n",
              "    <tr>\n",
              "      <th>0</th>\n",
              "      <td>1</td>\n",
              "      <td>Level 1</td>\n",
              "      <td>0</td>\n",
              "      <td>0</td>\n",
              "      <td>2</td>\n",
              "      <td>8.0</td>\n",
              "    </tr>\n",
              "    <tr>\n",
              "      <th>1</th>\n",
              "      <td>2</td>\n",
              "      <td>Level 2</td>\n",
              "      <td>5</td>\n",
              "      <td>0</td>\n",
              "      <td>0</td>\n",
              "      <td>58.0</td>\n",
              "    </tr>\n",
              "    <tr>\n",
              "      <th>2</th>\n",
              "      <td>3</td>\n",
              "      <td>Level 3</td>\n",
              "      <td>1</td>\n",
              "      <td>0</td>\n",
              "      <td>0</td>\n",
              "      <td>6.0</td>\n",
              "    </tr>\n",
              "    <tr>\n",
              "      <th>3</th>\n",
              "      <td>4</td>\n",
              "      <td>Level 4</td>\n",
              "      <td>0</td>\n",
              "      <td>0</td>\n",
              "      <td>12</td>\n",
              "      <td>76.0</td>\n",
              "    </tr>\n",
              "    <tr>\n",
              "      <th>4</th>\n",
              "      <td>5</td>\n",
              "      <td>Level 5</td>\n",
              "      <td>0</td>\n",
              "      <td>0</td>\n",
              "      <td>8</td>\n",
              "      <td>84.0</td>\n",
              "    </tr>\n",
              "    <tr>\n",
              "      <th>5</th>\n",
              "      <td>6</td>\n",
              "      <td>Level 6</td>\n",
              "      <td>0</td>\n",
              "      <td>0</td>\n",
              "      <td>3</td>\n",
              "      <td>16.0</td>\n",
              "    </tr>\n",
              "    <tr>\n",
              "      <th>6</th>\n",
              "      <td>7</td>\n",
              "      <td>Level 7</td>\n",
              "      <td>0</td>\n",
              "      <td>0</td>\n",
              "      <td>2</td>\n",
              "      <td>33.0</td>\n",
              "    </tr>\n",
              "  </tbody>\n",
              "</table>\n",
              "</div>"
            ],
            "text/plain": [
              "  Floor Code Floor Name  Good  Very Good  Excellent  Room Capacity\n",
              "0          1    Level 1     0          0          2            8.0\n",
              "1          2    Level 2     5          0          0           58.0\n",
              "2          3    Level 3     1          0          0            6.0\n",
              "3          4    Level 4     0          0         12           76.0\n",
              "4          5    Level 5     0          0          8           84.0\n",
              "5          6    Level 6     0          0          3           16.0\n",
              "6          7    Level 7     0          0          2           33.0"
            ]
          },
          "metadata": {
            "tags": []
          },
          "execution_count": 22
        }
      ]
    },
    {
      "cell_type": "code",
      "metadata": {
        "colab_type": "code",
        "id": "oIBzmBrcNxUL",
        "colab": {
          "base_uri": "https://localhost:8080/",
          "height": 153
        },
        "outputId": "9b56e675-cf62-46a6-e5b1-cb4aa3485925"
      },
      "source": [
        "# props of good condition meeting rooms\n",
        "meeting_rooms_104_by_floor = meeting_rooms_104.groupby(by = ['Floor Code','Floor Name'], as_index=False).agg({'Good':sum, 'Very Good':sum, 'Excellent':sum,'Room Capacity':sum,'Room Capacity':sum, 'Room Code':pd.Series.nunique})\n",
        "print(meeting_rooms_104_by_floor)"
      ],
      "execution_count": 23,
      "outputs": [
        {
          "output_type": "stream",
          "text": [
            "  Floor Code Floor Name  Good  Very Good  Excellent  Room Capacity  Room Code\n",
            "0          1    Level 1     0          0          2            8.0          2\n",
            "1          2    Level 2     5          0          0           58.0          5\n",
            "2          3    Level 3     1          0          0            6.0          1\n",
            "3          4    Level 4     0          0         12           76.0         12\n",
            "4          5    Level 5     0          0          8           84.0          8\n",
            "5          6    Level 6     0          0          3           16.0          3\n",
            "6          7    Level 7     0          0          2           33.0          2\n"
          ],
          "name": "stdout"
        }
      ]
    },
    {
      "cell_type": "code",
      "metadata": {
        "id": "0WnZpXHTfkI4",
        "colab_type": "code",
        "colab": {
          "base_uri": "https://localhost:8080/",
          "height": 34
        },
        "outputId": "680ca9b1-a36e-45e2-85e3-a6be619250ec"
      },
      "source": [
        "meeting_rooms_104_by_floor['Room Code'].sum()"
      ],
      "execution_count": 24,
      "outputs": [
        {
          "output_type": "execute_result",
          "data": {
            "text/plain": [
              "33"
            ]
          },
          "metadata": {
            "tags": []
          },
          "execution_count": 24
        }
      ]
    },
    {
      "cell_type": "code",
      "metadata": {
        "colab_type": "code",
        "id": "BOXXzWHzViRd",
        "colab": {
          "base_uri": "https://localhost:8080/",
          "height": 80
        },
        "outputId": "4ca9d9a3-085c-49a1-bafc-4a3eead0ecfa"
      },
      "source": [
        "meeting_rooms_104_by_floor[meeting_rooms_104_by_floor['Floor Code']=='1']"
      ],
      "execution_count": 25,
      "outputs": [
        {
          "output_type": "execute_result",
          "data": {
            "text/html": [
              "<div>\n",
              "<style scoped>\n",
              "    .dataframe tbody tr th:only-of-type {\n",
              "        vertical-align: middle;\n",
              "    }\n",
              "\n",
              "    .dataframe tbody tr th {\n",
              "        vertical-align: top;\n",
              "    }\n",
              "\n",
              "    .dataframe thead th {\n",
              "        text-align: right;\n",
              "    }\n",
              "</style>\n",
              "<table border=\"1\" class=\"dataframe\">\n",
              "  <thead>\n",
              "    <tr style=\"text-align: right;\">\n",
              "      <th></th>\n",
              "      <th>Floor Code</th>\n",
              "      <th>Floor Name</th>\n",
              "      <th>Good</th>\n",
              "      <th>Very Good</th>\n",
              "      <th>Excellent</th>\n",
              "      <th>Room Capacity</th>\n",
              "      <th>Room Code</th>\n",
              "    </tr>\n",
              "  </thead>\n",
              "  <tbody>\n",
              "    <tr>\n",
              "      <th>0</th>\n",
              "      <td>1</td>\n",
              "      <td>Level 1</td>\n",
              "      <td>0</td>\n",
              "      <td>0</td>\n",
              "      <td>2</td>\n",
              "      <td>8.0</td>\n",
              "      <td>2</td>\n",
              "    </tr>\n",
              "  </tbody>\n",
              "</table>\n",
              "</div>"
            ],
            "text/plain": [
              "  Floor Code Floor Name  Good  Very Good  Excellent  Room Capacity  Room Code\n",
              "0          1    Level 1     0          0          2            8.0          2"
            ]
          },
          "metadata": {
            "tags": []
          },
          "execution_count": 25
        }
      ]
    },
    {
      "cell_type": "code",
      "metadata": {
        "colab_type": "code",
        "id": "qrXCiXuIOwbK",
        "colab": {
          "base_uri": "https://localhost:8080/",
          "height": 34
        },
        "outputId": "cf757538-0a44-4399-e893-99d3679b76c7"
      },
      "source": [
        "em_104 = employee_data[employee_data['Building Code']==building_code]\n",
        "em_104.shape"
      ],
      "execution_count": 26,
      "outputs": [
        {
          "output_type": "execute_result",
          "data": {
            "text/plain": [
              "(329, 19)"
            ]
          },
          "metadata": {
            "tags": []
          },
          "execution_count": 26
        }
      ]
    },
    {
      "cell_type": "code",
      "metadata": {
        "colab_type": "code",
        "id": "y_WFMU7EO6hU",
        "colab": {
          "base_uri": "https://localhost:8080/",
          "height": 266
        },
        "outputId": "cc3f5650-193d-422a-841c-553d0a4449f6"
      },
      "source": [
        "em_104_by_floor = em_104.groupby(by=['Floor Code','Floor Name'], as_index=False).agg({'Employee Sequential ID':pd.Series.nunique})\n",
        "em_104_by_floor['props']  = em_104_by_floor['Employee Sequential ID']/em_104.shape[0]\n",
        "em_104_by_floor"
      ],
      "execution_count": 27,
      "outputs": [
        {
          "output_type": "execute_result",
          "data": {
            "text/html": [
              "<div>\n",
              "<style scoped>\n",
              "    .dataframe tbody tr th:only-of-type {\n",
              "        vertical-align: middle;\n",
              "    }\n",
              "\n",
              "    .dataframe tbody tr th {\n",
              "        vertical-align: top;\n",
              "    }\n",
              "\n",
              "    .dataframe thead th {\n",
              "        text-align: right;\n",
              "    }\n",
              "</style>\n",
              "<table border=\"1\" class=\"dataframe\">\n",
              "  <thead>\n",
              "    <tr style=\"text-align: right;\">\n",
              "      <th></th>\n",
              "      <th>Floor Code</th>\n",
              "      <th>Floor Name</th>\n",
              "      <th>Employee Sequential ID</th>\n",
              "      <th>props</th>\n",
              "    </tr>\n",
              "  </thead>\n",
              "  <tbody>\n",
              "    <tr>\n",
              "      <th>0</th>\n",
              "      <td>0</td>\n",
              "      <td>Ground</td>\n",
              "      <td>10</td>\n",
              "      <td>0.030395</td>\n",
              "    </tr>\n",
              "    <tr>\n",
              "      <th>1</th>\n",
              "      <td>1</td>\n",
              "      <td>Level 1</td>\n",
              "      <td>29</td>\n",
              "      <td>0.088146</td>\n",
              "    </tr>\n",
              "    <tr>\n",
              "      <th>2</th>\n",
              "      <td>2</td>\n",
              "      <td>Level 2</td>\n",
              "      <td>61</td>\n",
              "      <td>0.185410</td>\n",
              "    </tr>\n",
              "    <tr>\n",
              "      <th>3</th>\n",
              "      <td>4</td>\n",
              "      <td>Level 4</td>\n",
              "      <td>68</td>\n",
              "      <td>0.206687</td>\n",
              "    </tr>\n",
              "    <tr>\n",
              "      <th>4</th>\n",
              "      <td>5</td>\n",
              "      <td>Level 5</td>\n",
              "      <td>40</td>\n",
              "      <td>0.121581</td>\n",
              "    </tr>\n",
              "    <tr>\n",
              "      <th>5</th>\n",
              "      <td>6</td>\n",
              "      <td>Level 6</td>\n",
              "      <td>76</td>\n",
              "      <td>0.231003</td>\n",
              "    </tr>\n",
              "    <tr>\n",
              "      <th>6</th>\n",
              "      <td>7</td>\n",
              "      <td>Level 7</td>\n",
              "      <td>45</td>\n",
              "      <td>0.136778</td>\n",
              "    </tr>\n",
              "  </tbody>\n",
              "</table>\n",
              "</div>"
            ],
            "text/plain": [
              "  Floor Code Floor Name  Employee Sequential ID     props\n",
              "0          0     Ground                      10  0.030395\n",
              "1          1    Level 1                      29  0.088146\n",
              "2          2    Level 2                      61  0.185410\n",
              "3          4    Level 4                      68  0.206687\n",
              "4          5    Level 5                      40  0.121581\n",
              "5          6    Level 6                      76  0.231003\n",
              "6          7    Level 7                      45  0.136778"
            ]
          },
          "metadata": {
            "tags": []
          },
          "execution_count": 27
        }
      ]
    },
    {
      "cell_type": "code",
      "metadata": {
        "id": "q6ru7UH3fkJD",
        "colab_type": "code",
        "colab": {
          "base_uri": "https://localhost:8080/",
          "height": 170
        },
        "outputId": "aa3981ba-3242-4690-e6c4-c0df6a27d542"
      },
      "source": [
        "av_equipment_data.columns"
      ],
      "execution_count": 28,
      "outputs": [
        {
          "output_type": "execute_result",
          "data": {
            "text/plain": [
              "Index(['Equipment Code', 'Equipment Standard', 'Manufacturer', 'Equip. Status',\n",
              "       'Building Code', 'Floor Code', 'Room Code', 'Campus Code',\n",
              "       'Room Type_x', 'Room Type Abbreviation', 'Room Category_x',\n",
              "       'Building Name', 'Room Name', 'Room Category_y', 'Room Type_y',\n",
              "       'Room Type Abbreviation_x', 'Room Capacity', 'Room Area m²',\n",
              "       'Room Condition 2018', 'Department Code', 'Room Location Code',\n",
              "       'Floor Name', 'Room Type Abbreviation_y', 'Description',\n",
              "       'Room Type Definition'],\n",
              "      dtype='object')"
            ]
          },
          "metadata": {
            "tags": []
          },
          "execution_count": 28
        }
      ]
    },
    {
      "cell_type": "code",
      "metadata": {
        "id": "-FQv08bwfkJG",
        "colab_type": "code",
        "colab": {}
      },
      "source": [
        "# get equipment data for meeting rooms\n",
        "meetingroom_equipment = av_equipment_data[av_equipment_data['Room Type_x'].str.contains(\"601|629\")]\n",
        "# find out number of equip. in use\n",
        "meetingroom_equipment[\"Usable Equip.\"] = np.where((meetingroom_equipment['Equip. Status'] == \"In service\"), 1, 0)\n",
        "\n",
        "equipment_104 = meetingroom_equipment[meetingroom_equipment['Building Code']==building_code]"
      ],
      "execution_count": 29,
      "outputs": []
    },
    {
      "cell_type": "code",
      "metadata": {
        "id": "oBnOVJzlfkJI",
        "colab_type": "code",
        "colab": {
          "base_uri": "https://localhost:8080/",
          "height": 170
        },
        "outputId": "774603b9-865a-4cbd-9eb8-fd618b25738c"
      },
      "source": [
        "equipment_104.columns"
      ],
      "execution_count": 48,
      "outputs": [
        {
          "output_type": "execute_result",
          "data": {
            "text/plain": [
              "Index(['Equipment Code', 'Equipment Standard', 'Manufacturer', 'Equip. Status',\n",
              "       'Building Code', 'Floor Code', 'Room Code', 'Campus Code',\n",
              "       'Room Type_x', 'Room Type Abbreviation', 'Room Category_x',\n",
              "       'Building Name', 'Room Name', 'Room Category_y', 'Room Type_y',\n",
              "       'Room Type Abbreviation_x', 'Room Capacity', 'Room Area m²',\n",
              "       'Room Condition 2018', 'Department Code', 'Room Location Code',\n",
              "       'Floor Name', 'Room Type Abbreviation_y', 'Description',\n",
              "       'Room Type Definition', 'Usable Equip.'],\n",
              "      dtype='object')"
            ]
          },
          "metadata": {
            "tags": []
          },
          "execution_count": 48
        }
      ]
    },
    {
      "cell_type": "code",
      "metadata": {
        "id": "oBDA-NUsfkJL",
        "colab_type": "code",
        "colab": {}
      },
      "source": [
        "equipment_by_floor = equipment_104.groupby(by=['Floor Code','Floor Name'], as_index=False).agg({'Usable Equip.':sum})\n",
        "\n",
        "equipment_by_floor[\"props\"] = equipment_by_floor['Usable Equip.']/equipment_104.shape[0]"
      ],
      "execution_count": 31,
      "outputs": []
    },
    {
      "cell_type": "code",
      "metadata": {
        "id": "BlYwpuZsfkJQ",
        "colab_type": "code",
        "colab": {
          "base_uri": "https://localhost:8080/",
          "height": 111
        },
        "outputId": "a3d972bf-9724-48b5-a5a6-e391b2b591b0"
      },
      "source": [
        "equipment_by_floor"
      ],
      "execution_count": 32,
      "outputs": [
        {
          "output_type": "execute_result",
          "data": {
            "text/html": [
              "<div>\n",
              "<style scoped>\n",
              "    .dataframe tbody tr th:only-of-type {\n",
              "        vertical-align: middle;\n",
              "    }\n",
              "\n",
              "    .dataframe tbody tr th {\n",
              "        vertical-align: top;\n",
              "    }\n",
              "\n",
              "    .dataframe thead th {\n",
              "        text-align: right;\n",
              "    }\n",
              "</style>\n",
              "<table border=\"1\" class=\"dataframe\">\n",
              "  <thead>\n",
              "    <tr style=\"text-align: right;\">\n",
              "      <th></th>\n",
              "      <th>Floor Code</th>\n",
              "      <th>Floor Name</th>\n",
              "      <th>Usable Equip.</th>\n",
              "      <th>props</th>\n",
              "    </tr>\n",
              "  </thead>\n",
              "  <tbody>\n",
              "    <tr>\n",
              "      <th>0</th>\n",
              "      <td>4</td>\n",
              "      <td>Level 4</td>\n",
              "      <td>1</td>\n",
              "      <td>0.5</td>\n",
              "    </tr>\n",
              "    <tr>\n",
              "      <th>1</th>\n",
              "      <td>6</td>\n",
              "      <td>Level 6</td>\n",
              "      <td>1</td>\n",
              "      <td>0.5</td>\n",
              "    </tr>\n",
              "  </tbody>\n",
              "</table>\n",
              "</div>"
            ],
            "text/plain": [
              "  Floor Code Floor Name  Usable Equip.  props\n",
              "0          4    Level 4              1    0.5\n",
              "1          6    Level 6              1    0.5"
            ]
          },
          "metadata": {
            "tags": []
          },
          "execution_count": 32
        }
      ]
    },
    {
      "cell_type": "code",
      "metadata": {
        "id": "G__PAbH6lUru",
        "colab_type": "code",
        "colab": {
          "base_uri": "https://localhost:8080/",
          "height": 187
        },
        "outputId": "cd119f5c-d380-452f-c829-893b0e850a74"
      },
      "source": [
        " mr_usage_data.columns"
      ],
      "execution_count": 33,
      "outputs": [
        {
          "output_type": "execute_result",
          "data": {
            "text/plain": [
              "Index(['From', 'To', 'RoomEmail', 'Campus Code', 'Building Code',\n",
              "       'Building Name_x', 'Floor Code', 'Room Code', 'RoomName', 'Meetings',\n",
              "       'Duration', 'AvgDuration', 'TotAttendees', 'AvgAttendees',\n",
              "       'ReqAttendees', 'OptAttendees', 'AMtotal', 'AMperc', 'PMtotal',\n",
              "       'PMperc', 'RecTotal', 'RecPerc', 'Building Name_y', 'Room Name',\n",
              "       'Room Category', 'Room Type', 'Room Type Abbreviation_x',\n",
              "       'Room Capacity', 'Room Area m²', 'Room Condition 2018',\n",
              "       'Department Code', 'Room Location Code', 'Floor Name',\n",
              "       'Room Type Abbreviation_y', 'Description', 'Room Type Definition'],\n",
              "      dtype='object')"
            ]
          },
          "metadata": {
            "tags": []
          },
          "execution_count": 33
        }
      ]
    },
    {
      "cell_type": "code",
      "metadata": {
        "id": "-azJMzCfmA76",
        "colab_type": "code",
        "colab": {}
      },
      "source": [
        "usage_104 = mr_usage_data[mr_usage_data['Building Code']==building_code]"
      ],
      "execution_count": 55,
      "outputs": []
    },
    {
      "cell_type": "code",
      "metadata": {
        "id": "SfqA4duH2JQ4",
        "colab_type": "code",
        "colab": {}
      },
      "source": [
        "# number of meeting held in each floor\n",
        "count_df = usage_104.groupby(by=['Floor Code','Floor Name'],as_index=False).size().reset_index(name='Meeting_Counts')"
      ],
      "execution_count": 56,
      "outputs": []
    },
    {
      "cell_type": "code",
      "metadata": {
        "id": "lo6K2yqUHZsj",
        "colab_type": "code",
        "colab": {
          "base_uri": "https://localhost:8080/",
          "height": 266
        },
        "outputId": "65788600-3a8f-44b6-f456-98a765e7422b"
      },
      "source": [
        "count_df"
      ],
      "execution_count": 57,
      "outputs": [
        {
          "output_type": "execute_result",
          "data": {
            "text/html": [
              "<div>\n",
              "<style scoped>\n",
              "    .dataframe tbody tr th:only-of-type {\n",
              "        vertical-align: middle;\n",
              "    }\n",
              "\n",
              "    .dataframe tbody tr th {\n",
              "        vertical-align: top;\n",
              "    }\n",
              "\n",
              "    .dataframe thead th {\n",
              "        text-align: right;\n",
              "    }\n",
              "</style>\n",
              "<table border=\"1\" class=\"dataframe\">\n",
              "  <thead>\n",
              "    <tr style=\"text-align: right;\">\n",
              "      <th></th>\n",
              "      <th>Floor Code</th>\n",
              "      <th>Floor Name</th>\n",
              "      <th>Meeting_Counts</th>\n",
              "    </tr>\n",
              "  </thead>\n",
              "  <tbody>\n",
              "    <tr>\n",
              "      <th>0</th>\n",
              "      <td>1</td>\n",
              "      <td>Level 1</td>\n",
              "      <td>2</td>\n",
              "    </tr>\n",
              "    <tr>\n",
              "      <th>1</th>\n",
              "      <td>2</td>\n",
              "      <td>Level 2</td>\n",
              "      <td>4</td>\n",
              "    </tr>\n",
              "    <tr>\n",
              "      <th>2</th>\n",
              "      <td>3</td>\n",
              "      <td>Level 3</td>\n",
              "      <td>4</td>\n",
              "    </tr>\n",
              "    <tr>\n",
              "      <th>3</th>\n",
              "      <td>4</td>\n",
              "      <td>Level 4</td>\n",
              "      <td>11</td>\n",
              "    </tr>\n",
              "    <tr>\n",
              "      <th>4</th>\n",
              "      <td>5</td>\n",
              "      <td>Level 5</td>\n",
              "      <td>10</td>\n",
              "    </tr>\n",
              "    <tr>\n",
              "      <th>5</th>\n",
              "      <td>6</td>\n",
              "      <td>Level 6</td>\n",
              "      <td>3</td>\n",
              "    </tr>\n",
              "    <tr>\n",
              "      <th>6</th>\n",
              "      <td>7</td>\n",
              "      <td>Level 7</td>\n",
              "      <td>6</td>\n",
              "    </tr>\n",
              "  </tbody>\n",
              "</table>\n",
              "</div>"
            ],
            "text/plain": [
              "  Floor Code Floor Name  Meeting_Counts\n",
              "0          1    Level 1               2\n",
              "1          2    Level 2               4\n",
              "2          3    Level 3               4\n",
              "3          4    Level 4              11\n",
              "4          5    Level 5              10\n",
              "5          6    Level 6               3\n",
              "6          7    Level 7               6"
            ]
          },
          "metadata": {
            "tags": []
          },
          "execution_count": 57
        }
      ]
    },
    {
      "cell_type": "code",
      "metadata": {
        "id": "iqceXsil58w1",
        "colab_type": "code",
        "colab": {}
      },
      "source": [
        "duration_df = usage_104.groupby(by=['Floor Code','Floor Name'],as_index=False).agg({'AvgDuration':'mean'})"
      ],
      "execution_count": 37,
      "outputs": []
    },
    {
      "cell_type": "code",
      "metadata": {
        "id": "KoTp6lgl6rE-",
        "colab_type": "code",
        "colab": {}
      },
      "source": [
        "pd.merge(count_df, duration_df, on='Floor Code', how='outer')"
      ],
      "execution_count": null,
      "outputs": []
    },
    {
      "cell_type": "code",
      "metadata": {
        "id": "TnhWRChcuuJU",
        "colab_type": "code",
        "colab": {}
      },
      "source": [
        "import numpy as np\n",
        "from scipy.special import softmax\n",
        "from heapq import nlargest\n",
        "from random import randint\n",
        "import heapq\n",
        "\n",
        "class PriorityQueue:\n",
        "    \"\"\"\n",
        "      Implements a priority queue data structure. Each inserted item\n",
        "      has a priority associated with it and the client is usually interested\n",
        "      in quick retrieval of the lowest-priority item in the queue. This\n",
        "      data structure allows O(1) access to the lowest-priority item.\n",
        "    \"\"\"\n",
        "    def  __init__(self):\n",
        "        self.heap = []\n",
        "        self.count = 0\n",
        "\n",
        "    def push(self, item, priority):\n",
        "        entry = (priority, self.count, item)\n",
        "        heapq.heappush(self.heap, entry)\n",
        "        self.count += 1\n",
        "\n",
        "    def pop(self):\n",
        "        (_, _, item) = heapq.heappop(self.heap)\n",
        "        return item\n",
        "\n",
        "    def isEmpty(self):\n",
        "        return len(self.heap) == 0\n",
        "\n",
        "    def update(self, item, priority):\n",
        "        # If item already in priority queue with higher priority, update its priority and rebuild the heap.\n",
        "        # If item already in priority queue with equal or lower priority, do nothing.\n",
        "        # If item not in priority queue, do the same thing as self.push.\n",
        "        for index, (p, c, i) in enumerate(self.heap):\n",
        "            if i == item:\n",
        "                if p <= priority:\n",
        "                    break\n",
        "                del self.heap[index]\n",
        "                self.heap.append((priority, c, item))\n",
        "                heapq.heapify(self.heap)\n",
        "                break\n",
        "        else:\n",
        "            self.push(item, priority)\n",
        "\n",
        "def normalize_data(data):\n",
        "    return (data - np.min(data)) / (np.max(data) - np.min(data))\n"
      ],
      "execution_count": 39,
      "outputs": []
    },
    {
      "cell_type": "code",
      "metadata": {
        "id": "z2E_ftRmIPn4",
        "colab_type": "code",
        "colab": {}
      },
      "source": [
        "def find_MR_algorithm(current_building, floor_position, factors, k, objective):\n",
        "    B = 1\n",
        "    \n",
        "    meeting_rooms = possible_meeting_rooms_data[possible_meeting_rooms_data['Building Code']==current_building]\n",
        "    meeting_rooms_by_floor = meeting_rooms.groupby(by=['Floor Code','Floor Name'],as_index=False).agg({\"Room Code\": 'count', \"Room Capacity\":sum})\n",
        "    \n",
        "    possible_floors = meeting_rooms.groupby(by=['Floor Code','Floor Name'],as_index=False).agg({'Room Code':pd.Series.nunique})\n",
        "    possible_floors['Floor Code'] = possible_floors['Floor Code'].astype(float)\n",
        "    #meeting_rooms_by_floor = meeting_rooms.groupby( by = ['Floor Code','Floor Name'], as_index=False).agg({'Good':sum, 'Very Good':sum, 'Excellent':sum,'Room Capacity':sum, 'Room Code':pd.Series.nunique})\n",
        "    # create the graph\n",
        "    idx_of_position = possible_floors[possible_floors['Floor Code']==float(floor_position)].index[0]\n",
        "    meeting_rooms_by_floor['Floor Code'] = meeting_rooms_by_floor['Floor Code'].astype(float)\n",
        "    \n",
        "    '''\n",
        "    graph = []\n",
        "    for floors in meeting_rooms_by_floor['Floor Code']:\n",
        "        graph.append((float(idx_of_position), floors))\n",
        "    '''\n",
        "    \n",
        "    def get_graph(factors):\n",
        "        good = meeting_rooms['Room Condition 2018'] == 'Good'\n",
        "        very_good = meeting_rooms['Room Condition 2018'] == 'Very Good'\n",
        "        excellent = meeting_rooms['Room Condition 2018'] == 'Excellent'\n",
        "        if \"ROOM_CONDITION\" in factors:\n",
        "            condition = factors[\"ROOM_CONDITION\"].lower()\n",
        "            if condition == 'good':\n",
        "                available_meeting_rooms = meeting_rooms[good | very_good | excellent]\n",
        "      \n",
        "            elif condition == 'very good':\n",
        "                available_meeting_rooms = meeting_rooms[very_good | excellent]\n",
        "      \n",
        "            elif condition == 'excellent':\n",
        "                available_meeting_rooms = meeting_rooms[excellent]   \n",
        "        else: \n",
        "            available_meeting_rooms = meeting_rooms[good | very_good | excellent]\n",
        "        available_meeting_rooms_by_floor = available_meeting_rooms.groupby(by=['Floor Code','Floor Name'], as_index=False).agg({\"Room Capacity\":sum})\n",
        "        available_meeting_rooms_by_floor['Floor Code'] = available_meeting_rooms_by_floor['Floor Code'].astype(float)\n",
        "        graph = []\n",
        "        for floors in available_meeting_rooms_by_floor['Floor Code']:\n",
        "            graph.append((float(idx_of_position), floors))\n",
        "        return graph\n",
        "        \n",
        "    # employee data\n",
        "    employee = employee_data[employee_data['Building Code']==current_building]\n",
        "    employee_by_floor = employee.groupby(by=['Floor Code','Floor Name'], as_index=False).agg({'Employee Sequential ID':'count'})\n",
        "     \n",
        "# distance between floors - cost function  \n",
        "    def get_cost(node1, node2):\n",
        "        distance = abs(node1 - node2)\n",
        "        return distance\n",
        "    \n",
        "    def get_delta():\n",
        "        return randint(1,99)\n",
        "\n",
        "    def get_reward(node, objective, factors):  \n",
        "        # meeting_rooms that satisfy required condition\n",
        "        good = meeting_rooms['Room Condition 2018'] == 'Good'\n",
        "        very_good = meeting_rooms['Room Condition 2018'] == 'Very Good'\n",
        "        excellent = meeting_rooms['Room Condition 2018'] == 'Excellent' \n",
        "        if \"ROOM_CONDITION\" in factors:\n",
        "            condition = factors[\"ROOM_CONDITION\"].lower()\n",
        "            if condition == 'good':\n",
        "                available_meeting_rooms = meeting_rooms[good | very_good | excellent]\n",
        "      \n",
        "            elif condition == 'very good':\n",
        "                available_meeting_rooms = meeting_rooms[very_good | excellent]\n",
        "      \n",
        "            elif condition == 'excellent':\n",
        "                available_meeting_rooms = meeting_rooms[excellent]\n",
        "    \n",
        "        else: \n",
        "            available_meeting_rooms = meeting_rooms[good | very_good | excellent]\n",
        "        \n",
        "        available_meeting_rooms_by_floor = available_meeting_rooms.groupby(by=['Floor Code','Floor Name'], as_index=False).agg({\"Room Capacity\":sum})\n",
        "\n",
        "        total_meeting_rooms = available_meeting_rooms_by_floor['Room Capacity'].sum() \n",
        "      \n",
        "        total_employees = employee_by_floor['Employee Sequential ID'].sum()\n",
        "\n",
        "        \n",
        "        if total_meeting_rooms == 0:\n",
        "            print (\"No Suitable meeting_rooms In This Building\")        \n",
        "    \n",
        "        reward_df = pd.merge(available_meeting_rooms_by_floor, employee_by_floor, how = 'left', on = ['Floor Code','Floor Name'] )\n",
        "        reward_df = reward_df.fillna(0)\n",
        "        reward_df['Floor Code'] = reward_df['Floor Code'].astype(float)\n",
        "        \n",
        "        reward_df = reward_df[(reward_df['Floor Code']) == float(node)]\n",
        "      \n",
        "        reward_df['employee_prop'] = reward_df['Employee Sequential ID']/total_employees\n",
        "        reward_df['mr_prop'] = reward_df[\"Room Capacity\"]/total_meeting_rooms\n",
        "        \n",
        "        # COVID \n",
        "        if \"COVID_LOCKDOWN\" in factors:\n",
        "            situation = factors[\"COVID_LOCKDOWN\"].lower()\n",
        "            if situation == \"high\":\n",
        "            # demand is 0\n",
        "                demand = 0          \n",
        "            elif situation == \"medium\":\n",
        "            # demand is 25%\n",
        "                demand = reward_df['employee_prop'] * 0.25         \n",
        "            else:\n",
        "            # demand is 50%\n",
        "                demand = reward_df['employee_prop'] * 0.5         \n",
        "        else:\n",
        "            demand = reward_df['employee_prop']\n",
        "            \n",
        "        if float(demand) == 0:\n",
        "            reward = float(reward_df['mr_prop'])      \n",
        "        else:\n",
        "            reward = float(reward_df['mr_prop']/(demand))    \n",
        "        return reward\n",
        "\n",
        "    graph = get_graph(factors)\n",
        "    # <reward, node>\n",
        "    budget_nodes_queue = PriorityQueue()\n",
        "    best_k = []\n",
        "    for node in graph:\n",
        "        # sample a node\n",
        "        v_s, v_i = node\n",
        "        cost = get_cost(v_s, v_i)\n",
        "        reward = get_reward(v_i, objective, factors)\n",
        "        delta = get_delta()\n",
        "        if cost <= B + delta:\n",
        "            priority = -1 * reward\n",
        "            budget_nodes_queue.push((reward, cost, v_i), priority)\n",
        "            \n",
        "    # get k-optimal nodes\n",
        "    extracted_k = 0\n",
        "    while not budget_nodes_queue.isEmpty():\n",
        "        if extracted_k >= k:\n",
        "            break\n",
        "        best_k.append(budget_nodes_queue.pop())\n",
        "        extracted_k += 1\n",
        "\n",
        "    return best_k"
      ],
      "execution_count": 114,
      "outputs": []
    },
    {
      "cell_type": "code",
      "metadata": {
        "id": "mSTfCGdZkVmG",
        "colab_type": "code",
        "colab": {
          "base_uri": "https://localhost:8080/",
          "height": 68
        },
        "outputId": "13e062c5-d5e5-436b-e8aa-7afe9d06d33d"
      },
      "source": [
        "find_MR_algorithm(current_building = '104', floor_position = 1, factors = {'ROOM_CONDITION': 'excellent'}, k = 3, objective = 0)"
      ],
      "execution_count": 116,
      "outputs": [
        {
          "output_type": "execute_result",
          "data": {
            "text/plain": [
              "[(3.1838709677419352, 5.0, 5.0),\n",
              " (1.6944971537001896, 4.0, 4.0),\n",
              " (1.1118279569892475, 7.0, 7.0)]"
            ]
          },
          "metadata": {
            "tags": []
          },
          "execution_count": 116
        }
      ]
    },
    {
      "cell_type": "code",
      "metadata": {
        "id": "vxlGJhpvVQfx",
        "colab_type": "code",
        "colab": {}
      },
      "source": [
        "def find_toilet_algorithm(current_building, floor_position, factors, k, objective):\n",
        "    B = 1\n",
        "    \"\"\"\n",
        "    Find the most optimal nearest toilet\n",
        "\n",
        "    Parameters:\n",
        "    current_building \n",
        "    floor_position - current floor \n",
        "    factors = {'ROOM_CONDITION': , 'COVID_LOCKDOWN': }\n",
        "    k - required number \n",
        "    \"\"\"\n",
        "    # get available floors within the same building\n",
        "    toilets = possible_toilets_data[possible_toilets_data['Building Code']==current_building]\n",
        "    toilets_by_floor = toilets.groupby(by=['Floor Code','Floor Name'], as_index=False).agg({ \"Room Code\": 'count', \"Room Capacity\":sum})\n",
        "    possible_floors = toilets_by_floor.groupby(by=['Floor Code','Floor Name'],as_index=False).agg({'Room Code':pd.Series.nunique})\n",
        "    possible_floors['Floor Code'] = possible_floors['Floor Code'].astype(float)\n",
        "   \n",
        "    # create the graph\n",
        "    idx_of_position = possible_floors[possible_floors['Floor Code']==float(floor_position)].index[0]\n",
        "    toilets_by_floor['Floor Code'] = toilets_by_floor['Floor Code'].astype(float)\n",
        "    graph = []\n",
        "    for floors in toilets_by_floor['Floor Code']:\n",
        "      graph.append((float(idx_of_position), floors))\n",
        "         \n",
        "    # student data\n",
        "    stud = timetable_data[timetable_data['Building Code']==current_building]\n",
        "    stud_by_floor = stud.groupby(by=['Floor Code','Floor Name'], as_index=False).agg({'Planned Size':sum, 'Class Duration In Minutes':'mean'})\n",
        "\n",
        "    # distance between floors - cost function  \n",
        "    def get_cost(node1, node2):\n",
        "      distance = abs(node1 - node2)\n",
        "      return distance\n",
        "    \n",
        "    def get_delta():\n",
        "        return randint(1,99)\n",
        "        \n",
        "    def get_reward(node, objective, factors):  \n",
        "      # toilets that satisfy required condition\n",
        "      good = toilets['Room Condition 2018'] == 'Good'\n",
        "      very_good = toilets['Room Condition 2018'] == 'Very Good'\n",
        "      excellent = toilets['Room Condition 2018'] == 'Excellent' \n",
        "      if \"ROOM_CONDITION\" in factors:\n",
        "        condition = factors[\"ROOM_CONDITION\"].lower()\n",
        "        if condition == 'good':\n",
        "          available_toilets = toilets[good | very_good | excellent]\n",
        "      \n",
        "        elif condition == 'very good':\n",
        "          available_toilets = toilets[very_good | excellent]\n",
        "      \n",
        "        elif condition == 'excellent':\n",
        "          available_toilets = toilets[excellent]\n",
        "    \n",
        "      else: \n",
        "        available_toilets = toilets[good | very_good | excellent]\n",
        "      \n",
        "      available_toilets_by_floor = available_toilets.groupby(by=['Floor Code','Floor Name'], as_index=False).agg({\"Room Capacity\":sum})\n",
        "      \n",
        "      total_toilets = available_toilets_by_floor['Room Capacity'].sum() \n",
        "      \n",
        "      total_students = stud_by_floor['Planned Size'].sum()\n",
        "\n",
        "      total_class = stud_by_floor['Class Duration In Minutes'].sum()\n",
        "\n",
        "      if total_toilets == 0:\n",
        "        print (\"No Suitable Toilets In This Building\")        \n",
        "    \n",
        "      reward_df = pd.merge(available_toilets_by_floor, stud_by_floor, how = 'left', on = ['Floor Code','Floor Name'] )\n",
        "      reward_df = reward_df.fillna(0)\n",
        "      reward_df['Floor Code'] = reward_df['Floor Code'].astype(float)\n",
        "      reward_df = reward_df[(reward_df['Floor Code']) == float(node)]\n",
        "      \n",
        "      reward_df['stu_prop'] = reward_df['Planned Size']/total_students\n",
        "      reward_df['to_prop'] = reward_df[\"Room Capacity\"]/total_toilets\n",
        "      reward_df['class_prop'] = reward_df['Class Duration In Minutes']/total_class\n",
        "      # COVID \n",
        "      if \"COVID_LOCKDOWN\" in factors:\n",
        "        situation = factors[\"COVID_LOCKDOWN\"].lower()\n",
        "        if situation == \"high\":\n",
        "        # demand is 0\n",
        "          demand = 0          \n",
        "        elif situation == \"medium\":\n",
        "        # demand is 25%\n",
        "          demand = reward_df['stu_prop'] * 0.25         \n",
        "        else:\n",
        "        # demand is 50%\n",
        "          demand = reward_df['stu_prop'] * 0.5         \n",
        "      else:\n",
        "          demand = reward_df['stu_prop']\n",
        "            \n",
        "      if float(demand) == 0:\n",
        "        reward = float(reward_df['to_prop'])      \n",
        "      else:\n",
        "        reward = float(reward_df['to_prop']/(demand + reward_df['class_prop']))    \n",
        "        \n",
        "      return reward\n",
        "\n",
        "    # <reward, node>\n",
        "    budget_nodes_queue = PriorityQueue()\n",
        "    best_k = []\n",
        "    for node in graph:\n",
        "        # sample a node\n",
        "        v_s, v_i = node\n",
        "        cost = get_cost(v_s, v_i)\n",
        "        reward = get_reward(v_i, objective, factors)\n",
        "        delta = get_delta()\n",
        "        if cost <= B + delta:\n",
        "            priority = -1 * reward\n",
        "            budget_nodes_queue.push((reward, cost, v_i), priority)\n",
        "            \n",
        "    # get k-optimal nodes\n",
        "    extracted_k = 0\n",
        "    while not budget_nodes_queue.isEmpty():\n",
        "        if extracted_k > k:\n",
        "            break\n",
        "        best_k.append(budget_nodes_queue.pop())\n",
        "        extracted_k += 1\n",
        "\n",
        "    return best_k"
      ],
      "execution_count": 42,
      "outputs": []
    },
    {
      "cell_type": "code",
      "metadata": {
        "id": "6VM9JEcIVVIW",
        "colab_type": "code",
        "colab": {
          "base_uri": "https://localhost:8080/",
          "height": 85
        },
        "outputId": "914796ba-7e2a-433d-b3c3-b130ceaf0777"
      },
      "source": [
        "find_toilet_algorithm(current_building = '104', floor_position = 1, factors = {'ROOM_CONDITION': 'good'}, k = 3, objective = 0)"
      ],
      "execution_count": 43,
      "outputs": [
        {
          "output_type": "execute_result",
          "data": {
            "text/plain": [
              "[(0.21108576370407026, 2.0, 0.0),\n",
              " (0.1451886846020967, 1.0, 1.0),\n",
              " (0.10752688172043011, 0.0, 2.0),\n",
              " (0.10752688172043011, 1.0, 3.0)]"
            ]
          },
          "metadata": {
            "tags": []
          },
          "execution_count": 43
        }
      ]
    },
    {
      "cell_type": "code",
      "metadata": {
        "id": "K2c0yL9NVymJ",
        "colab_type": "code",
        "colab": {}
      },
      "source": [
        "def get_floor(current_building, floor_position, factors, k, objective):\n",
        "    if str(objective).lower() == 'book meeting room':\n",
        "      result = find_MR_algorithm(current_building, floor_position, factors, k, objective)\n",
        "    elif str(objective).lower() == 'use toilet facility':\n",
        "      result = find_toilet_algorithm(current_building, floor_position, factors, k, objective)\n",
        "    else:\n",
        "      result = find_MR_algorithm(current_building, floor_position, factors, k, objective), find_toilet_algorithm(current_building, floor_position, factors, k, objective)\n",
        "    return result\n"
      ],
      "execution_count": 44,
      "outputs": []
    },
    {
      "cell_type": "code",
      "metadata": {
        "id": "IlZhZZ9kX_7u",
        "colab_type": "code",
        "colab": {
          "base_uri": "https://localhost:8080/",
          "height": 85
        },
        "outputId": "b6d4ee73-8b6a-4e18-c945-825b7199751e"
      },
      "source": [
        "get_floor(current_building = '104', floor_position = 1, factors = {'ROOM_CONDITION': 'excellent'}, k = 3, objective = 'use toilet facility')"
      ],
      "execution_count": 45,
      "outputs": [
        {
          "output_type": "execute_result",
          "data": {
            "text/plain": [
              "[(0.21108576370407026, 2.0, 0.0),\n",
              " (0.1451886846020967, 1.0, 1.0),\n",
              " (0.10752688172043011, 0.0, 2.0),\n",
              " (0.10752688172043011, 1.0, 3.0)]"
            ]
          },
          "metadata": {
            "tags": []
          },
          "execution_count": 45
        }
      ]
    }
  ]
}