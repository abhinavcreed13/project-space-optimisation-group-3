{
 "cells": [
  {
   "cell_type": "markdown",
   "metadata": {},
   "source": [
    "# Data Preprocessing"
   ]
  },
  {
   "cell_type": "code",
   "execution_count": null,
   "metadata": {},
   "outputs": [],
   "source": [
    "import pandas as pd\n",
    "import matplotlib.pyplot as plt\n",
    "import matplotlib.mlab as mlab\n",
    "import matplotlib\n",
    "plt.style.use('ggplot')\n",
    "from matplotlib.pyplot import figure\n",
    "import numpy as np\n",
    "import seaborn as sns"
   ]
  },
  {
   "cell_type": "code",
   "execution_count": null,
   "metadata": {},
   "outputs": [],
   "source": [
    "def covert_to_lower(df):\n",
    "    for i in df.columns:\n",
    "        if df[i].dtypes == object:\n",
    "            df[i] = df[i].str.lower()\n",
    "        \n",
    "\n",
    "def rename_drop_cols(df):\n",
    "    cols_to_delete = []\n",
    "    cols_to_rename_from = []\n",
    "    cols_to_rename_to = []\n",
    "    for i in df.columns:\n",
    "        if '_y' in i:\n",
    "            cols_to_delete.append(i)\n",
    "        if '_x' in i:\n",
    "            cols_to_rename_from.append(i)\n",
    "            cols_to_rename_to.append(i.split('_x')[0])\n",
    "    \n",
    "    for i in range(len(cols_to_delete)):\n",
    "        del df[cols_to_delete[i]]\n",
    "    df.rename(columns=dict(zip(cols_to_rename_from, cols_to_rename_to)), inplace=True)\n",
    "\n",
    "\n",
    "\n",
    "def splitdata(df,col,new_col,delimeter):\n",
    "    df[new_col]= df[col].apply(lambda x: x.split(delimeter)[0] if x.find(delimeter)!=-1 else x )\n",
    "\n",
    "\n",
    "def setdefaultmissingvalues(df) :\n",
    "    for cols in df.columns:\n",
    "        if df[cols].dtype == 'float64':\n",
    "            df[cols] = df[cols].fillna(0.0)\n",
    "        elif df[cols].dtype == 'O':\n",
    "            df[cols] = df[cols].fillna('_MISSING_')\n",
    "        elif df[cols].dtype == 'datetime64[ns]':\n",
    "            df[cols] = df[cols].ffill()\n",
    "\n",
    "def plotdata(dataframe):\n",
    "    missing_data = dataframe.isnull().sum()\n",
    "    df = pd.DataFrame({'name':missing_data.index, 'count':missing_data.values})\n",
    "\n",
    "    sns.set(style=\"whitegrid\", color_codes=True)\n",
    "    sns.barplot(x = 'name', y = 'count', data=df,hue=df['count'])\n",
    "    plt.xticks(rotation = 90)\n",
    "    plt.show()\n",
    "\n",
    "#check percentage of missing data in uom space dataset\n",
    "    for col in dataframe.columns:\n",
    "        pct_missing = np.mean(dataframe[col].isnull())\n",
    "        print('{} - {}%'.format(col, round(pct_missing*100)))"
   ]
  },
  {
   "cell_type": "code",
   "execution_count": null,
   "metadata": {},
   "outputs": [],
   "source": [
    "# loading data\n",
    "uom_space_df = pd.read_excel('C:/Users/deshp/Desktop/study material/DS/project/MAST90106/project-data/uom-space.xlsx')\n",
    "rm_category_type_df = pd.read_excel('C:/Users/deshp/Desktop/study material/DS/project/MAST90106/project-data/rm-category-type-py-compatible.xlsx')\n",
    "em_location_df = pd.read_excel('C:/Users/deshp/Desktop/study material/DS/project/MAST90106/project-data/em-location.xlsx')\n",
    "av_equipment_df = pd.read_excel('C:/Users/deshp/Desktop/study material/DS/project/MAST90106/project-data/av-equipment.xlsx')\n",
    "timetable_2020_df = pd.read_excel('C:/Users/deshp/Desktop/study material/DS/project/MAST90106/project-data/2020-timetable-v2.xlsx')\n"
   ]
  },
  {
   "cell_type": "code",
   "execution_count": null,
   "metadata": {},
   "outputs": [],
   "source": [
    "# covert_to_lower(uom_space_df)\n",
    "# covert_to_lower(rm_category_type_df)\n",
    "# covert_to_lower(em_location_df)\n",
    "# covert_to_lower(timetable_2020_df)\n",
    "# covert_to_lower(av_equipment_df)"
   ]
  },
  {
   "cell_type": "code",
   "execution_count": null,
   "metadata": {},
   "outputs": [],
   "source": [
    "uom_space_df.head()"
   ]
  },
  {
   "cell_type": "code",
   "execution_count": null,
   "metadata": {},
   "outputs": [],
   "source": [
    "plotdata(uom_space_df)"
   ]
  },
  {
   "cell_type": "code",
   "execution_count": null,
   "metadata": {},
   "outputs": [],
   "source": [
    "#replace missing values for Room Name,Room condition, Room capacity, putting default value as 0 for room capacity and 'Missing' for Room condition and room name.\n",
    "# Excluding the data like room name which has over 90% missing value will make the result skewed or less accurate.\n",
    "# discuss with other team members on their take on this.\n",
    "\n",
    "setdefaultmissingvalues(uom_space_df)"
   ]
  },
  {
   "cell_type": "code",
   "execution_count": null,
   "metadata": {},
   "outputs": [],
   "source": [
    "# clean room category data\n",
    "rm_category_type_df.head()"
   ]
  },
  {
   "cell_type": "code",
   "execution_count": null,
   "metadata": {},
   "outputs": [],
   "source": [
    "plotdata(rm_category_type_df)\n",
    "# since the room type data is clear, no need to clean the data. Since we need to join the data for analysis purpose. \n",
    "# We check for the missing data on the join between room category and the uom space datasets."
   ]
  },
  {
   "cell_type": "code",
   "execution_count": null,
   "metadata": {},
   "outputs": [],
   "source": [
    "#converting the data type of Room Category and merging the data type\n",
    "uom_space_df['Room Type'] = uom_space_df['Room Type'].astype('str').str.strip()\n",
    "rm_category_type_df['Room Type']=rm_category_type_df['Room Type'].str.strip()\n",
    "rm_category_type_df['Room Category']=rm_category_type_df['Room Category'].str.strip()\n",
    "rm_category_type_df['Room Type Definition']=rm_category_type_df['Room Type Definition'].str.lower().str.strip()\n",
    "joined_uom_space_df = pd.merge(uom_space_df,rm_category_type_df,on=['Room Type'],how='left')\n",
    "joined_uom_space_df.shape\n"
   ]
  },
  {
   "cell_type": "code",
   "execution_count": null,
   "metadata": {},
   "outputs": [],
   "source": [
    "rename_drop_cols(joined_uom_space_df)\n",
    "plotdata(joined_uom_space_df)"
   ]
  },
  {
   "cell_type": "code",
   "execution_count": null,
   "metadata": {},
   "outputs": [],
   "source": [
    "em_location_df.head()"
   ]
  },
  {
   "cell_type": "code",
   "execution_count": null,
   "metadata": {},
   "outputs": [],
   "source": [
    "plotdata(em_location_df)"
   ]
  },
  {
   "cell_type": "code",
   "execution_count": null,
   "metadata": {},
   "outputs": [],
   "source": [
    "splitdata(em_location_df,'Room Code','Generic Room Code','.')\n",
    "rename_drop_cols(em_location_df)"
   ]
  },
  {
   "cell_type": "code",
   "execution_count": null,
   "metadata": {},
   "outputs": [],
   "source": [
    "av_equipment_df.head(50)\n",
    "#Does 0.1 floor code means basement floor?\n"
   ]
  },
  {
   "cell_type": "code",
   "execution_count": null,
   "metadata": {},
   "outputs": [],
   "source": [
    "plotdata(av_equipment_df)"
   ]
  },
  {
   "cell_type": "code",
   "execution_count": null,
   "metadata": {},
   "outputs": [],
   "source": [
    "# delete useless columns from the df.\n",
    "timetable_2020_df['Scheduled Finish as end time'] = pd.to_numeric(timetable_2020_df['Scheduled Finish as end time'])\n",
    "timetable_2020_df.head()"
   ]
  },
  {
   "cell_type": "code",
   "execution_count": null,
   "metadata": {},
   "outputs": [],
   "source": [
    "del timetable_2020_df['Name of Children']\n",
    "del timetable_2020_df['Name of Allocated Locations of Children']\n",
    "del timetable_2020_df['Scheduled?']\n",
    "del timetable_2020_df['Booking?']"
   ]
  },
  {
   "cell_type": "code",
   "execution_count": null,
   "metadata": {},
   "outputs": [],
   "source": [
    "plotdata(timetable_2020_df)"
   ]
  },
  {
   "cell_type": "code",
   "execution_count": null,
   "metadata": {},
   "outputs": [],
   "source": [
    "#inserting default values into the missing columns. Since this data will be used for predicting the use of toilets depending upon the class times.\n",
    "# We cannot afford to loose that data. # what is the impact of removing null data (9204) from timetable dataset(131857)\n",
    "setdefaultmissingvalues(timetable_2020_df)"
   ]
  }
 ],
 "metadata": {
  "kernelspec": {
   "display_name": "Python 3",
   "language": "python",
   "name": "python3"
  },
  "language_info": {
   "codemirror_mode": {
    "name": "ipython",
    "version": 3
   },
   "file_extension": ".py",
   "mimetype": "text/x-python",
   "name": "python",
   "nbconvert_exporter": "python",
   "pygments_lexer": "ipython3",
   "version": "3.7.3"
  }
 },
 "nbformat": 4,
 "nbformat_minor": 4
}
