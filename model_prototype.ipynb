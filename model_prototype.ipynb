{
  "nbformat": 4,
  "nbformat_minor": 0,
  "metadata": {
    "colab": {
      "name": "model-prototype.ipynb",
      "provenance": [],
      "collapsed_sections": []
    },
    "kernelspec": {
      "display_name": "Python 3",
      "language": "python",
      "name": "python3"
    },
    "language_info": {
      "codemirror_mode": {
        "name": "ipython",
        "version": 3
      },
      "file_extension": ".py",
      "mimetype": "text/x-python",
      "name": "python",
      "nbconvert_exporter": "python",
      "pygments_lexer": "ipython3",
      "version": "3.6.5"
    }
  },
  "cells": [
    {
      "cell_type": "markdown",
      "metadata": {
        "colab_type": "text",
        "id": "ZTWGg0lzAm0e"
      },
      "source": [
        "# Model Prototype"
      ]
    },
    {
      "cell_type": "markdown",
      "metadata": {
        "colab_type": "text",
        "id": "hUKat_gXAqGr"
      },
      "source": [
        "### Load Data"
      ]
    },
    {
      "cell_type": "code",
      "metadata": {
        "colab_type": "code",
        "id": "CF6Mvo6lAsVZ",
        "colab": {}
      },
      "source": [
        "# load libraries\n",
        "import pandas as pd\n",
        "import warnings\n",
        "warnings.filterwarnings('ignore')\n",
        "\n",
        "import seaborn as sns\n",
        "import matplotlib.pyplot as plt\n",
        "sns.set(style=\"ticks\", color_codes=True)"
      ],
      "execution_count": 19,
      "outputs": []
    },
    {
      "cell_type": "code",
      "metadata": {
        "colab_type": "code",
        "id": "mgVRrKRmCKb3",
        "colab": {}
      },
      "source": [
        "class DataCleaner():\n",
        "\n",
        "    def clean_uom_space(self,uom_space_df):\n",
        "        uom_space_df['Campus Code']=uom_space_df['Campus Code'].astype(str).str.strip()\n",
        "        uom_space_df['Building Code']=uom_space_df['Building Code'].astype(str).str.strip()\n",
        "        uom_space_df['Building Name']=uom_space_df['Building Name'].astype(str).str.strip()\n",
        "        uom_space_df['Room Type']=uom_space_df['Room Type'].astype(str).str.strip()\n",
        "        uom_space_df['Room Category']=uom_space_df['Room Category'].astype(str).str.strip()\n",
        "        uom_space_df['Floor Code']=uom_space_df['Floor Code'].astype(str).str.strip()\n",
        "        uom_space_df['Room Code']=uom_space_df['Room Code'].astype(str).str.strip()\n",
        "        return uom_space_df\n",
        "\n",
        "    def clean_rm_category_type(self,rm_category_type_df):\n",
        "        rm_category_type_df['Room Type']=rm_category_type_df['Room Type'].astype(str).str.strip()\n",
        "        rm_category_type_df['Room Category']=rm_category_type_df['Room Category'].astype(str).str.strip()\n",
        "        rm_category_type_df['Room Type Abbreviation']=rm_category_type_df['Room Type Abbreviation'].str.lower().str.strip()\n",
        "        rm_category_type_df['Description']=rm_category_type_df['Description'].str.lower().str.strip()\n",
        "        rm_category_type_df['Room Type Definition']=rm_category_type_df['Room Type Definition'].str.lower().str.strip()\n",
        "        return rm_category_type_df\n",
        "\n",
        "    def clean_floor_data(self,floor_df):\n",
        "        floor_df['Building Code'] = floor_df['Building Code'].astype(str).str.strip()\n",
        "        floor_df['Floor Code'] = floor_df['Floor Code'].astype(str).str.strip()\n",
        "        floor_df['Floor Name'] = floor_df['Floor Name'].astype(str).str.strip()\n",
        "        return floor_df\n",
        "\n",
        "    def clean_em_location(self,em_location_df):\n",
        "        em_location_df['Floor Code'] = em_location_df['Floor Code'].astype(int)\n",
        "        em_location_df['Floor Code'] = em_location_df['Floor Code'].astype(str).str.strip()\n",
        "        return em_location_df\n",
        "\n",
        "    def clean_av_equipment(self,av_equipment_df):\n",
        "        av_equipment_df['Room Type'] = av_equipment_df['Room Type'].astype(str).str.strip()\n",
        "        av_equipment_df['Room Code'] = av_equipment_df['Room Code'].astype(str).str.strip()\n",
        "        av_equipment_df['Building Code'] = av_equipment_df['Building Code'].astype(str).str.strip()\n",
        "        av_equipment_df['Campus Code'] = av_equipment_df['Campus Code'].astype(str).str.strip()\n",
        "        av_equipment_df['Equip. Status'] = av_equipment_df['Equip. Status'].astype(str).str.strip()\n",
        "        av_equipment_df['Floor Code'] = av_equipment_df['Floor Code'].astype(int).astype(str).str.strip()\n",
        "        return av_equipment_df\n",
        "\n",
        "    def clean_timetable_data(self,timetable_df):\n",
        "        # remove all NaN rows\n",
        "        timetable_df = timetable_df.dropna(how='all')\n",
        "\n",
        "        # drop duplicate records\n",
        "        timetable_df = timetable_df.drop_duplicates()\n",
        "\n",
        "        # dropping classes whose location is not planned\n",
        "        timetable_df = timetable_df[timetable_df['Host Key of Allocated Locations'].notna()]\n",
        "\n",
        "        # dropping classes whose location is online option\n",
        "        timetable_df = timetable_df[timetable_df['Host Key of Allocated Locations']!='Online option.']\n",
        "\n",
        "        # dropping classes with off-site location\n",
        "        timetable_df = timetable_df[timetable_df['Name of Zone of Allocated Locations']!='Off-Site']\n",
        "        return timetable_df\n",
        "\n",
        "    def clean_meeting_room_usage(self,meeting_room_usage_df):\n",
        "        meeting_room_usage_df = meeting_room_usage_df[meeting_room_usage_df['Campus Code'].notna()]\n",
        "        meeting_room_usage_df = meeting_room_usage_df[meeting_room_usage_df['Building Code'].notna()]\n",
        "        meeting_room_usage_df = meeting_room_usage_df[meeting_room_usage_df['Floor Code'].notna()]\n",
        "        meeting_room_usage_df = meeting_room_usage_df[meeting_room_usage_df['Room Code'].notna()]\n",
        "\n",
        "        meeting_room_usage_df['Campus Code'] = meeting_room_usage_df['Campus Code'].astype(str).str.strip()\n",
        "        meeting_room_usage_df['Building Code'] = meeting_room_usage_df['Building Code'].astype(str).str.strip()\n",
        "        meeting_room_usage_df['Building Name'] = meeting_room_usage_df['Building Name'].astype(str).str.strip()\n",
        "        meeting_room_usage_df['Floor Code'] = meeting_room_usage_df['Floor Code'].astype(int).astype(str).str.strip()\n",
        "        meeting_room_usage_df['Room Code'] = meeting_room_usage_df['Room Code'].astype(str).str.strip()\n",
        "        return meeting_room_usage_df"
      ],
      "execution_count": 20,
      "outputs": []
    },
    {
      "cell_type": "code",
      "metadata": {
        "colab_type": "code",
        "id": "OtYVzHniDiF5",
        "colab": {}
      },
      "source": [
        "class DataMutator():\n",
        "\n",
        "    def mutate_em_location(self,em_location_df):\n",
        "        # mutate room codes\n",
        "        for idx,row in em_location_df.iterrows():\n",
        "            if \".\" in row['Room Code']:\n",
        "                code = row['Room Code'].split(\".\")[0]\n",
        "                em_location_df.at[idx,'Room Code'] = code\n",
        "        return em_location_df\n",
        "\n",
        "    def mutate_timetable_data(self,timetable_df):\n",
        "        building_codes = []\n",
        "        room_codes = []\n",
        "        campus_codes = []\n",
        "        class_duration_minutes = []\n",
        "        for idx,row in timetable_df.iterrows():\n",
        "            s = row['Host Key of Allocated Locations'].split('-')\n",
        "            building_codes.append(s[0])\n",
        "            room_codes.append(s[1])\n",
        "            c = row['Name of Allocated Locations'].split('-')[0]\n",
        "            if c == 'zzzPAR':\n",
        "                c = 'PAR'\n",
        "            campus_codes.append(c)\n",
        "            d = row['Duration as duration']\n",
        "            class_duration_minutes.append(d.hour * 60 + d.minute)\n",
        "        timetable_df['Building Code'] = building_codes\n",
        "        timetable_df['Room Code'] = room_codes\n",
        "        timetable_df['Campus Code'] = campus_codes\n",
        "        timetable_df['Class Duration In Minutes'] = class_duration_minutes\n",
        "        return timetable_df"
      ],
      "execution_count": 21,
      "outputs": []
    },
    {
      "cell_type": "code",
      "metadata": {
        "colab_type": "code",
        "id": "n98Z0F0xEHc7",
        "colab": {}
      },
      "source": [
        "class DataMerger():\n",
        "\n",
        "    def get_merged_space_data(self,uom_space_df,rm_category_type_df, floor_df):\n",
        "        uom_space_df_enhanced = pd.merge(uom_space_df,floor_df,on=['Building Code','Floor Code'])\n",
        "        print(\"# Merge - uom_space + floor_data\")\n",
        "        print((uom_space_df.shape, uom_space_df_enhanced.shape))\n",
        "        print('Unable to merge records:',uom_space_df.shape[0]-uom_space_df_enhanced.shape[0])\n",
        "        merged_space_data_df = pd.merge(uom_space_df_enhanced,rm_category_type_df,on=['Room Category','Room Type'])\n",
        "        print(\"# Merge - enhanced_uom_space + rm_category_type\")\n",
        "        print((uom_space_df_enhanced.shape, merged_space_data_df.shape))\n",
        "        print('Unable to merge records:',uom_space_df_enhanced.shape[0]-merged_space_data_df.shape[0])\n",
        "        return merged_space_data_df\n",
        "\n",
        "    def get_merged_em_location_data(self,em_location_df,merged_space_data_df):\n",
        "        print(\"# merge - space_data + em_location\")\n",
        "        merged_em_location_df = pd.merge(em_location_df,merged_space_data_df,on=['Building Code','Floor Code','Room Code'])\n",
        "        print((em_location_df.shape, merged_em_location_df.shape))\n",
        "        print('Unable to merge records:',em_location_df.shape[0]-merged_em_location_df.shape[0])\n",
        "        return merged_em_location_df\n",
        "\n",
        "    def get_merged_av_equipment_data(self,av_equipment_df,merged_space_data_df):\n",
        "        print(\"# merge - space_data + av_equipment\")\n",
        "        merged_av_equipment_df = pd.merge(av_equipment_df,merged_space_data_df,on=['Campus Code','Building Code','Floor Code','Room Code'])\n",
        "        print((av_equipment_df.shape, merged_av_equipment_df.shape))\n",
        "        print('Unable to merge records:',av_equipment_df.shape[0]-merged_av_equipment_df.shape[0])\n",
        "        return merged_av_equipment_df\n",
        "\n",
        "    def get_merged_timetable_data(self,timetable_df,merged_space_data_df):\n",
        "        print(\"# merge - space_data + timetable_data\")\n",
        "        merged_timetable_df = pd.merge(timetable_df,merged_space_data_df,on=['Campus Code','Building Code','Room Code'])\n",
        "        print((timetable_df.shape, merged_timetable_df.shape))\n",
        "        print('Unable to merge records:',timetable_df.shape[0]-merged_timetable_df.shape[0])\n",
        "        return merged_timetable_df\n",
        "\n",
        "    def get_merged_meeting_room_usage_data(self,meeting_room_usage_df,merged_space_data_df):\n",
        "        print(\"# merge - space_data + meeting_room_usage\")\n",
        "        merged_meeting_room_usage_df = pd.merge(meeting_room_usage_df,merged_space_data_df,on=['Campus Code','Building Code','Floor Code','Room Code'])\n",
        "        print((meeting_room_usage_df.shape, merged_meeting_room_usage_df.shape))\n",
        "        print('Unable to merge records:',meeting_room_usage_df.shape[0]-merged_meeting_room_usage_df.shape[0])\n",
        "        return merged_meeting_room_usage_df"
      ],
      "execution_count": 22,
      "outputs": []
    },
    {
      "cell_type": "code",
      "metadata": {
        "colab_type": "code",
        "id": "4bsL2pSMAvr0",
        "colab": {}
      },
      "source": [
        "class DataProcessor():\n",
        "    def __init__(self,uom_space_url,rm_category_type_url,\n",
        "                 em_location_url,av_equipment_url,\n",
        "                 timetable_2020_url,floor_name_url,\n",
        "                 meeting_room_usage_url):\n",
        "        self.uom_space_url = uom_space_url\n",
        "        self.rm_category_type_url = rm_category_type_url\n",
        "        self.em_location_url = em_location_url\n",
        "        self.av_equipment_url = av_equipment_url\n",
        "        self.timetable_2020_url = timetable_2020_url\n",
        "        self.floor_name_url = floor_name_url\n",
        "        self.meeting_room_usage_url = meeting_room_usage_url\n",
        "\n",
        "    def load_data(self):\n",
        "        self.uom_space_df = pd.read_excel(uom_space_url)\n",
        "        self.rm_category_type_df = pd.read_excel(rm_category_type_url)\n",
        "        self.em_location_df = pd.read_excel(em_location_url)\n",
        "        self.av_equipment_df = pd.read_excel(av_equipment_url)\n",
        "        self.timetable_df = pd.read_excel(timetable_2020_url, delim_whitespace=True)\n",
        "        self.floor_df = pd.read_excel(floor_name_url)\n",
        "        self.meeting_room_usage_df = pd.read_excel(meeting_room_usage_url)\n",
        "        print('Data loaded successfully!')\n",
        "        # data shapes\n",
        "        print(\"UOM space shape:\"+str(self.uom_space_df.shape))\n",
        "        print(\"RM category:\"+str(self.rm_category_type_df.shape))\n",
        "        print(\"EM location:\"+str(self.em_location_df.shape))\n",
        "        print(\"AV equipment:\"+str(self.av_equipment_df.shape))\n",
        "        print(\"2020 timetable:\"+str(self.timetable_df.shape))\n",
        "        print(\"Floor data shape:\"+str(self.floor_df.shape))\n",
        "        print(\"Meeting room usage shape:\"+str(self.meeting_room_usage_df.shape))\n",
        "\n",
        "    def get_all_datasets(self):\n",
        "\n",
        "        print(\"# clean data\")\n",
        "        _cleaner = DataCleaner()\n",
        "        self.uom_space_df = _cleaner.clean_uom_space(self.uom_space_df)\n",
        "        self.rm_category_type_df = _cleaner.clean_rm_category_type(self.rm_category_type_df)\n",
        "        self.floor_df = _cleaner.clean_floor_data(self.floor_df)\n",
        "        self.em_location_df = _cleaner.clean_em_location(self.em_location_df)\n",
        "        self.av_equipment_df = _cleaner.clean_av_equipment(self.av_equipment_df)\n",
        "        self.timetable_df = _cleaner.clean_timetable_data(self.timetable_df)\n",
        "        self.meeting_room_usage_df = _cleaner.clean_meeting_room_usage(self.meeting_room_usage_df)\n",
        "\n",
        "        print(\"# mutate data\")\n",
        "        _mutator = DataMutator()\n",
        "        self.em_location_df = _mutator.mutate_em_location(self.em_location_df)\n",
        "        self.timetable_df = _mutator.mutate_timetable_data(self.timetable_df)\n",
        "\n",
        "        print(\"# merge data\")\n",
        "        _merger = DataMerger()\n",
        "        self.merged_space_data = _merger.get_merged_space_data(self.uom_space_df, self.rm_category_type_df, self.floor_df)\n",
        "        self.merged_em_location_data = _merger.get_merged_em_location_data(self.em_location_df,self.merged_space_data)\n",
        "        self.merged_av_equipment_data = _merger.get_merged_av_equipment_data(self.av_equipment_df,self.merged_space_data)\n",
        "        self.merged_timetable_data = _merger.get_merged_timetable_data(self.timetable_df,self.merged_space_data)\n",
        "        self.merged_meeting_room_usage_data = _merger.get_merged_meeting_room_usage_data(self.meeting_room_usage_df,self.merged_space_data)\n",
        "\n",
        "        return self.merged_space_data, self.merged_em_location_data, self.merged_av_equipment_data, self.merged_timetable_data, self.merged_meeting_room_usage_data"
      ],
      "execution_count": 23,
      "outputs": []
    },
    {
      "cell_type": "code",
      "metadata": {
        "id": "wsytjpvRgvSq",
        "colab_type": "code",
        "colab": {
          "base_uri": "https://localhost:8080/",
          "height": 34
        },
        "outputId": "8e4cab9a-7fa3-43ae-a786-cc6f92baf83c"
      },
      "source": [
        "from google.colab import drive\n",
        "drive.mount(\"/content/drive\")"
      ],
      "execution_count": 24,
      "outputs": [
        {
          "output_type": "stream",
          "text": [
            "Drive already mounted at /content/drive; to attempt to forcibly remount, call drive.mount(\"/content/drive\", force_remount=True).\n"
          ],
          "name": "stdout"
        }
      ]
    },
    {
      "cell_type": "code",
      "metadata": {
        "colab_type": "code",
        "id": "cSiem3iIIOTW",
        "colab": {}
      },
      "source": [
        "# local urls\n",
        "uom_space_url = '/content/drive/My Drive//project-data/uom-space.xlsx'\n",
        "rm_category_type_url = '/content/drive/My Drive/project-data/rm-category-type-cleaned.xlsx'\n",
        "em_location_url = '/content/drive/My Drive/project-data/em-location.xlsx'\n",
        "av_equipment_url = '/content/drive/My Drive/project-data/av-equipment.xlsx'\n",
        "timetable_2020_url = '/content/drive/My Drive/project-data/2020-timetable-v2.xlsx'\n",
        "floor_name_url = '/content/drive/My Drive/project-data/fl-name-cleaned.xlsx'\n",
        "meeting_room_usage_url = '/content/drive/My Drive/project-data/meeting-room-usage.xlsx'"
      ],
      "execution_count": 25,
      "outputs": []
    },
    {
      "cell_type": "code",
      "metadata": {
        "colab_type": "code",
        "id": "6EJpvmXrILam",
        "colab": {
          "base_uri": "https://localhost:8080/",
          "height": 153
        },
        "outputId": "e33b42fa-4c0b-4b97-d9ae-cdf99f1badbb"
      },
      "source": [
        "# load data\n",
        "_processor = DataProcessor(uom_space_url,rm_category_type_url,em_location_url,av_equipment_url,\n",
        "                           timetable_2020_url,floor_name_url,meeting_room_usage_url)\n",
        "_processor.load_data()"
      ],
      "execution_count": 26,
      "outputs": [
        {
          "output_type": "stream",
          "text": [
            "Data loaded successfully!\n",
            "UOM space shape:(22166, 14)\n",
            "RM category:(209, 5)\n",
            "EM location:(7709, 4)\n",
            "AV equipment:(1964, 11)\n",
            "2020 timetable:(131857, 23)\n",
            "Floor data shape:(1369, 3)\n",
            "Meeting room usage shape:(1462, 22)\n"
          ],
          "name": "stdout"
        }
      ]
    },
    {
      "cell_type": "code",
      "metadata": {
        "colab_type": "code",
        "id": "anFAmM3AI13X",
        "colab": {
          "base_uri": "https://localhost:8080/",
          "height": 374
        },
        "outputId": "927843ea-fcf6-4f43-f22e-afd3c1ac3e15"
      },
      "source": [
        "# get datasets - after cleaning, mutation and merging\n",
        "space_data, employee_data, av_equipment_data, timetable_data, mr_usage_data = _processor.get_all_datasets()"
      ],
      "execution_count": 27,
      "outputs": [
        {
          "output_type": "stream",
          "text": [
            "# clean data\n",
            "# mutate data\n",
            "# merge data\n",
            "# Merge - uom_space + floor_data\n",
            "((22166, 14), (22166, 15))\n",
            "Unable to merge records: 0\n",
            "# Merge - enhanced_uom_space + rm_category_type\n",
            "((22166, 15), (22166, 18))\n",
            "Unable to merge records: 0\n",
            "# merge - space_data + em_location\n",
            "((7709, 4), (6962, 19))\n",
            "Unable to merge records: 747\n",
            "# merge - space_data + av_equipment\n",
            "((1964, 11), (1646, 25))\n",
            "Unable to merge records: 318\n",
            "# merge - space_data + timetable_data\n",
            "((119419, 27), (116981, 42))\n",
            "Unable to merge records: 2438\n",
            "# merge - space_data + meeting_room_usage\n",
            "((890, 22), (728, 36))\n",
            "Unable to merge records: 162\n"
          ],
          "name": "stdout"
        }
      ]
    },
    {
      "cell_type": "code",
      "metadata": {
        "colab_type": "code",
        "id": "8J2BCDK2MqIy",
        "colab": {}
      },
      "source": [
        "class DataExtractor():\n",
        "\n",
        "    def get_meeting_rooms_data(self,rm_category_type_df,space_data):\n",
        "        # possible meeting rooms\n",
        "        possible_rooms = rm_category_type_df[rm_category_type_df['Room Type'].str.contains(\"601|629\")]\n",
        "        meeting_room_types = possible_rooms['Room Type'].tolist()\n",
        "\n",
        "        # supply of meeting rooms\n",
        "        possible_meeting_rooms_df = space_data[space_data['Room Type'].isin(meeting_room_types)]\n",
        "        return possible_meeting_rooms_df\n",
        "\n",
        "    def get_toilets_data(self,rm_category_type_df,space_data):\n",
        "        possible_rooms = rm_category_type_df[rm_category_type_df['Room Type Definition'].str.contains(\"toilet|washroom\")]\n",
        "        toilet_room_types = possible_rooms['Room Type'].tolist()\n",
        "\n",
        "        possible_toilets_df = space_data[space_data['Room Type'].isin(toilet_room_types)]\n",
        "        return possible_toilets_df"
      ],
      "execution_count": 28,
      "outputs": []
    },
    {
      "cell_type": "code",
      "metadata": {
        "colab_type": "code",
        "id": "TO3sBeKfNJ1h",
        "colab": {}
      },
      "source": [
        "_extractor = DataExtractor()\n",
        "possible_meeting_rooms_data = _extractor.get_meeting_rooms_data(_processor.rm_category_type_df, space_data)\n",
        "possible_toilets_data = _extractor.get_toilets_data(_processor.rm_category_type_df, space_data)"
      ],
      "execution_count": 29,
      "outputs": []
    },
    {
      "cell_type": "markdown",
      "metadata": {
        "colab_type": "text",
        "id": "6pQq-sBpLqDh"
      },
      "source": [
        "## Floor based prediction model"
      ]
    },
    {
      "cell_type": "code",
      "metadata": {
        "colab_type": "code",
        "id": "KNKeWjbhMXfk",
        "colab": {
          "base_uri": "https://localhost:8080/",
          "height": 513
        },
        "outputId": "ed69cdab-736b-4ac9-b58f-d06cc9bafb13"
      },
      "source": [
        "space_data.head(5)"
      ],
      "execution_count": 30,
      "outputs": [
        {
          "output_type": "execute_result",
          "data": {
            "text/html": [
              "<div>\n",
              "<style scoped>\n",
              "    .dataframe tbody tr th:only-of-type {\n",
              "        vertical-align: middle;\n",
              "    }\n",
              "\n",
              "    .dataframe tbody tr th {\n",
              "        vertical-align: top;\n",
              "    }\n",
              "\n",
              "    .dataframe thead th {\n",
              "        text-align: right;\n",
              "    }\n",
              "</style>\n",
              "<table border=\"1\" class=\"dataframe\">\n",
              "  <thead>\n",
              "    <tr style=\"text-align: right;\">\n",
              "      <th></th>\n",
              "      <th>Campus Code</th>\n",
              "      <th>Building Code</th>\n",
              "      <th>Building Name</th>\n",
              "      <th>Floor Code</th>\n",
              "      <th>Room Code</th>\n",
              "      <th>Room Name</th>\n",
              "      <th>Room Category</th>\n",
              "      <th>Room Type</th>\n",
              "      <th>Room Type Abbreviation_x</th>\n",
              "      <th>Room Capacity</th>\n",
              "      <th>Room Area m²</th>\n",
              "      <th>Room Condition 2018</th>\n",
              "      <th>Department Code</th>\n",
              "      <th>Room Location Code</th>\n",
              "      <th>Floor Name</th>\n",
              "      <th>Room Type Abbreviation_y</th>\n",
              "      <th>Description</th>\n",
              "      <th>Room Type Definition</th>\n",
              "    </tr>\n",
              "  </thead>\n",
              "  <tbody>\n",
              "    <tr>\n",
              "      <th>0</th>\n",
              "      <td>PAR</td>\n",
              "      <td>101</td>\n",
              "      <td>BEAUREPAIRE CENTRE</td>\n",
              "      <td>0</td>\n",
              "      <td>CG01</td>\n",
              "      <td>NaN</td>\n",
              "      <td>6</td>\n",
              "      <td>631</td>\n",
              "      <td>Circ-Department</td>\n",
              "      <td>0.0</td>\n",
              "      <td>80.62</td>\n",
              "      <td>NaN</td>\n",
              "      <td>8490</td>\n",
              "      <td>PAR;101;0;CG01</td>\n",
              "      <td>Ground</td>\n",
              "      <td>circ-department</td>\n",
              "      <td>circulation - department</td>\n",
              "      <td>a corridor allocated to a specific faculty tha...</td>\n",
              "    </tr>\n",
              "    <tr>\n",
              "      <th>1</th>\n",
              "      <td>PAR</td>\n",
              "      <td>101</td>\n",
              "      <td>BEAUREPAIRE CENTRE</td>\n",
              "      <td>0</td>\n",
              "      <td>CG03</td>\n",
              "      <td>NaN</td>\n",
              "      <td>6</td>\n",
              "      <td>631</td>\n",
              "      <td>Circ-Department</td>\n",
              "      <td>0.0</td>\n",
              "      <td>14.12</td>\n",
              "      <td>NaN</td>\n",
              "      <td>8490</td>\n",
              "      <td>PAR;101;0;CG03</td>\n",
              "      <td>Ground</td>\n",
              "      <td>circ-department</td>\n",
              "      <td>circulation - department</td>\n",
              "      <td>a corridor allocated to a specific faculty tha...</td>\n",
              "    </tr>\n",
              "    <tr>\n",
              "      <th>2</th>\n",
              "      <td>PAR</td>\n",
              "      <td>101</td>\n",
              "      <td>BEAUREPAIRE CENTRE</td>\n",
              "      <td>1</td>\n",
              "      <td>C101</td>\n",
              "      <td>NaN</td>\n",
              "      <td>6</td>\n",
              "      <td>631</td>\n",
              "      <td>Circ-Department</td>\n",
              "      <td>0.0</td>\n",
              "      <td>5.79</td>\n",
              "      <td>NaN</td>\n",
              "      <td>8490</td>\n",
              "      <td>PAR;101;1;C101</td>\n",
              "      <td>Level 1</td>\n",
              "      <td>circ-department</td>\n",
              "      <td>circulation - department</td>\n",
              "      <td>a corridor allocated to a specific faculty tha...</td>\n",
              "    </tr>\n",
              "    <tr>\n",
              "      <th>3</th>\n",
              "      <td>PAR</td>\n",
              "      <td>101</td>\n",
              "      <td>BEAUREPAIRE CENTRE</td>\n",
              "      <td>1</td>\n",
              "      <td>C102</td>\n",
              "      <td>NaN</td>\n",
              "      <td>6</td>\n",
              "      <td>631</td>\n",
              "      <td>Circ-Department</td>\n",
              "      <td>0.0</td>\n",
              "      <td>5.77</td>\n",
              "      <td>NaN</td>\n",
              "      <td>8490</td>\n",
              "      <td>PAR;101;1;C102</td>\n",
              "      <td>Level 1</td>\n",
              "      <td>circ-department</td>\n",
              "      <td>circulation - department</td>\n",
              "      <td>a corridor allocated to a specific faculty tha...</td>\n",
              "    </tr>\n",
              "    <tr>\n",
              "      <th>4</th>\n",
              "      <td>PAR</td>\n",
              "      <td>101</td>\n",
              "      <td>BEAUREPAIRE CENTRE</td>\n",
              "      <td>1</td>\n",
              "      <td>C103</td>\n",
              "      <td>NaN</td>\n",
              "      <td>6</td>\n",
              "      <td>631</td>\n",
              "      <td>Circ-Department</td>\n",
              "      <td>0.0</td>\n",
              "      <td>23.87</td>\n",
              "      <td>NaN</td>\n",
              "      <td>8490</td>\n",
              "      <td>PAR;101;1;C103</td>\n",
              "      <td>Level 1</td>\n",
              "      <td>circ-department</td>\n",
              "      <td>circulation - department</td>\n",
              "      <td>a corridor allocated to a specific faculty tha...</td>\n",
              "    </tr>\n",
              "  </tbody>\n",
              "</table>\n",
              "</div>"
            ],
            "text/plain": [
              "  Campus Code  ...                               Room Type Definition\n",
              "0         PAR  ...  a corridor allocated to a specific faculty tha...\n",
              "1         PAR  ...  a corridor allocated to a specific faculty tha...\n",
              "2         PAR  ...  a corridor allocated to a specific faculty tha...\n",
              "3         PAR  ...  a corridor allocated to a specific faculty tha...\n",
              "4         PAR  ...  a corridor allocated to a specific faculty tha...\n",
              "\n",
              "[5 rows x 18 columns]"
            ]
          },
          "metadata": {
            "tags": []
          },
          "execution_count": 30
        }
      ]
    },
    {
      "cell_type": "code",
      "metadata": {
        "id": "eFAP8lG_fkId",
        "colab_type": "code",
        "colab": {
          "base_uri": "https://localhost:8080/",
          "height": 136
        },
        "outputId": "3e14e4ff-8f0f-4fc8-ea0b-8865f6ed6017"
      },
      "source": [
        "space_data.columns"
      ],
      "execution_count": 31,
      "outputs": [
        {
          "output_type": "execute_result",
          "data": {
            "text/plain": [
              "Index(['Campus Code', 'Building Code', 'Building Name', 'Floor Code',\n",
              "       'Room Code', 'Room Name', 'Room Category', 'Room Type',\n",
              "       'Room Type Abbreviation_x', 'Room Capacity', 'Room Area m²',\n",
              "       'Room Condition 2018', 'Department Code', 'Room Location Code',\n",
              "       'Floor Name', 'Room Type Abbreviation_y', 'Description',\n",
              "       'Room Type Definition'],\n",
              "      dtype='object')"
            ]
          },
          "metadata": {
            "tags": []
          },
          "execution_count": 31
        }
      ]
    },
    {
      "cell_type": "code",
      "metadata": {
        "id": "q_xfDhPJfkIh",
        "colab_type": "code",
        "colab": {}
      },
      "source": [
        "# find out the number of meeting rooms with excellent, very good, good condition\n",
        "import numpy as np\n",
        "possible_meeting_rooms_data[\"Good Condition\"] = np.where((possible_meeting_rooms_data['Room Condition 2018'] == \"Excellent\") | \n",
        "                                          (possible_meeting_rooms_data['Room Condition 2018'] == \"Very Good\")|\n",
        "                         (possible_meeting_rooms_data['Room Condition 2018'] == \"Good\"), 1, 0)"
      ],
      "execution_count": 32,
      "outputs": []
    },
    {
      "cell_type": "code",
      "metadata": {
        "colab_type": "code",
        "id": "J_aHe4fpbW1a",
        "colab": {}
      },
      "source": [
        "building_code = '104'"
      ],
      "execution_count": 33,
      "outputs": []
    },
    {
      "cell_type": "code",
      "metadata": {
        "colab_type": "code",
        "id": "SNmuCfucLu9V",
        "colab": {
          "base_uri": "https://localhost:8080/",
          "height": 34
        },
        "outputId": "cad9888d-8924-406f-e4c2-a5b65f7611cd"
      },
      "source": [
        "# alan gilbert building\n",
        "data_104 = space_data[space_data['Building Code']==building_code]\n",
        "data_104.shape"
      ],
      "execution_count": 34,
      "outputs": [
        {
          "output_type": "execute_result",
          "data": {
            "text/plain": [
              "(486, 18)"
            ]
          },
          "metadata": {
            "tags": []
          },
          "execution_count": 34
        }
      ]
    },
    {
      "cell_type": "code",
      "metadata": {
        "colab_type": "code",
        "id": "ofIphmruSKjL",
        "colab": {
          "base_uri": "https://localhost:8080/",
          "height": 452
        },
        "outputId": "e60aff74-2ac5-4b84-acdc-67c5f094da94"
      },
      "source": [
        "possible_floors_104 = data_104.groupby(by=['Floor Code','Floor Name'],as_index=False).agg({'Room Code':pd.Series.nunique})\n",
        "possible_floors_104"
      ],
      "execution_count": 35,
      "outputs": [
        {
          "output_type": "execute_result",
          "data": {
            "text/html": [
              "<div>\n",
              "<style scoped>\n",
              "    .dataframe tbody tr th:only-of-type {\n",
              "        vertical-align: middle;\n",
              "    }\n",
              "\n",
              "    .dataframe tbody tr th {\n",
              "        vertical-align: top;\n",
              "    }\n",
              "\n",
              "    .dataframe thead th {\n",
              "        text-align: right;\n",
              "    }\n",
              "</style>\n",
              "<table border=\"1\" class=\"dataframe\">\n",
              "  <thead>\n",
              "    <tr style=\"text-align: right;\">\n",
              "      <th></th>\n",
              "      <th>Floor Code</th>\n",
              "      <th>Floor Name</th>\n",
              "      <th>Room Code</th>\n",
              "    </tr>\n",
              "  </thead>\n",
              "  <tbody>\n",
              "    <tr>\n",
              "      <th>0</th>\n",
              "      <td>0</td>\n",
              "      <td>Ground</td>\n",
              "      <td>35</td>\n",
              "    </tr>\n",
              "    <tr>\n",
              "      <th>1</th>\n",
              "      <td>0.1</td>\n",
              "      <td>Basement 1</td>\n",
              "      <td>19</td>\n",
              "    </tr>\n",
              "    <tr>\n",
              "      <th>2</th>\n",
              "      <td>0.5</td>\n",
              "      <td>Ground Mezzanine</td>\n",
              "      <td>2</td>\n",
              "    </tr>\n",
              "    <tr>\n",
              "      <th>3</th>\n",
              "      <td>1</td>\n",
              "      <td>Level 1</td>\n",
              "      <td>45</td>\n",
              "    </tr>\n",
              "    <tr>\n",
              "      <th>4</th>\n",
              "      <td>2</td>\n",
              "      <td>Level 2</td>\n",
              "      <td>74</td>\n",
              "    </tr>\n",
              "    <tr>\n",
              "      <th>5</th>\n",
              "      <td>3</td>\n",
              "      <td>Level 3</td>\n",
              "      <td>38</td>\n",
              "    </tr>\n",
              "    <tr>\n",
              "      <th>6</th>\n",
              "      <td>4</td>\n",
              "      <td>Level 4</td>\n",
              "      <td>73</td>\n",
              "    </tr>\n",
              "    <tr>\n",
              "      <th>7</th>\n",
              "      <td>5</td>\n",
              "      <td>Level 5</td>\n",
              "      <td>62</td>\n",
              "    </tr>\n",
              "    <tr>\n",
              "      <th>8</th>\n",
              "      <td>6</td>\n",
              "      <td>Level 6</td>\n",
              "      <td>63</td>\n",
              "    </tr>\n",
              "    <tr>\n",
              "      <th>9</th>\n",
              "      <td>7</td>\n",
              "      <td>Level 7</td>\n",
              "      <td>57</td>\n",
              "    </tr>\n",
              "    <tr>\n",
              "      <th>10</th>\n",
              "      <td>8</td>\n",
              "      <td>Level 8</td>\n",
              "      <td>12</td>\n",
              "    </tr>\n",
              "    <tr>\n",
              "      <th>11</th>\n",
              "      <td>8.5</td>\n",
              "      <td>Level 8 Mezzanine</td>\n",
              "      <td>5</td>\n",
              "    </tr>\n",
              "    <tr>\n",
              "      <th>12</th>\n",
              "      <td>R</td>\n",
              "      <td>Roof</td>\n",
              "      <td>1</td>\n",
              "    </tr>\n",
              "  </tbody>\n",
              "</table>\n",
              "</div>"
            ],
            "text/plain": [
              "   Floor Code         Floor Name  Room Code\n",
              "0           0             Ground         35\n",
              "1         0.1         Basement 1         19\n",
              "2         0.5   Ground Mezzanine          2\n",
              "3           1            Level 1         45\n",
              "4           2            Level 2         74\n",
              "5           3            Level 3         38\n",
              "6           4            Level 4         73\n",
              "7           5            Level 5         62\n",
              "8           6            Level 6         63\n",
              "9           7            Level 7         57\n",
              "10          8            Level 8         12\n",
              "11        8.5  Level 8 Mezzanine          5\n",
              "12          R               Roof          1"
            ]
          },
          "metadata": {
            "tags": []
          },
          "execution_count": 35
        }
      ]
    },
    {
      "cell_type": "code",
      "metadata": {
        "colab_type": "code",
        "id": "lza21DFANbjM",
        "colab": {
          "base_uri": "https://localhost:8080/",
          "height": 34
        },
        "outputId": "1605fef8-29fb-41d8-f3b3-78f2a369b369"
      },
      "source": [
        "meeting_rooms_104 = possible_meeting_rooms_data[possible_meeting_rooms_data['Building Code']==building_code]\n",
        "meeting_rooms_104.shape"
      ],
      "execution_count": 36,
      "outputs": [
        {
          "output_type": "execute_result",
          "data": {
            "text/plain": [
              "(33, 19)"
            ]
          },
          "metadata": {
            "tags": []
          },
          "execution_count": 36
        }
      ]
    },
    {
      "cell_type": "code",
      "metadata": {
        "id": "VzQefTyyfkIu",
        "colab_type": "code",
        "colab": {}
      },
      "source": [
        "room_condition_104 = meeting_rooms_104.groupby(by=['Floor Code','Floor Name','Room Condition 2018'],as_index=False).agg({'Room Code':pd.Series.nunique})"
      ],
      "execution_count": 37,
      "outputs": []
    },
    {
      "cell_type": "code",
      "metadata": {
        "id": "D_9Qjg4ifkIw",
        "colab_type": "code",
        "colab": {
          "base_uri": "https://localhost:8080/",
          "height": 266
        },
        "outputId": "5ab057fa-c57b-4cb6-f0cd-c989b74ae9d2"
      },
      "source": [
        "room_condition_104"
      ],
      "execution_count": 38,
      "outputs": [
        {
          "output_type": "execute_result",
          "data": {
            "text/html": [
              "<div>\n",
              "<style scoped>\n",
              "    .dataframe tbody tr th:only-of-type {\n",
              "        vertical-align: middle;\n",
              "    }\n",
              "\n",
              "    .dataframe tbody tr th {\n",
              "        vertical-align: top;\n",
              "    }\n",
              "\n",
              "    .dataframe thead th {\n",
              "        text-align: right;\n",
              "    }\n",
              "</style>\n",
              "<table border=\"1\" class=\"dataframe\">\n",
              "  <thead>\n",
              "    <tr style=\"text-align: right;\">\n",
              "      <th></th>\n",
              "      <th>Floor Code</th>\n",
              "      <th>Floor Name</th>\n",
              "      <th>Room Condition 2018</th>\n",
              "      <th>Room Code</th>\n",
              "    </tr>\n",
              "  </thead>\n",
              "  <tbody>\n",
              "    <tr>\n",
              "      <th>0</th>\n",
              "      <td>1</td>\n",
              "      <td>Level 1</td>\n",
              "      <td>Excellent</td>\n",
              "      <td>2</td>\n",
              "    </tr>\n",
              "    <tr>\n",
              "      <th>1</th>\n",
              "      <td>2</td>\n",
              "      <td>Level 2</td>\n",
              "      <td>Good</td>\n",
              "      <td>5</td>\n",
              "    </tr>\n",
              "    <tr>\n",
              "      <th>2</th>\n",
              "      <td>3</td>\n",
              "      <td>Level 3</td>\n",
              "      <td>Good</td>\n",
              "      <td>1</td>\n",
              "    </tr>\n",
              "    <tr>\n",
              "      <th>3</th>\n",
              "      <td>4</td>\n",
              "      <td>Level 4</td>\n",
              "      <td>Excellent</td>\n",
              "      <td>12</td>\n",
              "    </tr>\n",
              "    <tr>\n",
              "      <th>4</th>\n",
              "      <td>5</td>\n",
              "      <td>Level 5</td>\n",
              "      <td>Excellent</td>\n",
              "      <td>8</td>\n",
              "    </tr>\n",
              "    <tr>\n",
              "      <th>5</th>\n",
              "      <td>6</td>\n",
              "      <td>Level 6</td>\n",
              "      <td>Excellent</td>\n",
              "      <td>3</td>\n",
              "    </tr>\n",
              "    <tr>\n",
              "      <th>6</th>\n",
              "      <td>7</td>\n",
              "      <td>Level 7</td>\n",
              "      <td>Excellent</td>\n",
              "      <td>2</td>\n",
              "    </tr>\n",
              "  </tbody>\n",
              "</table>\n",
              "</div>"
            ],
            "text/plain": [
              "  Floor Code Floor Name Room Condition 2018  Room Code\n",
              "0          1    Level 1           Excellent          2\n",
              "1          2    Level 2                Good          5\n",
              "2          3    Level 3                Good          1\n",
              "3          4    Level 4           Excellent         12\n",
              "4          5    Level 5           Excellent          8\n",
              "5          6    Level 6           Excellent          3\n",
              "6          7    Level 7           Excellent          2"
            ]
          },
          "metadata": {
            "tags": []
          },
          "execution_count": 38
        }
      ]
    },
    {
      "cell_type": "code",
      "metadata": {
        "id": "TUr7eUYvfkIz",
        "colab_type": "code",
        "colab": {
          "base_uri": "https://localhost:8080/",
          "height": 266
        },
        "outputId": "e633ef67-0aaa-49bb-ace7-a02dcf88db02"
      },
      "source": [
        "meeting_rooms_104.groupby(by = ['Floor Code','Floor Name'], as_index=False).agg({'Good Condition':sum, 'Room Capacity':sum})"
      ],
      "execution_count": 39,
      "outputs": [
        {
          "output_type": "execute_result",
          "data": {
            "text/html": [
              "<div>\n",
              "<style scoped>\n",
              "    .dataframe tbody tr th:only-of-type {\n",
              "        vertical-align: middle;\n",
              "    }\n",
              "\n",
              "    .dataframe tbody tr th {\n",
              "        vertical-align: top;\n",
              "    }\n",
              "\n",
              "    .dataframe thead th {\n",
              "        text-align: right;\n",
              "    }\n",
              "</style>\n",
              "<table border=\"1\" class=\"dataframe\">\n",
              "  <thead>\n",
              "    <tr style=\"text-align: right;\">\n",
              "      <th></th>\n",
              "      <th>Floor Code</th>\n",
              "      <th>Floor Name</th>\n",
              "      <th>Good Condition</th>\n",
              "      <th>Room Capacity</th>\n",
              "    </tr>\n",
              "  </thead>\n",
              "  <tbody>\n",
              "    <tr>\n",
              "      <th>0</th>\n",
              "      <td>1</td>\n",
              "      <td>Level 1</td>\n",
              "      <td>2</td>\n",
              "      <td>8.0</td>\n",
              "    </tr>\n",
              "    <tr>\n",
              "      <th>1</th>\n",
              "      <td>2</td>\n",
              "      <td>Level 2</td>\n",
              "      <td>5</td>\n",
              "      <td>58.0</td>\n",
              "    </tr>\n",
              "    <tr>\n",
              "      <th>2</th>\n",
              "      <td>3</td>\n",
              "      <td>Level 3</td>\n",
              "      <td>1</td>\n",
              "      <td>6.0</td>\n",
              "    </tr>\n",
              "    <tr>\n",
              "      <th>3</th>\n",
              "      <td>4</td>\n",
              "      <td>Level 4</td>\n",
              "      <td>12</td>\n",
              "      <td>76.0</td>\n",
              "    </tr>\n",
              "    <tr>\n",
              "      <th>4</th>\n",
              "      <td>5</td>\n",
              "      <td>Level 5</td>\n",
              "      <td>8</td>\n",
              "      <td>84.0</td>\n",
              "    </tr>\n",
              "    <tr>\n",
              "      <th>5</th>\n",
              "      <td>6</td>\n",
              "      <td>Level 6</td>\n",
              "      <td>3</td>\n",
              "      <td>16.0</td>\n",
              "    </tr>\n",
              "    <tr>\n",
              "      <th>6</th>\n",
              "      <td>7</td>\n",
              "      <td>Level 7</td>\n",
              "      <td>2</td>\n",
              "      <td>33.0</td>\n",
              "    </tr>\n",
              "  </tbody>\n",
              "</table>\n",
              "</div>"
            ],
            "text/plain": [
              "  Floor Code Floor Name  Good Condition  Room Capacity\n",
              "0          1    Level 1               2            8.0\n",
              "1          2    Level 2               5           58.0\n",
              "2          3    Level 3               1            6.0\n",
              "3          4    Level 4              12           76.0\n",
              "4          5    Level 5               8           84.0\n",
              "5          6    Level 6               3           16.0\n",
              "6          7    Level 7               2           33.0"
            ]
          },
          "metadata": {
            "tags": []
          },
          "execution_count": 39
        }
      ]
    },
    {
      "cell_type": "code",
      "metadata": {
        "colab_type": "code",
        "id": "oIBzmBrcNxUL",
        "colab": {
          "base_uri": "https://localhost:8080/",
          "height": 266
        },
        "outputId": "ea63572f-5f40-42ce-a6c5-439087013558"
      },
      "source": [
        "# props of good condition meeting rooms\n",
        "meeting_rooms_104_by_floor = meeting_rooms_104.groupby(by = ['Floor Code','Floor Name'], as_index=False).agg({'Good Condition':sum, 'Room Capacity':sum, 'Room Code':pd.Series.nunique})\n",
        "meeting_rooms_104_by_floor['props']  = meeting_rooms_104_by_floor['Good Condition']/meeting_rooms_104.shape[0]\n",
        "meeting_rooms_104_by_floor"
      ],
      "execution_count": 40,
      "outputs": [
        {
          "output_type": "execute_result",
          "data": {
            "text/html": [
              "<div>\n",
              "<style scoped>\n",
              "    .dataframe tbody tr th:only-of-type {\n",
              "        vertical-align: middle;\n",
              "    }\n",
              "\n",
              "    .dataframe tbody tr th {\n",
              "        vertical-align: top;\n",
              "    }\n",
              "\n",
              "    .dataframe thead th {\n",
              "        text-align: right;\n",
              "    }\n",
              "</style>\n",
              "<table border=\"1\" class=\"dataframe\">\n",
              "  <thead>\n",
              "    <tr style=\"text-align: right;\">\n",
              "      <th></th>\n",
              "      <th>Floor Code</th>\n",
              "      <th>Floor Name</th>\n",
              "      <th>Good Condition</th>\n",
              "      <th>Room Capacity</th>\n",
              "      <th>Room Code</th>\n",
              "      <th>props</th>\n",
              "    </tr>\n",
              "  </thead>\n",
              "  <tbody>\n",
              "    <tr>\n",
              "      <th>0</th>\n",
              "      <td>1</td>\n",
              "      <td>Level 1</td>\n",
              "      <td>2</td>\n",
              "      <td>8.0</td>\n",
              "      <td>2</td>\n",
              "      <td>0.060606</td>\n",
              "    </tr>\n",
              "    <tr>\n",
              "      <th>1</th>\n",
              "      <td>2</td>\n",
              "      <td>Level 2</td>\n",
              "      <td>5</td>\n",
              "      <td>58.0</td>\n",
              "      <td>5</td>\n",
              "      <td>0.151515</td>\n",
              "    </tr>\n",
              "    <tr>\n",
              "      <th>2</th>\n",
              "      <td>3</td>\n",
              "      <td>Level 3</td>\n",
              "      <td>1</td>\n",
              "      <td>6.0</td>\n",
              "      <td>1</td>\n",
              "      <td>0.030303</td>\n",
              "    </tr>\n",
              "    <tr>\n",
              "      <th>3</th>\n",
              "      <td>4</td>\n",
              "      <td>Level 4</td>\n",
              "      <td>12</td>\n",
              "      <td>76.0</td>\n",
              "      <td>12</td>\n",
              "      <td>0.363636</td>\n",
              "    </tr>\n",
              "    <tr>\n",
              "      <th>4</th>\n",
              "      <td>5</td>\n",
              "      <td>Level 5</td>\n",
              "      <td>8</td>\n",
              "      <td>84.0</td>\n",
              "      <td>8</td>\n",
              "      <td>0.242424</td>\n",
              "    </tr>\n",
              "    <tr>\n",
              "      <th>5</th>\n",
              "      <td>6</td>\n",
              "      <td>Level 6</td>\n",
              "      <td>3</td>\n",
              "      <td>16.0</td>\n",
              "      <td>3</td>\n",
              "      <td>0.090909</td>\n",
              "    </tr>\n",
              "    <tr>\n",
              "      <th>6</th>\n",
              "      <td>7</td>\n",
              "      <td>Level 7</td>\n",
              "      <td>2</td>\n",
              "      <td>33.0</td>\n",
              "      <td>2</td>\n",
              "      <td>0.060606</td>\n",
              "    </tr>\n",
              "  </tbody>\n",
              "</table>\n",
              "</div>"
            ],
            "text/plain": [
              "  Floor Code Floor Name  Good Condition  Room Capacity  Room Code     props\n",
              "0          1    Level 1               2            8.0          2  0.060606\n",
              "1          2    Level 2               5           58.0          5  0.151515\n",
              "2          3    Level 3               1            6.0          1  0.030303\n",
              "3          4    Level 4              12           76.0         12  0.363636\n",
              "4          5    Level 5               8           84.0          8  0.242424\n",
              "5          6    Level 6               3           16.0          3  0.090909\n",
              "6          7    Level 7               2           33.0          2  0.060606"
            ]
          },
          "metadata": {
            "tags": []
          },
          "execution_count": 40
        }
      ]
    },
    {
      "cell_type": "code",
      "metadata": {
        "id": "0WnZpXHTfkI4",
        "colab_type": "code",
        "colab": {
          "base_uri": "https://localhost:8080/",
          "height": 34
        },
        "outputId": "66b9a3c7-c132-4246-b209-751f9c6ce9f9"
      },
      "source": [
        "meeting_rooms_104_by_floor['Room Code'].sum()"
      ],
      "execution_count": 41,
      "outputs": [
        {
          "output_type": "execute_result",
          "data": {
            "text/plain": [
              "33"
            ]
          },
          "metadata": {
            "tags": []
          },
          "execution_count": 41
        }
      ]
    },
    {
      "cell_type": "code",
      "metadata": {
        "colab_type": "code",
        "id": "BOXXzWHzViRd",
        "colab": {
          "base_uri": "https://localhost:8080/",
          "height": 80
        },
        "outputId": "2e956b40-4276-4847-db37-f29487578628"
      },
      "source": [
        "meeting_rooms_104_by_floor[meeting_rooms_104_by_floor['Floor Code']=='1']"
      ],
      "execution_count": 42,
      "outputs": [
        {
          "output_type": "execute_result",
          "data": {
            "text/html": [
              "<div>\n",
              "<style scoped>\n",
              "    .dataframe tbody tr th:only-of-type {\n",
              "        vertical-align: middle;\n",
              "    }\n",
              "\n",
              "    .dataframe tbody tr th {\n",
              "        vertical-align: top;\n",
              "    }\n",
              "\n",
              "    .dataframe thead th {\n",
              "        text-align: right;\n",
              "    }\n",
              "</style>\n",
              "<table border=\"1\" class=\"dataframe\">\n",
              "  <thead>\n",
              "    <tr style=\"text-align: right;\">\n",
              "      <th></th>\n",
              "      <th>Floor Code</th>\n",
              "      <th>Floor Name</th>\n",
              "      <th>Good Condition</th>\n",
              "      <th>Room Capacity</th>\n",
              "      <th>Room Code</th>\n",
              "      <th>props</th>\n",
              "    </tr>\n",
              "  </thead>\n",
              "  <tbody>\n",
              "    <tr>\n",
              "      <th>0</th>\n",
              "      <td>1</td>\n",
              "      <td>Level 1</td>\n",
              "      <td>2</td>\n",
              "      <td>8.0</td>\n",
              "      <td>2</td>\n",
              "      <td>0.060606</td>\n",
              "    </tr>\n",
              "  </tbody>\n",
              "</table>\n",
              "</div>"
            ],
            "text/plain": [
              "  Floor Code Floor Name  Good Condition  Room Capacity  Room Code     props\n",
              "0          1    Level 1               2            8.0          2  0.060606"
            ]
          },
          "metadata": {
            "tags": []
          },
          "execution_count": 42
        }
      ]
    },
    {
      "cell_type": "code",
      "metadata": {
        "colab_type": "code",
        "id": "qrXCiXuIOwbK",
        "colab": {
          "base_uri": "https://localhost:8080/",
          "height": 34
        },
        "outputId": "8973a49d-0e64-4201-9263-897951128869"
      },
      "source": [
        "em_104 = employee_data[employee_data['Building Code']==building_code]\n",
        "em_104.shape"
      ],
      "execution_count": 43,
      "outputs": [
        {
          "output_type": "execute_result",
          "data": {
            "text/plain": [
              "(329, 19)"
            ]
          },
          "metadata": {
            "tags": []
          },
          "execution_count": 43
        }
      ]
    },
    {
      "cell_type": "code",
      "metadata": {
        "colab_type": "code",
        "id": "y_WFMU7EO6hU",
        "colab": {
          "base_uri": "https://localhost:8080/",
          "height": 266
        },
        "outputId": "cb00c991-4730-4d16-e5d7-97958eaa818b"
      },
      "source": [
        "em_104_by_floor = em_104.groupby(by=['Floor Code','Floor Name'], as_index=False).agg({'Employee Sequential ID':pd.Series.nunique})\n",
        "em_104_by_floor['props']  = em_104_by_floor['Employee Sequential ID']/em_104.shape[0]\n",
        "em_104_by_floor"
      ],
      "execution_count": 44,
      "outputs": [
        {
          "output_type": "execute_result",
          "data": {
            "text/html": [
              "<div>\n",
              "<style scoped>\n",
              "    .dataframe tbody tr th:only-of-type {\n",
              "        vertical-align: middle;\n",
              "    }\n",
              "\n",
              "    .dataframe tbody tr th {\n",
              "        vertical-align: top;\n",
              "    }\n",
              "\n",
              "    .dataframe thead th {\n",
              "        text-align: right;\n",
              "    }\n",
              "</style>\n",
              "<table border=\"1\" class=\"dataframe\">\n",
              "  <thead>\n",
              "    <tr style=\"text-align: right;\">\n",
              "      <th></th>\n",
              "      <th>Floor Code</th>\n",
              "      <th>Floor Name</th>\n",
              "      <th>Employee Sequential ID</th>\n",
              "      <th>props</th>\n",
              "    </tr>\n",
              "  </thead>\n",
              "  <tbody>\n",
              "    <tr>\n",
              "      <th>0</th>\n",
              "      <td>0</td>\n",
              "      <td>Ground</td>\n",
              "      <td>10</td>\n",
              "      <td>0.030395</td>\n",
              "    </tr>\n",
              "    <tr>\n",
              "      <th>1</th>\n",
              "      <td>1</td>\n",
              "      <td>Level 1</td>\n",
              "      <td>29</td>\n",
              "      <td>0.088146</td>\n",
              "    </tr>\n",
              "    <tr>\n",
              "      <th>2</th>\n",
              "      <td>2</td>\n",
              "      <td>Level 2</td>\n",
              "      <td>61</td>\n",
              "      <td>0.185410</td>\n",
              "    </tr>\n",
              "    <tr>\n",
              "      <th>3</th>\n",
              "      <td>4</td>\n",
              "      <td>Level 4</td>\n",
              "      <td>68</td>\n",
              "      <td>0.206687</td>\n",
              "    </tr>\n",
              "    <tr>\n",
              "      <th>4</th>\n",
              "      <td>5</td>\n",
              "      <td>Level 5</td>\n",
              "      <td>40</td>\n",
              "      <td>0.121581</td>\n",
              "    </tr>\n",
              "    <tr>\n",
              "      <th>5</th>\n",
              "      <td>6</td>\n",
              "      <td>Level 6</td>\n",
              "      <td>76</td>\n",
              "      <td>0.231003</td>\n",
              "    </tr>\n",
              "    <tr>\n",
              "      <th>6</th>\n",
              "      <td>7</td>\n",
              "      <td>Level 7</td>\n",
              "      <td>45</td>\n",
              "      <td>0.136778</td>\n",
              "    </tr>\n",
              "  </tbody>\n",
              "</table>\n",
              "</div>"
            ],
            "text/plain": [
              "  Floor Code Floor Name  Employee Sequential ID     props\n",
              "0          0     Ground                      10  0.030395\n",
              "1          1    Level 1                      29  0.088146\n",
              "2          2    Level 2                      61  0.185410\n",
              "3          4    Level 4                      68  0.206687\n",
              "4          5    Level 5                      40  0.121581\n",
              "5          6    Level 6                      76  0.231003\n",
              "6          7    Level 7                      45  0.136778"
            ]
          },
          "metadata": {
            "tags": []
          },
          "execution_count": 44
        }
      ]
    },
    {
      "cell_type": "code",
      "metadata": {
        "id": "q6ru7UH3fkJD",
        "colab_type": "code",
        "colab": {
          "base_uri": "https://localhost:8080/",
          "height": 170
        },
        "outputId": "edf14af6-6949-46ea-c84c-b75fbc25f271"
      },
      "source": [
        "av_equipment_data.columns"
      ],
      "execution_count": 45,
      "outputs": [
        {
          "output_type": "execute_result",
          "data": {
            "text/plain": [
              "Index(['Equipment Code', 'Equipment Standard', 'Manufacturer', 'Equip. Status',\n",
              "       'Building Code', 'Floor Code', 'Room Code', 'Campus Code',\n",
              "       'Room Type_x', 'Room Type Abbreviation', 'Room Category_x',\n",
              "       'Building Name', 'Room Name', 'Room Category_y', 'Room Type_y',\n",
              "       'Room Type Abbreviation_x', 'Room Capacity', 'Room Area m²',\n",
              "       'Room Condition 2018', 'Department Code', 'Room Location Code',\n",
              "       'Floor Name', 'Room Type Abbreviation_y', 'Description',\n",
              "       'Room Type Definition'],\n",
              "      dtype='object')"
            ]
          },
          "metadata": {
            "tags": []
          },
          "execution_count": 45
        }
      ]
    },
    {
      "cell_type": "code",
      "metadata": {
        "id": "-FQv08bwfkJG",
        "colab_type": "code",
        "colab": {}
      },
      "source": [
        "# get meeting room equipment data\n",
        "meetingroom_equipment = av_equipment_data[av_equipment_data['Room Type_x'].str.contains(\"601|629\")]\n",
        "# find out number of equip. in use\n",
        "meetingroom_equipment[\"Usable Equip.\"] = np.where((meetingroom_equipment['Equip. Status'] == \"In service\"), 1, 0)\n",
        "\n",
        "equipment_104 = meetingroom_equipment[meetingroom_equipment['Building Code']==building_code]"
      ],
      "execution_count": 46,
      "outputs": []
    },
    {
      "cell_type": "code",
      "metadata": {
        "id": "oBnOVJzlfkJI",
        "colab_type": "code",
        "colab": {
          "base_uri": "https://localhost:8080/",
          "height": 170
        },
        "outputId": "e58b2a23-fcac-45e4-d1db-f50ec71aeae4"
      },
      "source": [
        "equipment_104.columns"
      ],
      "execution_count": 47,
      "outputs": [
        {
          "output_type": "execute_result",
          "data": {
            "text/plain": [
              "Index(['Equipment Code', 'Equipment Standard', 'Manufacturer', 'Equip. Status',\n",
              "       'Building Code', 'Floor Code', 'Room Code', 'Campus Code',\n",
              "       'Room Type_x', 'Room Type Abbreviation', 'Room Category_x',\n",
              "       'Building Name', 'Room Name', 'Room Category_y', 'Room Type_y',\n",
              "       'Room Type Abbreviation_x', 'Room Capacity', 'Room Area m²',\n",
              "       'Room Condition 2018', 'Department Code', 'Room Location Code',\n",
              "       'Floor Name', 'Room Type Abbreviation_y', 'Description',\n",
              "       'Room Type Definition', 'Usable Equip.'],\n",
              "      dtype='object')"
            ]
          },
          "metadata": {
            "tags": []
          },
          "execution_count": 47
        }
      ]
    },
    {
      "cell_type": "code",
      "metadata": {
        "id": "oBDA-NUsfkJL",
        "colab_type": "code",
        "colab": {}
      },
      "source": [
        "equipment_by_floor = equipment_104.groupby(by=['Floor Code','Floor Name'], as_index=False).agg({'Usable Equip.':sum})\n",
        "\n",
        "equipment_by_floor[\"props\"] = equipment_by_floor['Usable Equip.']/equipment_104.shape[0]"
      ],
      "execution_count": 48,
      "outputs": []
    },
    {
      "cell_type": "code",
      "metadata": {
        "id": "BlYwpuZsfkJQ",
        "colab_type": "code",
        "colab": {
          "base_uri": "https://localhost:8080/",
          "height": 111
        },
        "outputId": "b95e9f75-9c97-4df5-de94-4f37a5773e52"
      },
      "source": [
        "equipment_by_floor"
      ],
      "execution_count": 49,
      "outputs": [
        {
          "output_type": "execute_result",
          "data": {
            "text/html": [
              "<div>\n",
              "<style scoped>\n",
              "    .dataframe tbody tr th:only-of-type {\n",
              "        vertical-align: middle;\n",
              "    }\n",
              "\n",
              "    .dataframe tbody tr th {\n",
              "        vertical-align: top;\n",
              "    }\n",
              "\n",
              "    .dataframe thead th {\n",
              "        text-align: right;\n",
              "    }\n",
              "</style>\n",
              "<table border=\"1\" class=\"dataframe\">\n",
              "  <thead>\n",
              "    <tr style=\"text-align: right;\">\n",
              "      <th></th>\n",
              "      <th>Floor Code</th>\n",
              "      <th>Floor Name</th>\n",
              "      <th>Usable Equip.</th>\n",
              "      <th>props</th>\n",
              "    </tr>\n",
              "  </thead>\n",
              "  <tbody>\n",
              "    <tr>\n",
              "      <th>0</th>\n",
              "      <td>4</td>\n",
              "      <td>Level 4</td>\n",
              "      <td>1</td>\n",
              "      <td>0.5</td>\n",
              "    </tr>\n",
              "    <tr>\n",
              "      <th>1</th>\n",
              "      <td>6</td>\n",
              "      <td>Level 6</td>\n",
              "      <td>1</td>\n",
              "      <td>0.5</td>\n",
              "    </tr>\n",
              "  </tbody>\n",
              "</table>\n",
              "</div>"
            ],
            "text/plain": [
              "  Floor Code Floor Name  Usable Equip.  props\n",
              "0          4    Level 4              1    0.5\n",
              "1          6    Level 6              1    0.5"
            ]
          },
          "metadata": {
            "tags": []
          },
          "execution_count": 49
        }
      ]
    },
    {
      "cell_type": "code",
      "metadata": {
        "colab_type": "code",
        "id": "6PSb5GR3Rz0E",
        "colab": {}
      },
      "source": [
        "from scipy.special import softmax\n",
        "def get_MR_scores_for_floors(floor_position, building_code, required_capacity, penalty=0.05):\n",
        "    data = space_data[space_data['Building Code']==building_code]\n",
        "    possible_floors = data.groupby(by=['Floor Code','Floor Name'],as_index=False).agg({'Room Code':pd.Series.nunique})\n",
        "    print(possible_floors)\n",
        "\n",
        "    meeting_rooms = possible_meeting_rooms_data[possible_meeting_rooms_data['Building Code']==building_code]\n",
        "    meeting_rooms_by_floor = meeting_rooms.groupby( by = ['Floor Code','Floor Name'], as_index=False).agg({'Good Condition':sum, 'Room Capacity':sum, 'Room Code':pd.Series.nunique})\n",
        "    meeting_rooms_by_floor = meeting_rooms_by_floor[meeting_rooms_by_floor[\"Room Capacity\"] >= required_capacity]\n",
        "    total_rooms = meeting_rooms_by_floor['Room Code'].sum()\n",
        "    \n",
        "    if total_rooms == 0:\n",
        "      return print(\"No Suitable Floor\")\n",
        "    \n",
        "    else:\n",
        "      meeting_rooms_by_floor['props']  = meeting_rooms_by_floor['Good Condition']/total_rooms\n",
        "      print(meeting_rooms_by_floor)\n",
        "\n",
        "      em = employee_data[employee_data['Building Code']==building_code]\n",
        "      em_by_floor = em.groupby(by=['Floor Code','Floor Name'], as_index=False).agg({'Employee Sequential ID':pd.Series.nunique})\n",
        "      total_emp = em_by_floor['Employee Sequential ID'].sum()\n",
        "      em_by_floor['props']  = em_by_floor['Employee Sequential ID']/total_emp\n",
        "      print(em_by_floor)\n",
        "\n",
        "      idx_of_position = possible_floors[possible_floors['Floor Code']==floor_position].index[0]\n",
        "      probs = []\n",
        "      penalty_scores = []\n",
        "      weighted_probs = []\n",
        "      for idx,row in possible_floors.iterrows():\n",
        "          neg = 0\n",
        "          if idx < idx_of_position:\n",
        "              neg = idx - idx_of_position\n",
        "          else:\n",
        "              neg = idx_of_position - idx\n",
        "          penalize = neg*penalty\n",
        "          target_floor_code = row['Floor Code']\n",
        "          mr_df = meeting_rooms_by_floor[meeting_rooms_by_floor['Floor Code']==target_floor_code]\n",
        "          if len(mr_df) > 0:\n",
        "              meeting_room_prop = mr_df.iloc[0]['Room Capacity']*mr_df.iloc[0]['props']\n",
        "          else:\n",
        "              meeting_room_prop = 0\n",
        "          em_df = em_by_floor[em_by_floor['Floor Code']==target_floor_code]\n",
        "          if len(em_df) > 0:\n",
        "              employee_prop = em_df.iloc[0]['Employee Sequential ID']*em_df.iloc[0]['props']\n",
        "          else:\n",
        "              employee_prop = 1\n",
        "          prob = meeting_room_prop/employee_prop\n",
        "          probs.append(prob)\n",
        "          penalty_scores.append(penalize)\n",
        "      possible_floors['weights'] = probs\n",
        "      possible_floors['probs'] = probs\n",
        "      possible_floors = possible_floors[possible_floors['probs']!=0]\n",
        "      nz_probs = []\n",
        "      nz_penalty = []\n",
        "      for idx,prob in enumerate(probs): \n",
        "          if prob > 0:\n",
        "              nz_probs.append(prob)\n",
        "              nz_penalty.append(penalty_scores[idx])\n",
        "      possible_floors['weights'] = nz_probs\n",
        "      probs = softmax(nz_probs)\n",
        "      for idx,prob in enumerate(probs):\n",
        "          weighted_probs.append(prob + nz_penalty[idx])\n",
        "      possible_floors['probs'] = probs\n",
        "      possible_floors['penalize'] = nz_penalty\n",
        "      possible_floors['scores'] = weighted_probs\n",
        "      return possible_floors"
      ],
      "execution_count": 66,
      "outputs": []
    },
    {
      "cell_type": "code",
      "metadata": {
        "id": "ECu-jHgnfkJV",
        "colab_type": "code",
        "colab": {}
      },
      "source": [
        "possible_toilets_data[\"Good Condition\"] = np.where((possible_toilets_data['Room Condition 2018'] == \"Excellent\") | \n",
        "                                          (possible_toilets_data['Room Condition 2018'] == \"Very Good\")|\n",
        "                         (possible_toilets_data['Room Condition 2018'] == \"Good\"), 1, 0)"
      ],
      "execution_count": 74,
      "outputs": []
    },
    {
      "cell_type": "code",
      "metadata": {
        "id": "LXtHlFkcj5QF",
        "colab_type": "code",
        "colab": {
          "base_uri": "https://localhost:8080/",
          "height": 213
        },
        "outputId": "d5f017d3-c29d-462a-aef6-a171923ae613"
      },
      "source": [
        "possible_toilets_data.groupby(by = [\"Good Condition\"]).count()"
      ],
      "execution_count": 75,
      "outputs": [
        {
          "output_type": "execute_result",
          "data": {
            "text/html": [
              "<div>\n",
              "<style scoped>\n",
              "    .dataframe tbody tr th:only-of-type {\n",
              "        vertical-align: middle;\n",
              "    }\n",
              "\n",
              "    .dataframe tbody tr th {\n",
              "        vertical-align: top;\n",
              "    }\n",
              "\n",
              "    .dataframe thead th {\n",
              "        text-align: right;\n",
              "    }\n",
              "</style>\n",
              "<table border=\"1\" class=\"dataframe\">\n",
              "  <thead>\n",
              "    <tr style=\"text-align: right;\">\n",
              "      <th></th>\n",
              "      <th>Campus Code</th>\n",
              "      <th>Building Code</th>\n",
              "      <th>Building Name</th>\n",
              "      <th>Floor Code</th>\n",
              "      <th>Room Code</th>\n",
              "      <th>Room Name</th>\n",
              "      <th>Room Category</th>\n",
              "      <th>Room Type</th>\n",
              "      <th>Room Type Abbreviation_x</th>\n",
              "      <th>Room Capacity</th>\n",
              "      <th>Room Area m²</th>\n",
              "      <th>Room Condition 2018</th>\n",
              "      <th>Department Code</th>\n",
              "      <th>Room Location Code</th>\n",
              "      <th>Floor Name</th>\n",
              "      <th>Room Type Abbreviation_y</th>\n",
              "      <th>Description</th>\n",
              "      <th>Room Type Definition</th>\n",
              "    </tr>\n",
              "    <tr>\n",
              "      <th>Good Condition</th>\n",
              "      <th></th>\n",
              "      <th></th>\n",
              "      <th></th>\n",
              "      <th></th>\n",
              "      <th></th>\n",
              "      <th></th>\n",
              "      <th></th>\n",
              "      <th></th>\n",
              "      <th></th>\n",
              "      <th></th>\n",
              "      <th></th>\n",
              "      <th></th>\n",
              "      <th></th>\n",
              "      <th></th>\n",
              "      <th></th>\n",
              "      <th></th>\n",
              "      <th></th>\n",
              "      <th></th>\n",
              "    </tr>\n",
              "  </thead>\n",
              "  <tbody>\n",
              "    <tr>\n",
              "      <th>0</th>\n",
              "      <td>294</td>\n",
              "      <td>294</td>\n",
              "      <td>294</td>\n",
              "      <td>294</td>\n",
              "      <td>294</td>\n",
              "      <td>0</td>\n",
              "      <td>294</td>\n",
              "      <td>294</td>\n",
              "      <td>294</td>\n",
              "      <td>292</td>\n",
              "      <td>294</td>\n",
              "      <td>18</td>\n",
              "      <td>294</td>\n",
              "      <td>294</td>\n",
              "      <td>294</td>\n",
              "      <td>294</td>\n",
              "      <td>294</td>\n",
              "      <td>294</td>\n",
              "    </tr>\n",
              "    <tr>\n",
              "      <th>1</th>\n",
              "      <td>1323</td>\n",
              "      <td>1323</td>\n",
              "      <td>1323</td>\n",
              "      <td>1323</td>\n",
              "      <td>1323</td>\n",
              "      <td>0</td>\n",
              "      <td>1323</td>\n",
              "      <td>1323</td>\n",
              "      <td>1323</td>\n",
              "      <td>1312</td>\n",
              "      <td>1323</td>\n",
              "      <td>1323</td>\n",
              "      <td>1323</td>\n",
              "      <td>1323</td>\n",
              "      <td>1323</td>\n",
              "      <td>1323</td>\n",
              "      <td>1323</td>\n",
              "      <td>1323</td>\n",
              "    </tr>\n",
              "  </tbody>\n",
              "</table>\n",
              "</div>"
            ],
            "text/plain": [
              "                Campus Code  Building Code  ...  Description  Room Type Definition\n",
              "Good Condition                              ...                                   \n",
              "0                       294            294  ...          294                   294\n",
              "1                      1323           1323  ...         1323                  1323\n",
              "\n",
              "[2 rows x 18 columns]"
            ]
          },
          "metadata": {
            "tags": []
          },
          "execution_count": 75
        }
      ]
    },
    {
      "cell_type": "code",
      "metadata": {
        "id": "XBhbpkRxfkJX",
        "colab_type": "code",
        "colab": {}
      },
      "source": [
        "toilets_104 = possible_toilets_data[possible_toilets_data['Building Code']==building_code]\n",
        "\n",
        "toilets_by_floor = toilets_104.groupby(by=['Floor Code','Floor Name'], as_index=False).agg({\"Good Condition\":sum, \"Room Capacity\":sum})\n"
      ],
      "execution_count": null,
      "outputs": []
    },
    {
      "cell_type": "code",
      "metadata": {
        "id": "KFISgHGXfkJa",
        "colab_type": "code",
        "colab": {}
      },
      "source": [
        "toilets_by_floor[\"props\"] = toilets_by_floor['Good Condition']/toilets_104.shape[0]\n",
        "\n",
        "toilets_by_floor"
      ],
      "execution_count": null,
      "outputs": []
    },
    {
      "cell_type": "code",
      "metadata": {
        "colab_type": "code",
        "id": "xr8VQwA4VfIc",
        "colab": {}
      },
      "source": [
        "from scipy.special import softmax\n",
        "import numpy as np\n",
        "def get_TO_scores_for_floors(floor_position, building_code, penalty=0.025):\n",
        "    data = space_data[space_data['Building Code']==building_code]\n",
        "    possible_floors = data.groupby(by=['Floor Code','Floor Name'],as_index=False).agg({'Room Code':pd.Series.nunique})\n",
        "    possible_floors['Floor Code'] = possible_floors['Floor Code'].astype(float)\n",
        "    possible_floors.sort_values(by=['Floor Code'], inplace=True)\n",
        "    print(possible_floors)\n",
        "\n",
        "    toilets = possible_toilets_data[possible_toilets_data['Building Code']==building_code]\n",
        "    toilets_by_floor = toilets.groupby(by=['Floor Code','Floor Name'], as_index=False).agg({'Room Code':pd.Series.nunique, 'Room Capacity':sum})\n",
        "\n",
        "    total_rooms = toilets_by_floor['Room Code'].sum()\n",
        "    toilets_by_floor['props']  = toilets_by_floor['Room Code']/total_rooms\n",
        "    print(toilets_by_floor)\n",
        "\n",
        "    stud = timetable_data[timetable_data['Building Code']==building_code]\n",
        "    stud_by_floor = stud.groupby(by=['Floor Code','Floor Name'], as_index=False).agg({'Planned Size':sum})\n",
        "    total_studs = stud_by_floor['Planned Size'].sum()\n",
        "    stud_by_floor['props']  = stud_by_floor['Planned Size']/total_studs\n",
        "    print(stud_by_floor)\n",
        "\n",
        "    idx_of_position = possible_floors[possible_floors['Floor Code']==float(floor_position)].index[0]\n",
        "    probs = []\n",
        "    penalty_scores = []\n",
        "    weighted_probs = []\n",
        "    for idx,row in possible_floors.iterrows():\n",
        "        neg = 0\n",
        "        if idx < idx_of_position:\n",
        "            neg = idx - idx_of_position\n",
        "        else:\n",
        "            neg = idx_of_position - idx\n",
        "        penalize = neg*penalty\n",
        "        target_floor_code = row['Floor Code']\n",
        "        if target_floor_code not in (0.1,0.2):\n",
        "            target_floor_code = int(target_floor_code)\n",
        "        target_floor_code = str(target_floor_code)\n",
        "        to_df = toilets_by_floor[toilets_by_floor['Floor Code']==target_floor_code]\n",
        "        if len(to_df) > 0:\n",
        "            toilet_prop = to_df.iloc[0]['Room Capacity']*to_df.iloc[0]['props']\n",
        "        else:\n",
        "            toilet_prop = 0\n",
        "        stu_df = stud_by_floor[stud_by_floor['Floor Code']==target_floor_code]\n",
        "        if len(stu_df) > 0:\n",
        "            stu_prop = stu_df.iloc[0]['Planned Size']*stu_df.iloc[0]['props']\n",
        "        else:\n",
        "            stu_prop = 1\n",
        "        prob = toilet_prop/stu_prop\n",
        "        probs.append(prob)\n",
        "        penalty_scores.append(penalize)\n",
        "    possible_floors['weights'] = probs\n",
        "    possible_floors['probs'] = probs\n",
        "    possible_floors = possible_floors[possible_floors['probs']!=0]\n",
        "    nz_probs = []\n",
        "    nz_penalty = []\n",
        "    for idx,prob in enumerate(probs): \n",
        "        if prob > 0:\n",
        "            nz_probs.append(prob)\n",
        "            nz_penalty.append(penalty_scores[idx])\n",
        "    possible_floors['weights'] = nz_probs\n",
        "    probs = softmax(nz_probs)\n",
        "    for idx,prob in enumerate(probs):\n",
        "        weighted_probs.append(prob + nz_penalty[idx])\n",
        "    possible_floors['probs'] = probs\n",
        "    possible_floors['penalize'] = nz_penalty\n",
        "    possible_floors['scores'] = weighted_probs\n",
        "    return possible_floors"
      ],
      "execution_count": null,
      "outputs": []
    },
    {
      "cell_type": "code",
      "metadata": {
        "colab_type": "code",
        "id": "-zERNoIJv225",
        "colab": {
          "base_uri": "https://localhost:8080/",
          "height": 733
        },
        "outputId": "38ad75f8-2444-4c2a-f2b9-7e12017747a9"
      },
      "source": [
        "# 104/263\n",
        "floor_scores = get_MR_scores_for_floors(floor_position='3',building_code='263', required_capacity = 0, penalty=0.005)\n",
        "print(floor_scores)\n",
        "plt.figure(figsize=(8,4))\n",
        "ax = sns.barplot(x=\"Floor Name\", y='scores', data=floor_scores);\n",
        "ax.set_xticklabels(ax.get_xticklabels(), rotation=40, ha=\"right\")\n",
        "ax.set(xlabel='Floors', ylabel='Model Scores')\n",
        "ax.set_title(\"Best floor prediction\")\n",
        "plt.show()"
      ],
      "execution_count": 69,
      "outputs": [
        {
          "output_type": "stream",
          "text": [
            "  Floor Code Floor Name  Room Code\n",
            "0          0     Ground         50\n",
            "1          1    Level 1         27\n",
            "2          2    Level 2         38\n",
            "3          3    Level 3         83\n",
            "4          4    Level 4         36\n",
            "5          5    Level 5         31\n",
            "6          6    Level 6          7\n",
            "7          7    Level 7          5\n",
            "  Floor Code Floor Name  Good Condition  Room Capacity  Room Code  props\n",
            "0          0     Ground               2           20.0          2   0.10\n",
            "1          1    Level 1               1           10.0          1   0.05\n",
            "2          2    Level 2               2           24.0          2   0.10\n",
            "3          3    Level 3              13           73.0         13   0.65\n",
            "4          5    Level 5               2           24.0          2   0.10\n",
            "  Floor Code Floor Name  Employee Sequential ID  props\n",
            "0          0     Ground                      35   0.25\n",
            "1          3    Level 3                     105   0.75\n",
            "  Floor Code Floor Name  Room Code   weights     probs  penalize    scores\n",
            "0          0     Ground         50  0.228571  0.046933    -0.015  0.031933\n",
            "1          1    Level 1         27  0.500000  0.061569    -0.010  0.051569\n",
            "2          2    Level 2         38  2.400000  0.411641    -0.005  0.406641\n",
            "3          3    Level 3         83  0.602540  0.068217     0.000  0.068217\n",
            "5          5    Level 5         31  2.400000  0.411641    -0.010  0.401641\n"
          ],
          "name": "stdout"
        },
        {
          "output_type": "display_data",
          "data": {
            "image/png": "[encoded data removed]",
            "text/plain": [
              "<Figure size 576x288 with 1 Axes>"
            ]
          },
          "metadata": {
            "tags": []
          }
        }
      ]
    },
    {
      "cell_type": "code",
      "metadata": {
        "colab_type": "code",
        "id": "_djdjg6oKd3U",
        "colab": {}
      },
      "source": [
        "# 133/115\n",
        "floor_scores = get_TO_scores_for_floors(floor_position='1',building_code='133',penalty=0.015)\n",
        "print(floor_scores[['Floor Code','Floor Name','weights','probs','penalize','scores']])\n",
        "plt.figure(figsize=(8,4))\n",
        "ax = sns.barplot(x=\"Floor Name\", y='scores', data=floor_scores);\n",
        "ax.set_xticklabels(ax.get_xticklabels(), rotation=40, ha=\"right\")\n",
        "ax.set(xlabel='Floors', ylabel='Model Scores')\n",
        "ax.set_title(\"Best floor prediction\")\n",
        "plt.show()"
      ],
      "execution_count": null,
      "outputs": []
    }
  ]
}