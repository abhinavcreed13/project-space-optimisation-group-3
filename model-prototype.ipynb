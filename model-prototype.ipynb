{
 "cells": [
  {
   "cell_type": "markdown",
   "metadata": {
    "colab_type": "text",
    "id": "ZTWGg0lzAm0e"
   },
   "source": [
    "# Model Prototype"
   ]
  },
  {
   "cell_type": "markdown",
   "metadata": {
    "colab_type": "text",
    "id": "hUKat_gXAqGr"
   },
   "source": [
    "### Load Data"
   ]
  },
  {
   "cell_type": "code",
   "execution_count": 1,
   "metadata": {
    "colab": {},
    "colab_type": "code",
    "id": "CF6Mvo6lAsVZ"
   },
   "outputs": [],
   "source": [
    "# load libraries\n",
    "import pandas as pd\n",
    "import warnings\n",
    "warnings.filterwarnings('ignore')\n",
    "\n",
    "import seaborn as sns\n",
    "import matplotlib.pyplot as plt\n",
    "sns.set(style=\"ticks\", color_codes=True)"
   ]
  },
  {
   "cell_type": "code",
   "execution_count": 2,
   "metadata": {
    "colab": {},
    "colab_type": "code",
    "id": "mgVRrKRmCKb3"
   },
   "outputs": [],
   "source": [
    "class DataCleaner():\n",
    "\n",
    "    def clean_uom_space(self,uom_space_df):\n",
    "        uom_space_df['Campus Code']=uom_space_df['Campus Code'].astype(str).str.strip()\n",
    "        uom_space_df['Building Code']=uom_space_df['Building Code'].astype(str).str.strip()\n",
    "        uom_space_df['Building Name']=uom_space_df['Building Name'].astype(str).str.strip()\n",
    "        uom_space_df['Room Type']=uom_space_df['Room Type'].astype(str).str.strip()\n",
    "        uom_space_df['Room Category']=uom_space_df['Room Category'].astype(str).str.strip()\n",
    "        uom_space_df['Floor Code']=uom_space_df['Floor Code'].astype(str).str.strip()\n",
    "        uom_space_df['Room Code']=uom_space_df['Room Code'].astype(str).str.strip()\n",
    "        return uom_space_df\n",
    "\n",
    "    def clean_rm_category_type(self,rm_category_type_df):\n",
    "        rm_category_type_df['Room Type']=rm_category_type_df['Room Type'].astype(str).str.strip()\n",
    "        rm_category_type_df['Room Category']=rm_category_type_df['Room Category'].astype(str).str.strip()\n",
    "        rm_category_type_df['Room Type Abbreviation']=rm_category_type_df['Room Type Abbreviation'].str.lower().str.strip()\n",
    "        rm_category_type_df['Description']=rm_category_type_df['Description'].str.lower().str.strip()\n",
    "        rm_category_type_df['Room Type Definition']=rm_category_type_df['Room Type Definition'].str.lower().str.strip()\n",
    "        return rm_category_type_df\n",
    "\n",
    "    def clean_floor_data(self,floor_df):\n",
    "        floor_df['Building Code'] = floor_df['Building Code'].astype(str).str.strip()\n",
    "        floor_df['Floor Code'] = floor_df['Floor Code'].astype(str).str.strip()\n",
    "        floor_df['Floor Name'] = floor_df['Floor Name'].astype(str).str.strip()\n",
    "        return floor_df\n",
    "\n",
    "    def clean_em_location(self,em_location_df):\n",
    "        em_location_df['Floor Code'] = em_location_df['Floor Code'].astype(int)\n",
    "        em_location_df['Floor Code'] = em_location_df['Floor Code'].astype(str).str.strip()\n",
    "        return em_location_df\n",
    "\n",
    "    def clean_av_equipment(self,av_equipment_df):\n",
    "        av_equipment_df['Room Type'] = av_equipment_df['Room Type'].astype(str).str.strip()\n",
    "        av_equipment_df['Room Code'] = av_equipment_df['Room Code'].astype(str).str.strip()\n",
    "        av_equipment_df['Building Code'] = av_equipment_df['Building Code'].astype(str).str.strip()\n",
    "        av_equipment_df['Campus Code'] = av_equipment_df['Campus Code'].astype(str).str.strip()\n",
    "        av_equipment_df['Equip. Status'] = av_equipment_df['Equip. Status'].astype(str).str.strip()\n",
    "        av_equipment_df['Floor Code'] = av_equipment_df['Floor Code'].astype(int).astype(str).str.strip()\n",
    "        return av_equipment_df\n",
    "\n",
    "    def clean_timetable_data(self,timetable_df):\n",
    "        # remove all NaN rows\n",
    "        timetable_df = timetable_df.dropna(how='all')\n",
    "\n",
    "        # drop duplicate records\n",
    "        timetable_df = timetable_df.drop_duplicates()\n",
    "\n",
    "        # dropping classes whose location is not planned\n",
    "        timetable_df = timetable_df[timetable_df['Host Key of Allocated Locations'].notna()]\n",
    "\n",
    "        # dropping classes whose location is online option\n",
    "        timetable_df = timetable_df[timetable_df['Host Key of Allocated Locations']!='Online option.']\n",
    "\n",
    "        # dropping classes with off-site location\n",
    "        timetable_df = timetable_df[timetable_df['Name of Zone of Allocated Locations']!='Off-Site']\n",
    "        return timetable_df\n",
    "\n",
    "    def clean_meeting_room_usage(self,meeting_room_usage_df):\n",
    "        meeting_room_usage_df = meeting_room_usage_df[meeting_room_usage_df['Campus Code'].notna()]\n",
    "        meeting_room_usage_df = meeting_room_usage_df[meeting_room_usage_df['Building Code'].notna()]\n",
    "        meeting_room_usage_df = meeting_room_usage_df[meeting_room_usage_df['Floor Code'].notna()]\n",
    "        meeting_room_usage_df = meeting_room_usage_df[meeting_room_usage_df['Room Code'].notna()]\n",
    "\n",
    "        meeting_room_usage_df['Campus Code'] = meeting_room_usage_df['Campus Code'].astype(str).str.strip()\n",
    "        meeting_room_usage_df['Building Code'] = meeting_room_usage_df['Building Code'].astype(str).str.strip()\n",
    "        meeting_room_usage_df['Building Name'] = meeting_room_usage_df['Building Name'].astype(str).str.strip()\n",
    "        meeting_room_usage_df['Floor Code'] = meeting_room_usage_df['Floor Code'].astype(int).astype(str).str.strip()\n",
    "        meeting_room_usage_df['Room Code'] = meeting_room_usage_df['Room Code'].astype(str).str.strip()\n",
    "        return meeting_room_usage_df"
   ]
  },
  {
   "cell_type": "code",
   "execution_count": 3,
   "metadata": {
    "colab": {},
    "colab_type": "code",
    "id": "OtYVzHniDiF5"
   },
   "outputs": [],
   "source": [
    "class DataMutator():\n",
    "\n",
    "    def mutate_em_location(self,em_location_df):\n",
    "        # mutate room codes\n",
    "        for idx,row in em_location_df.iterrows():\n",
    "            if \".\" in row['Room Code']:\n",
    "                code = row['Room Code'].split(\".\")[0]\n",
    "                em_location_df.at[idx,'Room Code'] = code\n",
    "        return em_location_df\n",
    "\n",
    "    def mutate_timetable_data(self,timetable_df):\n",
    "        building_codes = []\n",
    "        room_codes = []\n",
    "        campus_codes = []\n",
    "        class_duration_minutes = []\n",
    "        for idx,row in timetable_df.iterrows():\n",
    "            s = row['Host Key of Allocated Locations'].split('-')\n",
    "            building_codes.append(s[0])\n",
    "            room_codes.append(s[1])\n",
    "            c = row['Name of Allocated Locations'].split('-')[0]\n",
    "            if c == 'zzzPAR':\n",
    "                c = 'PAR'\n",
    "            campus_codes.append(c)\n",
    "            d = row['Duration as duration']\n",
    "            class_duration_minutes.append(d.hour * 60 + d.minute)\n",
    "        timetable_df['Building Code'] = building_codes\n",
    "        timetable_df['Room Code'] = room_codes\n",
    "        timetable_df['Campus Code'] = campus_codes\n",
    "        timetable_df['Class Duration In Minutes'] = class_duration_minutes\n",
    "        return timetable_df"
   ]
  },
  {
   "cell_type": "code",
   "execution_count": 4,
   "metadata": {
    "colab": {},
    "colab_type": "code",
    "id": "n98Z0F0xEHc7"
   },
   "outputs": [],
   "source": [
    "class DataMerger():\n",
    "\n",
    "    def get_merged_space_data(self,uom_space_df,rm_category_type_df, floor_df):\n",
    "        uom_space_df_enhanced = pd.merge(uom_space_df,floor_df,on=['Building Code','Floor Code'])\n",
    "        print(\"# Merge - uom_space + floor_data\")\n",
    "        print((uom_space_df.shape, uom_space_df_enhanced.shape))\n",
    "        print('Unable to merge records:',uom_space_df.shape[0]-uom_space_df_enhanced.shape[0])\n",
    "        merged_space_data_df = pd.merge(uom_space_df_enhanced,rm_category_type_df,on=['Room Category','Room Type'])\n",
    "        print(\"# Merge - enhanced_uom_space + rm_category_type\")\n",
    "        print((uom_space_df_enhanced.shape, merged_space_data_df.shape))\n",
    "        print('Unable to merge records:',uom_space_df_enhanced.shape[0]-merged_space_data_df.shape[0])\n",
    "        return merged_space_data_df\n",
    "\n",
    "    def get_merged_em_location_data(self,em_location_df,merged_space_data_df):\n",
    "        print(\"# merge - space_data + em_location\")\n",
    "        merged_em_location_df = pd.merge(em_location_df,merged_space_data_df,on=['Building Code','Floor Code','Room Code'])\n",
    "        print((em_location_df.shape, merged_em_location_df.shape))\n",
    "        print('Unable to merge records:',em_location_df.shape[0]-merged_em_location_df.shape[0])\n",
    "        return merged_em_location_df\n",
    "\n",
    "    def get_merged_av_equipment_data(self,av_equipment_df,merged_space_data_df):\n",
    "        print(\"# merge - space_data + av_equipment\")\n",
    "        merged_av_equipment_df = pd.merge(av_equipment_df,merged_space_data_df,on=['Campus Code','Building Code','Floor Code','Room Code'])\n",
    "        print((av_equipment_df.shape, merged_av_equipment_df.shape))\n",
    "        print('Unable to merge records:',av_equipment_df.shape[0]-merged_av_equipment_df.shape[0])\n",
    "        return merged_av_equipment_df\n",
    "\n",
    "    def get_merged_timetable_data(self,timetable_df,merged_space_data_df):\n",
    "        print(\"# merge - space_data + timetable_data\")\n",
    "        merged_timetable_df = pd.merge(timetable_df,merged_space_data_df,on=['Campus Code','Building Code','Room Code'])\n",
    "        print((timetable_df.shape, merged_timetable_df.shape))\n",
    "        print('Unable to merge records:',timetable_df.shape[0]-merged_timetable_df.shape[0])\n",
    "        return merged_timetable_df\n",
    "\n",
    "    def get_merged_meeting_room_usage_data(self,meeting_room_usage_df,merged_space_data_df):\n",
    "        print(\"# merge - space_data + meeting_room_usage\")\n",
    "        merged_meeting_room_usage_df = pd.merge(meeting_room_usage_df,merged_space_data_df,on=['Campus Code','Building Code','Floor Code','Room Code'])\n",
    "        print((meeting_room_usage_df.shape, merged_meeting_room_usage_df.shape))\n",
    "        print('Unable to merge records:',meeting_room_usage_df.shape[0]-merged_meeting_room_usage_df.shape[0])\n",
    "        return merged_meeting_room_usage_df"
   ]
  },
  {
   "cell_type": "code",
   "execution_count": 58,
   "metadata": {
    "colab": {},
    "colab_type": "code",
    "id": "4bsL2pSMAvr0"
   },
   "outputs": [],
   "source": [
    "class DataProcessor():\n",
    "    def __init__(self,uom_space_url,rm_category_type_url,\n",
    "                 em_location_url,av_equipment_url,\n",
    "                 timetable_2020_url,floor_name_url,\n",
    "                 meeting_room_usage_url):\n",
    "        self.uom_space_url = uom_space_url\n",
    "        self.rm_category_type_url = rm_category_type_url\n",
    "        self.em_location_url = em_location_url\n",
    "        self.av_equipment_url = av_equipment_url\n",
    "        self.timetable_2020_url = timetable_2020_url\n",
    "        self.floor_name_url = floor_name_url\n",
    "        self.meeting_room_usage_url = meeting_room_usage_url\n",
    "\n",
    "    def load_data(self):\n",
    "        self.uom_space_df = pd.read_excel(uom_space_url)\n",
    "        self.rm_category_type_df = pd.read_excel(rm_category_type_url)\n",
    "        self.em_location_df = pd.read_excel(em_location_url)\n",
    "        self.av_equipment_df = pd.read_excel(av_equipment_url)\n",
    "        self.timetable_df = pd.read_excel(timetable_2020_url, delim_whitespace=True)\n",
    "        self.floor_df = pd.read_excel(floor_name_url)\n",
    "        self.meeting_room_usage_df = pd.read_excel(meeting_room_usage_url)\n",
    "        print('Data loaded successfully!')\n",
    "        # data shapes\n",
    "        print(\"UOM space shape:\"+str(self.uom_space_df.shape))\n",
    "        print(\"RM category:\"+str(self.rm_category_type_df.shape))\n",
    "        print(\"EM location:\"+str(self.em_location_df.shape))\n",
    "        print(\"AV equipment:\"+str(self.av_equipment_df.shape))\n",
    "        print(\"2020 timetable:\"+str(self.timetable_df.shape))\n",
    "        print(\"Floor data shape:\"+str(self.floor_df.shape))\n",
    "        print(\"Meeting room usage shape:\"+str(self.meeting_room_usage_df.shape))\n",
    "\n",
    "    def get_all_datasets(self):\n",
    "\n",
    "        print(\"# clean data\")\n",
    "        _cleaner = DataCleaner()\n",
    "        self.uom_space_df = _cleaner.clean_uom_space(self.uom_space_df)\n",
    "        self.rm_category_type_df = _cleaner.clean_rm_category_type(self.rm_category_type_df)\n",
    "        self.floor_df = _cleaner.clean_floor_data(self.floor_df)\n",
    "        self.em_location_df = _cleaner.clean_em_location(self.em_location_df)\n",
    "        self.av_equipment_df = _cleaner.clean_av_equipment(self.av_equipment_df)\n",
    "        self.timetable_df = _cleaner.clean_timetable_data(self.timetable_df)\n",
    "        self.meeting_room_usage_df = _cleaner.clean_meeting_room_usage(self.meeting_room_usage_df)\n",
    "\n",
    "        print(\"# mutate data\")\n",
    "        _mutator = DataMutator()\n",
    "        self.em_location_df = _mutator.mutate_em_location(self.em_location_df)\n",
    "        self.timetable_df = _mutator.mutate_timetable_data(self.timetable_df)\n",
    "\n",
    "        print(\"# merge data\")\n",
    "        _merger = DataMerger()\n",
    "        self.merged_space_data = _merger.get_merged_space_data(self.uom_space_df, self.rm_category_type_df, self.floor_df)\n",
    "        self.merged_em_location_data = _merger.get_merged_em_location_data(self.em_location_df,self.merged_space_data)\n",
    "        self.merged_av_equipment_data = _merger.get_merged_av_equipment_data(self.av_equipment_df,self.merged_space_data)\n",
    "        self.merged_timetable_data = _merger.get_merged_timetable_data(self.timetable_df,self.merged_space_data)\n",
    "        self.merged_meeting_room_usage_data = _merger.get_merged_meeting_room_usage_data(self.meeting_room_usage_df,self.merged_space_data)\n",
    "\n",
    "        return self.merged_space_data, self.merged_em_location_data, self.merged_av_equipment_data, self.merged_timetable_data, self.merged_meeting_room_usage_data"
   ]
  },
  {
   "cell_type": "code",
   "execution_count": 81,
   "metadata": {
    "colab": {},
    "colab_type": "code",
    "id": "cSiem3iIIOTW"
   },
   "outputs": [],
   "source": [
    "# local urls\n",
    "uom_space_url = '/Users/echo/Desktop/project-data/uom-space.xlsx'\n",
    "rm_category_type_url = '/Users/echo/Desktop/project-data/rm-category-type-cleaned.xlsx'\n",
    "em_location_url = '/Users/echo/Desktop/project-data/em-location.xlsx'\n",
    "av_equipment_url = '/Users/echo/Desktop/project-data/av-equipment.xlsx'\n",
    "timetable_2020_url = '/Users/echo/Desktop/project-data/2020-timetable-v2.xlsx'\n",
    "floor_name_url = '/Users/echo/Desktop/project-data/fl-name-cleaned.xlsx'\n",
    "meeting_room_usage_url = '/Users/echo/Desktop/project-data/meeting-room-usage.xlsx'"
   ]
  },
  {
   "cell_type": "code",
   "execution_count": 82,
   "metadata": {
    "colab": {
     "base_uri": "https://localhost:8080/",
     "height": 153
    },
    "colab_type": "code",
    "executionInfo": {
     "elapsed": 35036,
     "status": "ok",
     "timestamp": 1589519232579,
     "user": {
      "displayName": "Abhinav Sharma",
      "photoUrl": "https://lh3.googleusercontent.com/a-/AOh14Gj3H6GVeQLaO0cgiqcBdrMVghSIKMfTUg6L26Po=s64",
      "userId": "13274104362600752585"
     },
     "user_tz": -600
    },
    "id": "6EJpvmXrILam",
    "outputId": "2386c11a-b652-482b-8948-74ca00069693"
   },
   "outputs": [
    {
     "name": "stdout",
     "output_type": "stream",
     "text": [
      "Data loaded successfully!\n",
      "UOM space shape:(22166, 14)\n",
      "RM category:(209, 5)\n",
      "EM location:(7709, 4)\n",
      "AV equipment:(1964, 11)\n",
      "2020 timetable:(131857, 23)\n",
      "Floor data shape:(1369, 3)\n",
      "Meeting room usage shape:(1462, 22)\n"
     ]
    }
   ],
   "source": [
    "# load data\n",
    "_processor = DataProcessor(uom_space_url,rm_category_type_url,em_location_url,av_equipment_url,\n",
    "                           timetable_2020_url,floor_name_url,meeting_room_usage_url)\n",
    "_processor.load_data()"
   ]
  },
  {
   "cell_type": "code",
   "execution_count": 89,
   "metadata": {
    "colab": {
     "base_uri": "https://localhost:8080/",
     "height": 374
    },
    "colab_type": "code",
    "executionInfo": {
     "elapsed": 52513,
     "status": "ok",
     "timestamp": 1589519250076,
     "user": {
      "displayName": "Abhinav Sharma",
      "photoUrl": "https://lh3.googleusercontent.com/a-/AOh14Gj3H6GVeQLaO0cgiqcBdrMVghSIKMfTUg6L26Po=s64",
      "userId": "13274104362600752585"
     },
     "user_tz": -600
    },
    "id": "anFAmM3AI13X",
    "outputId": "c609954f-3df5-4227-ad20-48e756dbf2fb"
   },
   "outputs": [
    {
     "name": "stdout",
     "output_type": "stream",
     "text": [
      "# clean data\n",
      "# mutate data\n",
      "# merge data\n",
      "# Merge - uom_space + floor_data\n",
      "((22166, 14), (22166, 15))\n",
      "Unable to merge records: 0\n",
      "# Merge - enhanced_uom_space + rm_category_type\n",
      "((22166, 15), (22166, 18))\n",
      "Unable to merge records: 0\n",
      "# merge - space_data + em_location\n",
      "((7709, 4), (6962, 19))\n",
      "Unable to merge records: 747\n",
      "# merge - space_data + av_equipment\n",
      "((1964, 11), (1646, 25))\n",
      "Unable to merge records: 318\n",
      "# merge - space_data + timetable_data\n",
      "((119419, 27), (116981, 42))\n",
      "Unable to merge records: 2438\n",
      "# merge - space_data + meeting_room_usage\n",
      "((890, 22), (728, 36))\n",
      "Unable to merge records: 162\n"
     ]
    }
   ],
   "source": [
    "# get datasets - after cleaning, mutation and merging\n",
    "space_data, employee_data, av_equipment_data, timetable_data, mr_usage_data = _processor.get_all_datasets()"
   ]
  },
  {
   "cell_type": "code",
   "execution_count": 90,
   "metadata": {
    "colab": {},
    "colab_type": "code",
    "id": "8J2BCDK2MqIy"
   },
   "outputs": [],
   "source": [
    "class DataExtractor():\n",
    "\n",
    "    def get_meeting_rooms_data(self,rm_category_type_df,space_data):\n",
    "        # possible meeting rooms\n",
    "        possible_rooms = rm_category_type_df[rm_category_type_df['Room Type'].str.contains(\"601|629\")]\n",
    "        meeting_room_types = possible_rooms['Room Type'].tolist()\n",
    "\n",
    "        # supply of meeting rooms\n",
    "        possible_meeting_rooms_df = space_data[space_data['Room Type'].isin(meeting_room_types)]\n",
    "        return possible_meeting_rooms_df\n",
    "\n",
    "    def get_toilets_data(self,rm_category_type_df,space_data):\n",
    "        possible_rooms = rm_category_type_df[rm_category_type_df['Room Type Definition'].str.contains(\"toilet|washroom\")]\n",
    "        toilet_room_types = possible_rooms['Room Type'].tolist()\n",
    "\n",
    "        possible_toilets_df = space_data[space_data['Room Type'].isin(toilet_room_types)]\n",
    "        return possible_toilets_df"
   ]
  },
  {
   "cell_type": "code",
   "execution_count": 95,
   "metadata": {
    "colab": {},
    "colab_type": "code",
    "id": "TO3sBeKfNJ1h"
   },
   "outputs": [],
   "source": [
    "_extractor = DataExtractor()\n",
    "possible_meeting_rooms_data = _extractor.get_meeting_rooms_data(_processor.rm_category_type_df, space_data)\n",
    "possible_toilets_data = _extractor.get_toilets_data(_processor.rm_category_type_df, space_data)"
   ]
  },
  {
   "cell_type": "markdown",
   "metadata": {
    "colab_type": "text",
    "id": "6pQq-sBpLqDh"
   },
   "source": [
    "## Floor based prediction model"
   ]
  },
  {
   "cell_type": "code",
   "execution_count": 103,
   "metadata": {
    "colab": {
     "base_uri": "https://localhost:8080/",
     "height": 513
    },
    "colab_type": "code",
    "executionInfo": {
     "elapsed": 52485,
     "status": "ok",
     "timestamp": 1589519250079,
     "user": {
      "displayName": "Abhinav Sharma",
      "photoUrl": "https://lh3.googleusercontent.com/a-/AOh14Gj3H6GVeQLaO0cgiqcBdrMVghSIKMfTUg6L26Po=s64",
      "userId": "13274104362600752585"
     },
     "user_tz": -600
    },
    "id": "KNKeWjbhMXfk",
    "outputId": "fda09657-1b4d-4b7a-8fff-c676d192138e"
   },
   "outputs": [
    {
     "data": {
      "text/html": [
       "<div>\n",
       "<style scoped>\n",
       "    .dataframe tbody tr th:only-of-type {\n",
       "        vertical-align: middle;\n",
       "    }\n",
       "\n",
       "    .dataframe tbody tr th {\n",
       "        vertical-align: top;\n",
       "    }\n",
       "\n",
       "    .dataframe thead th {\n",
       "        text-align: right;\n",
       "    }\n",
       "</style>\n",
       "<table border=\"1\" class=\"dataframe\">\n",
       "  <thead>\n",
       "    <tr style=\"text-align: right;\">\n",
       "      <th></th>\n",
       "      <th>Campus Code</th>\n",
       "      <th>Building Code</th>\n",
       "      <th>Building Name</th>\n",
       "      <th>Floor Code</th>\n",
       "      <th>Room Code</th>\n",
       "      <th>Room Name</th>\n",
       "      <th>Room Category</th>\n",
       "      <th>Room Type</th>\n",
       "      <th>Room Type Abbreviation_x</th>\n",
       "      <th>Room Capacity</th>\n",
       "      <th>Room Area m²</th>\n",
       "      <th>Room Condition 2018</th>\n",
       "      <th>Department Code</th>\n",
       "      <th>Room Location Code</th>\n",
       "      <th>Floor Name</th>\n",
       "      <th>Room Type Abbreviation_y</th>\n",
       "      <th>Description</th>\n",
       "      <th>Room Type Definition</th>\n",
       "    </tr>\n",
       "  </thead>\n",
       "  <tbody>\n",
       "    <tr>\n",
       "      <th>0</th>\n",
       "      <td>PAR</td>\n",
       "      <td>101</td>\n",
       "      <td>BEAUREPAIRE CENTRE</td>\n",
       "      <td>0</td>\n",
       "      <td>CG01</td>\n",
       "      <td>NaN</td>\n",
       "      <td>6</td>\n",
       "      <td>631</td>\n",
       "      <td>Circ-Department</td>\n",
       "      <td>0.0</td>\n",
       "      <td>80.62</td>\n",
       "      <td>NaN</td>\n",
       "      <td>8490</td>\n",
       "      <td>PAR;101;0;CG01</td>\n",
       "      <td>Ground</td>\n",
       "      <td>circ-department</td>\n",
       "      <td>circulation - department</td>\n",
       "      <td>a corridor allocated to a specific faculty tha...</td>\n",
       "    </tr>\n",
       "    <tr>\n",
       "      <th>1</th>\n",
       "      <td>PAR</td>\n",
       "      <td>101</td>\n",
       "      <td>BEAUREPAIRE CENTRE</td>\n",
       "      <td>0</td>\n",
       "      <td>CG03</td>\n",
       "      <td>NaN</td>\n",
       "      <td>6</td>\n",
       "      <td>631</td>\n",
       "      <td>Circ-Department</td>\n",
       "      <td>0.0</td>\n",
       "      <td>14.12</td>\n",
       "      <td>NaN</td>\n",
       "      <td>8490</td>\n",
       "      <td>PAR;101;0;CG03</td>\n",
       "      <td>Ground</td>\n",
       "      <td>circ-department</td>\n",
       "      <td>circulation - department</td>\n",
       "      <td>a corridor allocated to a specific faculty tha...</td>\n",
       "    </tr>\n",
       "    <tr>\n",
       "      <th>2</th>\n",
       "      <td>PAR</td>\n",
       "      <td>101</td>\n",
       "      <td>BEAUREPAIRE CENTRE</td>\n",
       "      <td>1</td>\n",
       "      <td>C101</td>\n",
       "      <td>NaN</td>\n",
       "      <td>6</td>\n",
       "      <td>631</td>\n",
       "      <td>Circ-Department</td>\n",
       "      <td>0.0</td>\n",
       "      <td>5.79</td>\n",
       "      <td>NaN</td>\n",
       "      <td>8490</td>\n",
       "      <td>PAR;101;1;C101</td>\n",
       "      <td>Level 1</td>\n",
       "      <td>circ-department</td>\n",
       "      <td>circulation - department</td>\n",
       "      <td>a corridor allocated to a specific faculty tha...</td>\n",
       "    </tr>\n",
       "    <tr>\n",
       "      <th>3</th>\n",
       "      <td>PAR</td>\n",
       "      <td>101</td>\n",
       "      <td>BEAUREPAIRE CENTRE</td>\n",
       "      <td>1</td>\n",
       "      <td>C102</td>\n",
       "      <td>NaN</td>\n",
       "      <td>6</td>\n",
       "      <td>631</td>\n",
       "      <td>Circ-Department</td>\n",
       "      <td>0.0</td>\n",
       "      <td>5.77</td>\n",
       "      <td>NaN</td>\n",
       "      <td>8490</td>\n",
       "      <td>PAR;101;1;C102</td>\n",
       "      <td>Level 1</td>\n",
       "      <td>circ-department</td>\n",
       "      <td>circulation - department</td>\n",
       "      <td>a corridor allocated to a specific faculty tha...</td>\n",
       "    </tr>\n",
       "    <tr>\n",
       "      <th>4</th>\n",
       "      <td>PAR</td>\n",
       "      <td>101</td>\n",
       "      <td>BEAUREPAIRE CENTRE</td>\n",
       "      <td>1</td>\n",
       "      <td>C103</td>\n",
       "      <td>NaN</td>\n",
       "      <td>6</td>\n",
       "      <td>631</td>\n",
       "      <td>Circ-Department</td>\n",
       "      <td>0.0</td>\n",
       "      <td>23.87</td>\n",
       "      <td>NaN</td>\n",
       "      <td>8490</td>\n",
       "      <td>PAR;101;1;C103</td>\n",
       "      <td>Level 1</td>\n",
       "      <td>circ-department</td>\n",
       "      <td>circulation - department</td>\n",
       "      <td>a corridor allocated to a specific faculty tha...</td>\n",
       "    </tr>\n",
       "  </tbody>\n",
       "</table>\n",
       "</div>"
      ],
      "text/plain": [
       "  Campus Code Building Code       Building Name Floor Code Room Code  \\\n",
       "0         PAR           101  BEAUREPAIRE CENTRE          0      CG01   \n",
       "1         PAR           101  BEAUREPAIRE CENTRE          0      CG03   \n",
       "2         PAR           101  BEAUREPAIRE CENTRE          1      C101   \n",
       "3         PAR           101  BEAUREPAIRE CENTRE          1      C102   \n",
       "4         PAR           101  BEAUREPAIRE CENTRE          1      C103   \n",
       "\n",
       "  Room Name Room Category Room Type Room Type Abbreviation_x  Room Capacity  \\\n",
       "0       NaN             6       631          Circ-Department            0.0   \n",
       "1       NaN             6       631          Circ-Department            0.0   \n",
       "2       NaN             6       631          Circ-Department            0.0   \n",
       "3       NaN             6       631          Circ-Department            0.0   \n",
       "4       NaN             6       631          Circ-Department            0.0   \n",
       "\n",
       "   Room Area m² Room Condition 2018 Department Code Room Location Code  \\\n",
       "0         80.62                 NaN            8490     PAR;101;0;CG01   \n",
       "1         14.12                 NaN            8490     PAR;101;0;CG03   \n",
       "2          5.79                 NaN            8490     PAR;101;1;C101   \n",
       "3          5.77                 NaN            8490     PAR;101;1;C102   \n",
       "4         23.87                 NaN            8490     PAR;101;1;C103   \n",
       "\n",
       "  Floor Name Room Type Abbreviation_y               Description  \\\n",
       "0     Ground          circ-department  circulation - department   \n",
       "1     Ground          circ-department  circulation - department   \n",
       "2    Level 1          circ-department  circulation - department   \n",
       "3    Level 1          circ-department  circulation - department   \n",
       "4    Level 1          circ-department  circulation - department   \n",
       "\n",
       "                                Room Type Definition  \n",
       "0  a corridor allocated to a specific faculty tha...  \n",
       "1  a corridor allocated to a specific faculty tha...  \n",
       "2  a corridor allocated to a specific faculty tha...  \n",
       "3  a corridor allocated to a specific faculty tha...  \n",
       "4  a corridor allocated to a specific faculty tha...  "
      ]
     },
     "execution_count": 103,
     "metadata": {},
     "output_type": "execute_result"
    }
   ],
   "source": [
    "space_data.head(5)"
   ]
  },
  {
   "cell_type": "code",
   "execution_count": 13,
   "metadata": {},
   "outputs": [
    {
     "data": {
      "text/plain": [
       "Index(['Campus Code', 'Building Code', 'Building Name', 'Floor Code',\n",
       "       'Room Code', 'Room Name', 'Room Category', 'Room Type',\n",
       "       'Room Type Abbreviation_x', 'Room Capacity', 'Room Area m²',\n",
       "       'Room Condition 2018', 'Department Code', 'Room Location Code',\n",
       "       'Floor Name', 'Room Type Abbreviation_y', 'Description',\n",
       "       'Room Type Definition'],\n",
       "      dtype='object')"
      ]
     },
     "execution_count": 13,
     "metadata": {},
     "output_type": "execute_result"
    }
   ],
   "source": [
    "space_data.columns"
   ]
  },
  {
   "cell_type": "code",
   "execution_count": 134,
   "metadata": {},
   "outputs": [],
   "source": [
    "# find out the number of meeting rooms with excellent, very good, good condition\n",
    "import numpy as np\n",
    "possible_meeting_rooms_data[\"Good Condition\"] = np.where((possible_meeting_rooms_data['Room Condition 2018'] == \"Excellent\") | \n",
    "                                          (possible_meeting_rooms_data['Room Condition 2018'] == \"Very Good\")|\n",
    "                         (possible_meeting_rooms_data['Room Condition 2018'] == \"Good\"), 1, 0)"
   ]
  },
  {
   "cell_type": "code",
   "execution_count": 165,
   "metadata": {
    "colab": {},
    "colab_type": "code",
    "id": "J_aHe4fpbW1a"
   },
   "outputs": [],
   "source": [
    "building_code = '104'"
   ]
  },
  {
   "cell_type": "code",
   "execution_count": 166,
   "metadata": {
    "colab": {
     "base_uri": "https://localhost:8080/",
     "height": 34
    },
    "colab_type": "code",
    "executionInfo": {
     "elapsed": 52393,
     "status": "ok",
     "timestamp": 1589519250081,
     "user": {
      "displayName": "Abhinav Sharma",
      "photoUrl": "https://lh3.googleusercontent.com/a-/AOh14Gj3H6GVeQLaO0cgiqcBdrMVghSIKMfTUg6L26Po=s64",
      "userId": "13274104362600752585"
     },
     "user_tz": -600
    },
    "id": "SNmuCfucLu9V",
    "outputId": "1dd53968-f462-4371-f08d-c8ead80cadcb"
   },
   "outputs": [
    {
     "data": {
      "text/plain": [
       "(486, 18)"
      ]
     },
     "execution_count": 166,
     "metadata": {},
     "output_type": "execute_result"
    }
   ],
   "source": [
    "# alan gilbert building\n",
    "data_104 = space_data[space_data['Building Code']==building_code]\n",
    "data_104.shape"
   ]
  },
  {
   "cell_type": "code",
   "execution_count": 167,
   "metadata": {
    "colab": {
     "base_uri": "https://localhost:8080/",
     "height": 452
    },
    "colab_type": "code",
    "executionInfo": {
     "elapsed": 52352,
     "status": "ok",
     "timestamp": 1589519250084,
     "user": {
      "displayName": "Abhinav Sharma",
      "photoUrl": "https://lh3.googleusercontent.com/a-/AOh14Gj3H6GVeQLaO0cgiqcBdrMVghSIKMfTUg6L26Po=s64",
      "userId": "13274104362600752585"
     },
     "user_tz": -600
    },
    "id": "ofIphmruSKjL",
    "outputId": "75c9b1a1-382f-435d-e64e-3cc09f011185"
   },
   "outputs": [
    {
     "data": {
      "text/html": [
       "<div>\n",
       "<style scoped>\n",
       "    .dataframe tbody tr th:only-of-type {\n",
       "        vertical-align: middle;\n",
       "    }\n",
       "\n",
       "    .dataframe tbody tr th {\n",
       "        vertical-align: top;\n",
       "    }\n",
       "\n",
       "    .dataframe thead th {\n",
       "        text-align: right;\n",
       "    }\n",
       "</style>\n",
       "<table border=\"1\" class=\"dataframe\">\n",
       "  <thead>\n",
       "    <tr style=\"text-align: right;\">\n",
       "      <th></th>\n",
       "      <th>Floor Code</th>\n",
       "      <th>Floor Name</th>\n",
       "      <th>Room Code</th>\n",
       "    </tr>\n",
       "  </thead>\n",
       "  <tbody>\n",
       "    <tr>\n",
       "      <th>0</th>\n",
       "      <td>0</td>\n",
       "      <td>Ground</td>\n",
       "      <td>35</td>\n",
       "    </tr>\n",
       "    <tr>\n",
       "      <th>1</th>\n",
       "      <td>0.1</td>\n",
       "      <td>Basement 1</td>\n",
       "      <td>19</td>\n",
       "    </tr>\n",
       "    <tr>\n",
       "      <th>2</th>\n",
       "      <td>0.5</td>\n",
       "      <td>Ground Mezzanine</td>\n",
       "      <td>2</td>\n",
       "    </tr>\n",
       "    <tr>\n",
       "      <th>3</th>\n",
       "      <td>1</td>\n",
       "      <td>Level 1</td>\n",
       "      <td>45</td>\n",
       "    </tr>\n",
       "    <tr>\n",
       "      <th>4</th>\n",
       "      <td>2</td>\n",
       "      <td>Level 2</td>\n",
       "      <td>74</td>\n",
       "    </tr>\n",
       "    <tr>\n",
       "      <th>5</th>\n",
       "      <td>3</td>\n",
       "      <td>Level 3</td>\n",
       "      <td>38</td>\n",
       "    </tr>\n",
       "    <tr>\n",
       "      <th>6</th>\n",
       "      <td>4</td>\n",
       "      <td>Level 4</td>\n",
       "      <td>73</td>\n",
       "    </tr>\n",
       "    <tr>\n",
       "      <th>7</th>\n",
       "      <td>5</td>\n",
       "      <td>Level 5</td>\n",
       "      <td>62</td>\n",
       "    </tr>\n",
       "    <tr>\n",
       "      <th>8</th>\n",
       "      <td>6</td>\n",
       "      <td>Level 6</td>\n",
       "      <td>63</td>\n",
       "    </tr>\n",
       "    <tr>\n",
       "      <th>9</th>\n",
       "      <td>7</td>\n",
       "      <td>Level 7</td>\n",
       "      <td>57</td>\n",
       "    </tr>\n",
       "    <tr>\n",
       "      <th>10</th>\n",
       "      <td>8</td>\n",
       "      <td>Level 8</td>\n",
       "      <td>12</td>\n",
       "    </tr>\n",
       "    <tr>\n",
       "      <th>11</th>\n",
       "      <td>8.5</td>\n",
       "      <td>Level 8 Mezzanine</td>\n",
       "      <td>5</td>\n",
       "    </tr>\n",
       "    <tr>\n",
       "      <th>12</th>\n",
       "      <td>R</td>\n",
       "      <td>Roof</td>\n",
       "      <td>1</td>\n",
       "    </tr>\n",
       "  </tbody>\n",
       "</table>\n",
       "</div>"
      ],
      "text/plain": [
       "   Floor Code         Floor Name  Room Code\n",
       "0           0             Ground         35\n",
       "1         0.1         Basement 1         19\n",
       "2         0.5   Ground Mezzanine          2\n",
       "3           1            Level 1         45\n",
       "4           2            Level 2         74\n",
       "5           3            Level 3         38\n",
       "6           4            Level 4         73\n",
       "7           5            Level 5         62\n",
       "8           6            Level 6         63\n",
       "9           7            Level 7         57\n",
       "10          8            Level 8         12\n",
       "11        8.5  Level 8 Mezzanine          5\n",
       "12          R               Roof          1"
      ]
     },
     "execution_count": 167,
     "metadata": {},
     "output_type": "execute_result"
    }
   ],
   "source": [
    "possible_floors_104 = data_104.groupby(by=['Floor Code','Floor Name'],as_index=False).agg({'Room Code':pd.Series.nunique})\n",
    "possible_floors_104"
   ]
  },
  {
   "cell_type": "code",
   "execution_count": 168,
   "metadata": {
    "colab": {
     "base_uri": "https://localhost:8080/",
     "height": 34
    },
    "colab_type": "code",
    "executionInfo": {
     "elapsed": 52332,
     "status": "ok",
     "timestamp": 1589519250085,
     "user": {
      "displayName": "Abhinav Sharma",
      "photoUrl": "https://lh3.googleusercontent.com/a-/AOh14Gj3H6GVeQLaO0cgiqcBdrMVghSIKMfTUg6L26Po=s64",
      "userId": "13274104362600752585"
     },
     "user_tz": -600
    },
    "id": "lza21DFANbjM",
    "outputId": "88bf8b38-cc55-4315-8b28-abfd81839966"
   },
   "outputs": [
    {
     "data": {
      "text/plain": [
       "(33, 19)"
      ]
     },
     "execution_count": 168,
     "metadata": {},
     "output_type": "execute_result"
    }
   ],
   "source": [
    "meeting_rooms_104 = possible_meeting_rooms_data[possible_meeting_rooms_data['Building Code']==building_code]\n",
    "meeting_rooms_104.shape"
   ]
  },
  {
   "cell_type": "code",
   "execution_count": 169,
   "metadata": {},
   "outputs": [],
   "source": [
    "room_condition_104 = meeting_rooms_104.groupby(by=['Floor Code','Floor Name','Room Condition 2018'],as_index=False).agg({'Room Code':pd.Series.nunique})"
   ]
  },
  {
   "cell_type": "code",
   "execution_count": 170,
   "metadata": {},
   "outputs": [
    {
     "data": {
      "text/html": [
       "<div>\n",
       "<style scoped>\n",
       "    .dataframe tbody tr th:only-of-type {\n",
       "        vertical-align: middle;\n",
       "    }\n",
       "\n",
       "    .dataframe tbody tr th {\n",
       "        vertical-align: top;\n",
       "    }\n",
       "\n",
       "    .dataframe thead th {\n",
       "        text-align: right;\n",
       "    }\n",
       "</style>\n",
       "<table border=\"1\" class=\"dataframe\">\n",
       "  <thead>\n",
       "    <tr style=\"text-align: right;\">\n",
       "      <th></th>\n",
       "      <th>Floor Code</th>\n",
       "      <th>Floor Name</th>\n",
       "      <th>Room Condition 2018</th>\n",
       "      <th>Room Code</th>\n",
       "    </tr>\n",
       "  </thead>\n",
       "  <tbody>\n",
       "    <tr>\n",
       "      <th>0</th>\n",
       "      <td>1</td>\n",
       "      <td>Level 1</td>\n",
       "      <td>Excellent</td>\n",
       "      <td>2</td>\n",
       "    </tr>\n",
       "    <tr>\n",
       "      <th>1</th>\n",
       "      <td>2</td>\n",
       "      <td>Level 2</td>\n",
       "      <td>Good</td>\n",
       "      <td>5</td>\n",
       "    </tr>\n",
       "    <tr>\n",
       "      <th>2</th>\n",
       "      <td>3</td>\n",
       "      <td>Level 3</td>\n",
       "      <td>Good</td>\n",
       "      <td>1</td>\n",
       "    </tr>\n",
       "    <tr>\n",
       "      <th>3</th>\n",
       "      <td>4</td>\n",
       "      <td>Level 4</td>\n",
       "      <td>Excellent</td>\n",
       "      <td>12</td>\n",
       "    </tr>\n",
       "    <tr>\n",
       "      <th>4</th>\n",
       "      <td>5</td>\n",
       "      <td>Level 5</td>\n",
       "      <td>Excellent</td>\n",
       "      <td>8</td>\n",
       "    </tr>\n",
       "    <tr>\n",
       "      <th>5</th>\n",
       "      <td>6</td>\n",
       "      <td>Level 6</td>\n",
       "      <td>Excellent</td>\n",
       "      <td>3</td>\n",
       "    </tr>\n",
       "    <tr>\n",
       "      <th>6</th>\n",
       "      <td>7</td>\n",
       "      <td>Level 7</td>\n",
       "      <td>Excellent</td>\n",
       "      <td>2</td>\n",
       "    </tr>\n",
       "  </tbody>\n",
       "</table>\n",
       "</div>"
      ],
      "text/plain": [
       "  Floor Code Floor Name Room Condition 2018  Room Code\n",
       "0          1    Level 1           Excellent          2\n",
       "1          2    Level 2                Good          5\n",
       "2          3    Level 3                Good          1\n",
       "3          4    Level 4           Excellent         12\n",
       "4          5    Level 5           Excellent          8\n",
       "5          6    Level 6           Excellent          3\n",
       "6          7    Level 7           Excellent          2"
      ]
     },
     "execution_count": 170,
     "metadata": {},
     "output_type": "execute_result"
    }
   ],
   "source": [
    "room_condition_104"
   ]
  },
  {
   "cell_type": "code",
   "execution_count": 171,
   "metadata": {},
   "outputs": [
    {
     "data": {
      "text/html": [
       "<div>\n",
       "<style scoped>\n",
       "    .dataframe tbody tr th:only-of-type {\n",
       "        vertical-align: middle;\n",
       "    }\n",
       "\n",
       "    .dataframe tbody tr th {\n",
       "        vertical-align: top;\n",
       "    }\n",
       "\n",
       "    .dataframe thead th {\n",
       "        text-align: right;\n",
       "    }\n",
       "</style>\n",
       "<table border=\"1\" class=\"dataframe\">\n",
       "  <thead>\n",
       "    <tr style=\"text-align: right;\">\n",
       "      <th></th>\n",
       "      <th>Floor Code</th>\n",
       "      <th>Floor Name</th>\n",
       "      <th>Good Condition</th>\n",
       "      <th>Room Capacity</th>\n",
       "    </tr>\n",
       "  </thead>\n",
       "  <tbody>\n",
       "    <tr>\n",
       "      <th>0</th>\n",
       "      <td>1</td>\n",
       "      <td>Level 1</td>\n",
       "      <td>2</td>\n",
       "      <td>8.0</td>\n",
       "    </tr>\n",
       "    <tr>\n",
       "      <th>1</th>\n",
       "      <td>2</td>\n",
       "      <td>Level 2</td>\n",
       "      <td>5</td>\n",
       "      <td>58.0</td>\n",
       "    </tr>\n",
       "    <tr>\n",
       "      <th>2</th>\n",
       "      <td>3</td>\n",
       "      <td>Level 3</td>\n",
       "      <td>1</td>\n",
       "      <td>6.0</td>\n",
       "    </tr>\n",
       "    <tr>\n",
       "      <th>3</th>\n",
       "      <td>4</td>\n",
       "      <td>Level 4</td>\n",
       "      <td>12</td>\n",
       "      <td>76.0</td>\n",
       "    </tr>\n",
       "    <tr>\n",
       "      <th>4</th>\n",
       "      <td>5</td>\n",
       "      <td>Level 5</td>\n",
       "      <td>8</td>\n",
       "      <td>84.0</td>\n",
       "    </tr>\n",
       "    <tr>\n",
       "      <th>5</th>\n",
       "      <td>6</td>\n",
       "      <td>Level 6</td>\n",
       "      <td>3</td>\n",
       "      <td>16.0</td>\n",
       "    </tr>\n",
       "    <tr>\n",
       "      <th>6</th>\n",
       "      <td>7</td>\n",
       "      <td>Level 7</td>\n",
       "      <td>2</td>\n",
       "      <td>33.0</td>\n",
       "    </tr>\n",
       "  </tbody>\n",
       "</table>\n",
       "</div>"
      ],
      "text/plain": [
       "  Floor Code Floor Name  Good Condition  Room Capacity\n",
       "0          1    Level 1               2            8.0\n",
       "1          2    Level 2               5           58.0\n",
       "2          3    Level 3               1            6.0\n",
       "3          4    Level 4              12           76.0\n",
       "4          5    Level 5               8           84.0\n",
       "5          6    Level 6               3           16.0\n",
       "6          7    Level 7               2           33.0"
      ]
     },
     "execution_count": 171,
     "metadata": {},
     "output_type": "execute_result"
    }
   ],
   "source": [
    "meeting_rooms_104.groupby(by = ['Floor Code','Floor Name'], as_index=False).agg({'Good Condition':sum, 'Room Capacity':sum})"
   ]
  },
  {
   "cell_type": "code",
   "execution_count": 172,
   "metadata": {
    "colab": {
     "base_uri": "https://localhost:8080/",
     "height": 266
    },
    "colab_type": "code",
    "executionInfo": {
     "elapsed": 52308,
     "status": "ok",
     "timestamp": 1589519250087,
     "user": {
      "displayName": "Abhinav Sharma",
      "photoUrl": "https://lh3.googleusercontent.com/a-/AOh14Gj3H6GVeQLaO0cgiqcBdrMVghSIKMfTUg6L26Po=s64",
      "userId": "13274104362600752585"
     },
     "user_tz": -600
    },
    "id": "oIBzmBrcNxUL",
    "outputId": "47b56812-8c48-4c84-e24b-41a467f16be3"
   },
   "outputs": [
    {
     "data": {
      "text/html": [
       "<div>\n",
       "<style scoped>\n",
       "    .dataframe tbody tr th:only-of-type {\n",
       "        vertical-align: middle;\n",
       "    }\n",
       "\n",
       "    .dataframe tbody tr th {\n",
       "        vertical-align: top;\n",
       "    }\n",
       "\n",
       "    .dataframe thead th {\n",
       "        text-align: right;\n",
       "    }\n",
       "</style>\n",
       "<table border=\"1\" class=\"dataframe\">\n",
       "  <thead>\n",
       "    <tr style=\"text-align: right;\">\n",
       "      <th></th>\n",
       "      <th>Floor Code</th>\n",
       "      <th>Floor Name</th>\n",
       "      <th>Good Condition</th>\n",
       "      <th>Room Capacity</th>\n",
       "      <th>props</th>\n",
       "    </tr>\n",
       "  </thead>\n",
       "  <tbody>\n",
       "    <tr>\n",
       "      <th>0</th>\n",
       "      <td>1</td>\n",
       "      <td>Level 1</td>\n",
       "      <td>2</td>\n",
       "      <td>8.0</td>\n",
       "      <td>0.060606</td>\n",
       "    </tr>\n",
       "    <tr>\n",
       "      <th>1</th>\n",
       "      <td>2</td>\n",
       "      <td>Level 2</td>\n",
       "      <td>5</td>\n",
       "      <td>58.0</td>\n",
       "      <td>0.151515</td>\n",
       "    </tr>\n",
       "    <tr>\n",
       "      <th>2</th>\n",
       "      <td>3</td>\n",
       "      <td>Level 3</td>\n",
       "      <td>1</td>\n",
       "      <td>6.0</td>\n",
       "      <td>0.030303</td>\n",
       "    </tr>\n",
       "    <tr>\n",
       "      <th>3</th>\n",
       "      <td>4</td>\n",
       "      <td>Level 4</td>\n",
       "      <td>12</td>\n",
       "      <td>76.0</td>\n",
       "      <td>0.363636</td>\n",
       "    </tr>\n",
       "    <tr>\n",
       "      <th>4</th>\n",
       "      <td>5</td>\n",
       "      <td>Level 5</td>\n",
       "      <td>8</td>\n",
       "      <td>84.0</td>\n",
       "      <td>0.242424</td>\n",
       "    </tr>\n",
       "    <tr>\n",
       "      <th>5</th>\n",
       "      <td>6</td>\n",
       "      <td>Level 6</td>\n",
       "      <td>3</td>\n",
       "      <td>16.0</td>\n",
       "      <td>0.090909</td>\n",
       "    </tr>\n",
       "    <tr>\n",
       "      <th>6</th>\n",
       "      <td>7</td>\n",
       "      <td>Level 7</td>\n",
       "      <td>2</td>\n",
       "      <td>33.0</td>\n",
       "      <td>0.060606</td>\n",
       "    </tr>\n",
       "  </tbody>\n",
       "</table>\n",
       "</div>"
      ],
      "text/plain": [
       "  Floor Code Floor Name  Good Condition  Room Capacity     props\n",
       "0          1    Level 1               2            8.0  0.060606\n",
       "1          2    Level 2               5           58.0  0.151515\n",
       "2          3    Level 3               1            6.0  0.030303\n",
       "3          4    Level 4              12           76.0  0.363636\n",
       "4          5    Level 5               8           84.0  0.242424\n",
       "5          6    Level 6               3           16.0  0.090909\n",
       "6          7    Level 7               2           33.0  0.060606"
      ]
     },
     "execution_count": 172,
     "metadata": {},
     "output_type": "execute_result"
    }
   ],
   "source": [
    "# props of good condition meeting rooms\n",
    "meeting_rooms_104_by_floor = meeting_rooms_104.groupby(by = ['Floor Code','Floor Name'], as_index=False).agg({'Good Condition':sum, 'Room Capacity':sum})\n",
    "meeting_rooms_104_by_floor['props']  = meeting_rooms_104_by_floor['Good Condition']/meeting_rooms_104.shape[0]\n",
    "meeting_rooms_104_by_floor"
   ]
  },
  {
   "cell_type": "code",
   "execution_count": 173,
   "metadata": {
    "colab": {
     "base_uri": "https://localhost:8080/",
     "height": 80
    },
    "colab_type": "code",
    "executionInfo": {
     "elapsed": 52271,
     "status": "ok",
     "timestamp": 1589519250088,
     "user": {
      "displayName": "Abhinav Sharma",
      "photoUrl": "https://lh3.googleusercontent.com/a-/AOh14Gj3H6GVeQLaO0cgiqcBdrMVghSIKMfTUg6L26Po=s64",
      "userId": "13274104362600752585"
     },
     "user_tz": -600
    },
    "id": "BOXXzWHzViRd",
    "outputId": "d31374b8-90cf-48ad-e575-36f8b239f546"
   },
   "outputs": [
    {
     "data": {
      "text/html": [
       "<div>\n",
       "<style scoped>\n",
       "    .dataframe tbody tr th:only-of-type {\n",
       "        vertical-align: middle;\n",
       "    }\n",
       "\n",
       "    .dataframe tbody tr th {\n",
       "        vertical-align: top;\n",
       "    }\n",
       "\n",
       "    .dataframe thead th {\n",
       "        text-align: right;\n",
       "    }\n",
       "</style>\n",
       "<table border=\"1\" class=\"dataframe\">\n",
       "  <thead>\n",
       "    <tr style=\"text-align: right;\">\n",
       "      <th></th>\n",
       "      <th>Floor Code</th>\n",
       "      <th>Floor Name</th>\n",
       "      <th>Good Condition</th>\n",
       "      <th>Room Capacity</th>\n",
       "      <th>props</th>\n",
       "    </tr>\n",
       "  </thead>\n",
       "  <tbody>\n",
       "    <tr>\n",
       "      <th>0</th>\n",
       "      <td>1</td>\n",
       "      <td>Level 1</td>\n",
       "      <td>2</td>\n",
       "      <td>8.0</td>\n",
       "      <td>0.060606</td>\n",
       "    </tr>\n",
       "  </tbody>\n",
       "</table>\n",
       "</div>"
      ],
      "text/plain": [
       "  Floor Code Floor Name  Good Condition  Room Capacity     props\n",
       "0          1    Level 1               2            8.0  0.060606"
      ]
     },
     "execution_count": 173,
     "metadata": {},
     "output_type": "execute_result"
    }
   ],
   "source": [
    "meeting_rooms_104_by_floor[meeting_rooms_104_by_floor['Floor Code']=='1']"
   ]
  },
  {
   "cell_type": "code",
   "execution_count": 174,
   "metadata": {
    "colab": {
     "base_uri": "https://localhost:8080/",
     "height": 34
    },
    "colab_type": "code",
    "executionInfo": {
     "elapsed": 52240,
     "status": "ok",
     "timestamp": 1589519250089,
     "user": {
      "displayName": "Abhinav Sharma",
      "photoUrl": "https://lh3.googleusercontent.com/a-/AOh14Gj3H6GVeQLaO0cgiqcBdrMVghSIKMfTUg6L26Po=s64",
      "userId": "13274104362600752585"
     },
     "user_tz": -600
    },
    "id": "qrXCiXuIOwbK",
    "outputId": "e4114653-36c0-4ba2-b8bc-f8f61e33778b"
   },
   "outputs": [
    {
     "data": {
      "text/plain": [
       "(329, 19)"
      ]
     },
     "execution_count": 174,
     "metadata": {},
     "output_type": "execute_result"
    }
   ],
   "source": [
    "em_104 = employee_data[employee_data['Building Code']==building_code]\n",
    "em_104.shape"
   ]
  },
  {
   "cell_type": "code",
   "execution_count": 175,
   "metadata": {
    "colab": {
     "base_uri": "https://localhost:8080/",
     "height": 266
    },
    "colab_type": "code",
    "executionInfo": {
     "elapsed": 52216,
     "status": "ok",
     "timestamp": 1589519250090,
     "user": {
      "displayName": "Abhinav Sharma",
      "photoUrl": "https://lh3.googleusercontent.com/a-/AOh14Gj3H6GVeQLaO0cgiqcBdrMVghSIKMfTUg6L26Po=s64",
      "userId": "13274104362600752585"
     },
     "user_tz": -600
    },
    "id": "y_WFMU7EO6hU",
    "outputId": "b7ad32ac-5526-41b5-8664-abea7d0f203e"
   },
   "outputs": [
    {
     "data": {
      "text/html": [
       "<div>\n",
       "<style scoped>\n",
       "    .dataframe tbody tr th:only-of-type {\n",
       "        vertical-align: middle;\n",
       "    }\n",
       "\n",
       "    .dataframe tbody tr th {\n",
       "        vertical-align: top;\n",
       "    }\n",
       "\n",
       "    .dataframe thead th {\n",
       "        text-align: right;\n",
       "    }\n",
       "</style>\n",
       "<table border=\"1\" class=\"dataframe\">\n",
       "  <thead>\n",
       "    <tr style=\"text-align: right;\">\n",
       "      <th></th>\n",
       "      <th>Floor Code</th>\n",
       "      <th>Floor Name</th>\n",
       "      <th>Employee Sequential ID</th>\n",
       "      <th>props</th>\n",
       "    </tr>\n",
       "  </thead>\n",
       "  <tbody>\n",
       "    <tr>\n",
       "      <th>0</th>\n",
       "      <td>0</td>\n",
       "      <td>Ground</td>\n",
       "      <td>10</td>\n",
       "      <td>0.030395</td>\n",
       "    </tr>\n",
       "    <tr>\n",
       "      <th>1</th>\n",
       "      <td>1</td>\n",
       "      <td>Level 1</td>\n",
       "      <td>29</td>\n",
       "      <td>0.088146</td>\n",
       "    </tr>\n",
       "    <tr>\n",
       "      <th>2</th>\n",
       "      <td>2</td>\n",
       "      <td>Level 2</td>\n",
       "      <td>61</td>\n",
       "      <td>0.185410</td>\n",
       "    </tr>\n",
       "    <tr>\n",
       "      <th>3</th>\n",
       "      <td>4</td>\n",
       "      <td>Level 4</td>\n",
       "      <td>68</td>\n",
       "      <td>0.206687</td>\n",
       "    </tr>\n",
       "    <tr>\n",
       "      <th>4</th>\n",
       "      <td>5</td>\n",
       "      <td>Level 5</td>\n",
       "      <td>40</td>\n",
       "      <td>0.121581</td>\n",
       "    </tr>\n",
       "    <tr>\n",
       "      <th>5</th>\n",
       "      <td>6</td>\n",
       "      <td>Level 6</td>\n",
       "      <td>76</td>\n",
       "      <td>0.231003</td>\n",
       "    </tr>\n",
       "    <tr>\n",
       "      <th>6</th>\n",
       "      <td>7</td>\n",
       "      <td>Level 7</td>\n",
       "      <td>45</td>\n",
       "      <td>0.136778</td>\n",
       "    </tr>\n",
       "  </tbody>\n",
       "</table>\n",
       "</div>"
      ],
      "text/plain": [
       "  Floor Code Floor Name  Employee Sequential ID     props\n",
       "0          0     Ground                      10  0.030395\n",
       "1          1    Level 1                      29  0.088146\n",
       "2          2    Level 2                      61  0.185410\n",
       "3          4    Level 4                      68  0.206687\n",
       "4          5    Level 5                      40  0.121581\n",
       "5          6    Level 6                      76  0.231003\n",
       "6          7    Level 7                      45  0.136778"
      ]
     },
     "execution_count": 175,
     "metadata": {},
     "output_type": "execute_result"
    }
   ],
   "source": [
    "em_104_by_floor = em_104.groupby(by=['Floor Code','Floor Name'], as_index=False).agg({'Employee Sequential ID':pd.Series.nunique})\n",
    "em_104_by_floor['props']  = em_104_by_floor['Employee Sequential ID']/em_104.shape[0]\n",
    "em_104_by_floor"
   ]
  },
  {
   "cell_type": "code",
   "execution_count": 176,
   "metadata": {},
   "outputs": [
    {
     "data": {
      "text/plain": [
       "Index(['Equipment Code', 'Equipment Standard', 'Manufacturer', 'Equip. Status',\n",
       "       'Building Code', 'Floor Code', 'Room Code', 'Campus Code',\n",
       "       'Room Type_x', 'Room Type Abbreviation', 'Room Category_x',\n",
       "       'Building Name', 'Room Name', 'Room Category_y', 'Room Type_y',\n",
       "       'Room Type Abbreviation_x', 'Room Capacity', 'Room Area m²',\n",
       "       'Room Condition 2018', 'Department Code', 'Room Location Code',\n",
       "       'Floor Name', 'Room Type Abbreviation_y', 'Description',\n",
       "       'Room Type Definition'],\n",
       "      dtype='object')"
      ]
     },
     "execution_count": 176,
     "metadata": {},
     "output_type": "execute_result"
    }
   ],
   "source": [
    "av_equipment_data.columns"
   ]
  },
  {
   "cell_type": "code",
   "execution_count": 177,
   "metadata": {},
   "outputs": [],
   "source": [
    "# get meeting room equipment data\n",
    "meetingroom_equipment = av_equipment_data[av_equipment_data['Room Type_x'].str.contains(\"601|629\")]\n",
    "# find out number of equip. in use\n",
    "meetingroom_equipment[\"Usable Equip.\"] = np.where((meetingroom_equipment['Equip. Status'] == \"In service\"), 1, 0)\n",
    "\n",
    "equipment_104 = meetingroom_equipment[meetingroom_equipment['Building Code']==building_code]"
   ]
  },
  {
   "cell_type": "code",
   "execution_count": 178,
   "metadata": {},
   "outputs": [
    {
     "data": {
      "text/plain": [
       "Index(['Equipment Code', 'Equipment Standard', 'Manufacturer', 'Equip. Status',\n",
       "       'Building Code', 'Floor Code', 'Room Code', 'Campus Code',\n",
       "       'Room Type_x', 'Room Type Abbreviation', 'Room Category_x',\n",
       "       'Building Name', 'Room Name', 'Room Category_y', 'Room Type_y',\n",
       "       'Room Type Abbreviation_x', 'Room Capacity', 'Room Area m²',\n",
       "       'Room Condition 2018', 'Department Code', 'Room Location Code',\n",
       "       'Floor Name', 'Room Type Abbreviation_y', 'Description',\n",
       "       'Room Type Definition', 'Usable Equip.'],\n",
       "      dtype='object')"
      ]
     },
     "execution_count": 178,
     "metadata": {},
     "output_type": "execute_result"
    }
   ],
   "source": [
    "equipment_104.columns"
   ]
  },
  {
   "cell_type": "code",
   "execution_count": 179,
   "metadata": {},
   "outputs": [],
   "source": [
    "equipment_by_floor = equipment_104.groupby(by=['Floor Code','Floor Name'], as_index=False).agg({'Usable Equip.':sum})\n",
    "\n",
    "equipment_by_floor[\"props\"] = equipment_by_floor['Usable Equip.']/equipment_104.shape[0]"
   ]
  },
  {
   "cell_type": "code",
   "execution_count": 180,
   "metadata": {},
   "outputs": [
    {
     "data": {
      "text/html": [
       "<div>\n",
       "<style scoped>\n",
       "    .dataframe tbody tr th:only-of-type {\n",
       "        vertical-align: middle;\n",
       "    }\n",
       "\n",
       "    .dataframe tbody tr th {\n",
       "        vertical-align: top;\n",
       "    }\n",
       "\n",
       "    .dataframe thead th {\n",
       "        text-align: right;\n",
       "    }\n",
       "</style>\n",
       "<table border=\"1\" class=\"dataframe\">\n",
       "  <thead>\n",
       "    <tr style=\"text-align: right;\">\n",
       "      <th></th>\n",
       "      <th>Floor Code</th>\n",
       "      <th>Floor Name</th>\n",
       "      <th>Usable Equip.</th>\n",
       "      <th>props</th>\n",
       "    </tr>\n",
       "  </thead>\n",
       "  <tbody>\n",
       "    <tr>\n",
       "      <th>0</th>\n",
       "      <td>4</td>\n",
       "      <td>Level 4</td>\n",
       "      <td>1</td>\n",
       "      <td>0.5</td>\n",
       "    </tr>\n",
       "    <tr>\n",
       "      <th>1</th>\n",
       "      <td>6</td>\n",
       "      <td>Level 6</td>\n",
       "      <td>1</td>\n",
       "      <td>0.5</td>\n",
       "    </tr>\n",
       "  </tbody>\n",
       "</table>\n",
       "</div>"
      ],
      "text/plain": [
       "  Floor Code Floor Name  Usable Equip.  props\n",
       "0          4    Level 4              1    0.5\n",
       "1          6    Level 6              1    0.5"
      ]
     },
     "execution_count": 180,
     "metadata": {},
     "output_type": "execute_result"
    }
   ],
   "source": [
    "equipment_by_floor"
   ]
  },
  {
   "cell_type": "code",
   "execution_count": 183,
   "metadata": {
    "colab": {},
    "colab_type": "code",
    "id": "6PSb5GR3Rz0E"
   },
   "outputs": [
    {
     "ename": "ImportError",
     "evalue": "cannot import name 'softmax'",
     "output_type": "error",
     "traceback": [
      "\u001b[0;31m---------------------------------------------------------------------------\u001b[0m",
      "\u001b[0;31mImportError\u001b[0m                               Traceback (most recent call last)",
      "\u001b[0;32m<ipython-input-183-d315e38d4b88>\u001b[0m in \u001b[0;36m<module>\u001b[0;34m()\u001b[0m\n\u001b[0;32m----> 1\u001b[0;31m \u001b[0;32mfrom\u001b[0m \u001b[0mscipy\u001b[0m\u001b[0;34m.\u001b[0m\u001b[0mspecial\u001b[0m \u001b[0;32mimport\u001b[0m \u001b[0msoftmax\u001b[0m\u001b[0;34m\u001b[0m\u001b[0m\n\u001b[0m\u001b[1;32m      2\u001b[0m \u001b[0;32mdef\u001b[0m \u001b[0mget_MR_scores_for_floors\u001b[0m\u001b[0;34m(\u001b[0m\u001b[0mfloor_position\u001b[0m\u001b[0;34m,\u001b[0m \u001b[0mbuilding_code\u001b[0m\u001b[0;34m,\u001b[0m \u001b[0mpenalty\u001b[0m\u001b[0;34m=\u001b[0m\u001b[0;36m0.05\u001b[0m\u001b[0;34m)\u001b[0m\u001b[0;34m:\u001b[0m\u001b[0;34m\u001b[0m\u001b[0m\n\u001b[1;32m      3\u001b[0m     \u001b[0mdata\u001b[0m \u001b[0;34m=\u001b[0m \u001b[0mspace_data\u001b[0m\u001b[0;34m[\u001b[0m\u001b[0mspace_data\u001b[0m\u001b[0;34m[\u001b[0m\u001b[0;34m'Building Code'\u001b[0m\u001b[0;34m]\u001b[0m\u001b[0;34m==\u001b[0m\u001b[0mbuilding_code\u001b[0m\u001b[0;34m]\u001b[0m\u001b[0;34m\u001b[0m\u001b[0m\n\u001b[1;32m      4\u001b[0m     \u001b[0mpossible_floors\u001b[0m \u001b[0;34m=\u001b[0m \u001b[0mdata\u001b[0m\u001b[0;34m.\u001b[0m\u001b[0mgroupby\u001b[0m\u001b[0;34m(\u001b[0m\u001b[0mby\u001b[0m\u001b[0;34m=\u001b[0m\u001b[0;34m[\u001b[0m\u001b[0;34m'Floor Code'\u001b[0m\u001b[0;34m,\u001b[0m\u001b[0;34m'Floor Name'\u001b[0m\u001b[0;34m]\u001b[0m\u001b[0;34m,\u001b[0m\u001b[0mas_index\u001b[0m\u001b[0;34m=\u001b[0m\u001b[0;32mFalse\u001b[0m\u001b[0;34m)\u001b[0m\u001b[0;34m.\u001b[0m\u001b[0magg\u001b[0m\u001b[0;34m(\u001b[0m\u001b[0;34m{\u001b[0m\u001b[0;34m'Room Code'\u001b[0m\u001b[0;34m:\u001b[0m\u001b[0mpd\u001b[0m\u001b[0;34m.\u001b[0m\u001b[0mSeries\u001b[0m\u001b[0;34m.\u001b[0m\u001b[0mnunique\u001b[0m\u001b[0;34m}\u001b[0m\u001b[0;34m)\u001b[0m\u001b[0;34m\u001b[0m\u001b[0m\n\u001b[1;32m      5\u001b[0m     \u001b[0mprint\u001b[0m\u001b[0;34m(\u001b[0m\u001b[0mpossible_floors\u001b[0m\u001b[0;34m)\u001b[0m\u001b[0;34m\u001b[0m\u001b[0m\n",
      "\u001b[0;31mImportError\u001b[0m: cannot import name 'softmax'"
     ]
    }
   ],
   "source": [
    "from scipy.special import softmax\n",
    "def get_MR_scores_for_floors(floor_position, building_code, penalty=0.05):\n",
    "    data = space_data[space_data['Building Code']==building_code]\n",
    "    possible_floors = data.groupby(by=['Floor Code','Floor Name'],as_index=False).agg({'Room Code':pd.Series.nunique})\n",
    "    print(possible_floors)\n",
    "\n",
    "    meeting_rooms = possible_meeting_rooms_data[possible_meeting_rooms_data['Building Code']==building_code]\n",
    "    meeting_rooms_by_floor = meeting_rooms.groupby(by=['Floor Code','Floor Name'], as_index=False).agg({'Room Code':pd.Series.nunique, 'Good Condition':sum})\n",
    "    total_rooms = meeting_rooms_by_floor['Room Code'].sum()\n",
    "    meeting_rooms_by_floor['props']  = meeting_rooms_by_floor['Good Condition']/total_rooms\n",
    "    print(meeting_rooms_by_floor)\n",
    "\n",
    "    em = employee_data[employee_data['Building Code']==building_code]\n",
    "    em_by_floor = em.groupby(by=['Floor Code','Floor Name'], as_index=False).agg({'Employee Sequential ID':pd.Series.nunique})\n",
    "    total_emp = em_by_floor['Employee Sequential ID'].sum()\n",
    "    em_by_floor['props']  = em_by_floor['Employee Sequential ID']/total_emp\n",
    "    print(em_by_floor)\n",
    "\n",
    "    idx_of_position = possible_floors[possible_floors['Floor Code']==floor_position].index[0]\n",
    "    probs = []\n",
    "    penalty_scores = []\n",
    "    weighted_probs = []\n",
    "    for idx,row in possible_floors.iterrows():\n",
    "        neg = 0\n",
    "        if idx < idx_of_position:\n",
    "            neg = idx - idx_of_position\n",
    "        else:\n",
    "            neg = idx_of_position - idx\n",
    "        penalize = neg*penalty\n",
    "        target_floor_code = row['Floor Code']\n",
    "        mr_df = meeting_rooms_by_floor[meeting_rooms_by_floor['Floor Code']==target_floor_code]\n",
    "        if len(mr_df) > 0:\n",
    "            meeting_room_prop = mr_df.iloc[0]['Room Capacity']*mr_df.iloc[0]['props']\n",
    "        else:\n",
    "            meeting_room_prop = 0\n",
    "        em_df = em_by_floor[em_by_floor['Floor Code']==target_floor_code]\n",
    "        if len(em_df) > 0:\n",
    "            employee_prop = em_df.iloc[0]['Employee Sequential ID']*em_df.iloc[0]['props']\n",
    "        else:\n",
    "            employee_prop = 1\n",
    "        prob = meeting_room_prop/employee_prop\n",
    "        probs.append(prob)\n",
    "        penalty_scores.append(penalize)\n",
    "    possible_floors['weights'] = probs\n",
    "    possible_floors['probs'] = probs\n",
    "    possible_floors = possible_floors[possible_floors['probs']!=0]\n",
    "    nz_probs = []\n",
    "    nz_penalty = []\n",
    "    for idx,prob in enumerate(probs): \n",
    "        if prob > 0:\n",
    "            nz_probs.append(prob)\n",
    "            nz_penalty.append(penalty_scores[idx])\n",
    "    possible_floors['weights'] = nz_probs\n",
    "    probs = softmax(nz_probs)\n",
    "    for idx,prob in enumerate(probs):\n",
    "        weighted_probs.append(prob + nz_penalty[idx])\n",
    "    possible_floors['probs'] = probs\n",
    "    possible_floors['penalize'] = nz_penalty\n",
    "    possible_floors['scores'] = weighted_probs\n",
    "    return possible_floors"
   ]
  },
  {
   "cell_type": "code",
   "execution_count": 192,
   "metadata": {},
   "outputs": [],
   "source": [
    "possible_toilets_data[\"Good Condition\"] = np.where((possible_toilets_data['Room Condition 2018'] == \"Excellent\") | \n",
    "                                          (possible_toilets_data['Room Condition 2018'] == \"Very Good\")|\n",
    "                         (possible_toilets_data['Room Condition 2018'] == \"Good\"), 1, 0)"
   ]
  },
  {
   "cell_type": "code",
   "execution_count": 198,
   "metadata": {},
   "outputs": [],
   "source": [
    "toilets_104 = possible_toilets_data[possible_toilets_data['Building Code']==building_code]\n",
    "\n",
    "toilets_by_floor = toilets_104.groupby(by=['Floor Code','Floor Name'], as_index=False).agg({\"Good Condition\":sum, \"Room Capacity\":sum})\n"
   ]
  },
  {
   "cell_type": "code",
   "execution_count": 199,
   "metadata": {},
   "outputs": [
    {
     "data": {
      "text/html": [
       "<div>\n",
       "<style scoped>\n",
       "    .dataframe tbody tr th:only-of-type {\n",
       "        vertical-align: middle;\n",
       "    }\n",
       "\n",
       "    .dataframe tbody tr th {\n",
       "        vertical-align: top;\n",
       "    }\n",
       "\n",
       "    .dataframe thead th {\n",
       "        text-align: right;\n",
       "    }\n",
       "</style>\n",
       "<table border=\"1\" class=\"dataframe\">\n",
       "  <thead>\n",
       "    <tr style=\"text-align: right;\">\n",
       "      <th></th>\n",
       "      <th>Floor Code</th>\n",
       "      <th>Floor Name</th>\n",
       "      <th>Good Condition</th>\n",
       "      <th>Room Capacity</th>\n",
       "      <th>props</th>\n",
       "    </tr>\n",
       "  </thead>\n",
       "  <tbody>\n",
       "    <tr>\n",
       "      <th>0</th>\n",
       "      <td>0</td>\n",
       "      <td>Ground</td>\n",
       "      <td>3</td>\n",
       "      <td>16.0</td>\n",
       "      <td>0.115385</td>\n",
       "    </tr>\n",
       "    <tr>\n",
       "      <th>1</th>\n",
       "      <td>0.1</td>\n",
       "      <td>Basement 1</td>\n",
       "      <td>1</td>\n",
       "      <td>1.0</td>\n",
       "      <td>0.038462</td>\n",
       "    </tr>\n",
       "    <tr>\n",
       "      <th>2</th>\n",
       "      <td>1</td>\n",
       "      <td>Level 1</td>\n",
       "      <td>4</td>\n",
       "      <td>16.0</td>\n",
       "      <td>0.153846</td>\n",
       "    </tr>\n",
       "    <tr>\n",
       "      <th>3</th>\n",
       "      <td>2</td>\n",
       "      <td>Level 2</td>\n",
       "      <td>3</td>\n",
       "      <td>10.0</td>\n",
       "      <td>0.115385</td>\n",
       "    </tr>\n",
       "    <tr>\n",
       "      <th>4</th>\n",
       "      <td>3</td>\n",
       "      <td>Level 3</td>\n",
       "      <td>3</td>\n",
       "      <td>10.0</td>\n",
       "      <td>0.115385</td>\n",
       "    </tr>\n",
       "    <tr>\n",
       "      <th>5</th>\n",
       "      <td>4</td>\n",
       "      <td>Level 4</td>\n",
       "      <td>3</td>\n",
       "      <td>10.0</td>\n",
       "      <td>0.115385</td>\n",
       "    </tr>\n",
       "    <tr>\n",
       "      <th>6</th>\n",
       "      <td>5</td>\n",
       "      <td>Level 5</td>\n",
       "      <td>3</td>\n",
       "      <td>10.0</td>\n",
       "      <td>0.115385</td>\n",
       "    </tr>\n",
       "    <tr>\n",
       "      <th>7</th>\n",
       "      <td>6</td>\n",
       "      <td>Level 6</td>\n",
       "      <td>3</td>\n",
       "      <td>10.0</td>\n",
       "      <td>0.115385</td>\n",
       "    </tr>\n",
       "    <tr>\n",
       "      <th>8</th>\n",
       "      <td>7</td>\n",
       "      <td>Level 7</td>\n",
       "      <td>3</td>\n",
       "      <td>10.0</td>\n",
       "      <td>0.115385</td>\n",
       "    </tr>\n",
       "  </tbody>\n",
       "</table>\n",
       "</div>"
      ],
      "text/plain": [
       "  Floor Code  Floor Name  Good Condition  Room Capacity     props\n",
       "0          0      Ground               3           16.0  0.115385\n",
       "1        0.1  Basement 1               1            1.0  0.038462\n",
       "2          1     Level 1               4           16.0  0.153846\n",
       "3          2     Level 2               3           10.0  0.115385\n",
       "4          3     Level 3               3           10.0  0.115385\n",
       "5          4     Level 4               3           10.0  0.115385\n",
       "6          5     Level 5               3           10.0  0.115385\n",
       "7          6     Level 6               3           10.0  0.115385\n",
       "8          7     Level 7               3           10.0  0.115385"
      ]
     },
     "execution_count": 199,
     "metadata": {},
     "output_type": "execute_result"
    }
   ],
   "source": [
    "toilets_by_floor[\"props\"] = toilets_by_floor['Good Condition']/toilets_104.shape[0]\n",
    "\n",
    "toilets_by_floor"
   ]
  },
  {
   "cell_type": "code",
   "execution_count": 0,
   "metadata": {
    "colab": {},
    "colab_type": "code",
    "id": "xr8VQwA4VfIc"
   },
   "outputs": [],
   "source": [
    "from scipy.special import softmax\n",
    "import numpy as np\n",
    "def get_TO_scores_for_floors(floor_position, building_code, penalty=0.025):\n",
    "    data = space_data[space_data['Building Code']==building_code]\n",
    "    possible_floors = data.groupby(by=['Floor Code','Floor Name'],as_index=False).agg({'Room Code':pd.Series.nunique})\n",
    "    possible_floors['Floor Code'] = possible_floors['Floor Code'].astype(float)\n",
    "    possible_floors.sort_values(by=['Floor Code'], inplace=True)\n",
    "    print(possible_floors)\n",
    "\n",
    "    toilets = possible_toilets_data[possible_toilets_data['Building Code']==building_code]\n",
    "    toilets_by_floor = toilets.groupby(by=['Floor Code','Floor Name'], as_index=False).agg({'Room Code':pd.Series.nunique, 'Room Capacity':sum})\n",
    "\n",
    "    total_rooms = toilets_by_floor['Room Code'].sum()\n",
    "    toilets_by_floor['props']  = toilets_by_floor['Room Code']/total_rooms\n",
    "    print(toilets_by_floor)\n",
    "\n",
    "    stud = timetable_data[timetable_data['Building Code']==building_code]\n",
    "    stud_by_floor = stud.groupby(by=['Floor Code','Floor Name'], as_index=False).agg({'Planned Size':sum})\n",
    "    total_studs = stud_by_floor['Planned Size'].sum()\n",
    "    stud_by_floor['props']  = stud_by_floor['Planned Size']/total_studs\n",
    "    print(stud_by_floor)\n",
    "\n",
    "    idx_of_position = possible_floors[possible_floors['Floor Code']==float(floor_position)].index[0]\n",
    "    probs = []\n",
    "    penalty_scores = []\n",
    "    weighted_probs = []\n",
    "    for idx,row in possible_floors.iterrows():\n",
    "        neg = 0\n",
    "        if idx < idx_of_position:\n",
    "            neg = idx - idx_of_position\n",
    "        else:\n",
    "            neg = idx_of_position - idx\n",
    "        penalize = neg*penalty\n",
    "        target_floor_code = row['Floor Code']\n",
    "        if target_floor_code not in (0.1,0.2):\n",
    "            target_floor_code = int(target_floor_code)\n",
    "        target_floor_code = str(target_floor_code)\n",
    "        to_df = toilets_by_floor[toilets_by_floor['Floor Code']==target_floor_code]\n",
    "        if len(to_df) > 0:\n",
    "            toilet_prop = to_df.iloc[0]['Room Capacity']*to_df.iloc[0]['props']\n",
    "        else:\n",
    "            toilet_prop = 0\n",
    "        stu_df = stud_by_floor[stud_by_floor['Floor Code']==target_floor_code]\n",
    "        if len(stu_df) > 0:\n",
    "            stu_prop = stu_df.iloc[0]['Planned Size']*stu_df.iloc[0]['props']\n",
    "        else:\n",
    "            stu_prop = 1\n",
    "        prob = toilet_prop/stu_prop\n",
    "        probs.append(prob)\n",
    "        penalty_scores.append(penalize)\n",
    "    possible_floors['weights'] = probs\n",
    "    possible_floors['probs'] = probs\n",
    "    possible_floors = possible_floors[possible_floors['probs']!=0]\n",
    "    nz_probs = []\n",
    "    nz_penalty = []\n",
    "    for idx,prob in enumerate(probs): \n",
    "        if prob > 0:\n",
    "            nz_probs.append(prob)\n",
    "            nz_penalty.append(penalty_scores[idx])\n",
    "    possible_floors['weights'] = nz_probs\n",
    "    probs = softmax(nz_probs)\n",
    "    for idx,prob in enumerate(probs):\n",
    "        weighted_probs.append(prob + nz_penalty[idx])\n",
    "    possible_floors['probs'] = probs\n",
    "    possible_floors['penalize'] = nz_penalty\n",
    "    possible_floors['scores'] = weighted_probs\n",
    "    return possible_floors"
   ]
  },
  {
   "cell_type": "code",
   "execution_count": 184,
   "metadata": {
    "colab": {
     "base_uri": "https://localhost:8080/",
     "height": 733
    },
    "colab_type": "code",
    "executionInfo": {
     "elapsed": 1384,
     "status": "ok",
     "timestamp": 1589524665673,
     "user": {
      "displayName": "Abhinav Sharma",
      "photoUrl": "https://lh3.googleusercontent.com/a-/AOh14Gj3H6GVeQLaO0cgiqcBdrMVghSIKMfTUg6L26Po=s64",
      "userId": "13274104362600752585"
     },
     "user_tz": -600
    },
    "id": "-zERNoIJv225",
    "outputId": "57c2645a-7964-4034-e0f1-f4b7cbb497b3"
   },
   "outputs": [
    {
     "ename": "NameError",
     "evalue": "name 'get_MR_scores_for_floors' is not defined",
     "output_type": "error",
     "traceback": [
      "\u001b[0;31m---------------------------------------------------------------------------\u001b[0m",
      "\u001b[0;31mNameError\u001b[0m                                 Traceback (most recent call last)",
      "\u001b[0;32m<ipython-input-184-5d557932e750>\u001b[0m in \u001b[0;36m<module>\u001b[0;34m()\u001b[0m\n\u001b[1;32m      1\u001b[0m \u001b[0;31m# 104/263\u001b[0m\u001b[0;34m\u001b[0m\u001b[0;34m\u001b[0m\u001b[0m\n\u001b[0;32m----> 2\u001b[0;31m \u001b[0mfloor_scores\u001b[0m \u001b[0;34m=\u001b[0m \u001b[0mget_MR_scores_for_floors\u001b[0m\u001b[0;34m(\u001b[0m\u001b[0mfloor_position\u001b[0m\u001b[0;34m=\u001b[0m\u001b[0;34m'3'\u001b[0m\u001b[0;34m,\u001b[0m\u001b[0mbuilding_code\u001b[0m\u001b[0;34m=\u001b[0m\u001b[0;34m'263'\u001b[0m\u001b[0;34m,\u001b[0m\u001b[0mpenalty\u001b[0m\u001b[0;34m=\u001b[0m\u001b[0;36m0.005\u001b[0m\u001b[0;34m)\u001b[0m\u001b[0;34m\u001b[0m\u001b[0m\n\u001b[0m\u001b[1;32m      3\u001b[0m \u001b[0mprint\u001b[0m\u001b[0;34m(\u001b[0m\u001b[0mfloor_scores\u001b[0m\u001b[0;34m)\u001b[0m\u001b[0;34m\u001b[0m\u001b[0m\n\u001b[1;32m      4\u001b[0m \u001b[0mplt\u001b[0m\u001b[0;34m.\u001b[0m\u001b[0mfigure\u001b[0m\u001b[0;34m(\u001b[0m\u001b[0mfigsize\u001b[0m\u001b[0;34m=\u001b[0m\u001b[0;34m(\u001b[0m\u001b[0;36m8\u001b[0m\u001b[0;34m,\u001b[0m\u001b[0;36m4\u001b[0m\u001b[0;34m)\u001b[0m\u001b[0;34m)\u001b[0m\u001b[0;34m\u001b[0m\u001b[0m\n\u001b[1;32m      5\u001b[0m \u001b[0max\u001b[0m \u001b[0;34m=\u001b[0m \u001b[0msns\u001b[0m\u001b[0;34m.\u001b[0m\u001b[0mbarplot\u001b[0m\u001b[0;34m(\u001b[0m\u001b[0mx\u001b[0m\u001b[0;34m=\u001b[0m\u001b[0;34m\"Floor Name\"\u001b[0m\u001b[0;34m,\u001b[0m \u001b[0my\u001b[0m\u001b[0;34m=\u001b[0m\u001b[0;34m'scores'\u001b[0m\u001b[0;34m,\u001b[0m \u001b[0mdata\u001b[0m\u001b[0;34m=\u001b[0m\u001b[0mfloor_scores\u001b[0m\u001b[0;34m)\u001b[0m\u001b[0;34m;\u001b[0m\u001b[0;34m\u001b[0m\u001b[0m\n",
      "\u001b[0;31mNameError\u001b[0m: name 'get_MR_scores_for_floors' is not defined"
     ]
    }
   ],
   "source": [
    "# 104/263\n",
    "floor_scores = get_MR_scores_for_floors(floor_position='3',building_code='263',penalty=0.005)\n",
    "print(floor_scores)\n",
    "plt.figure(figsize=(8,4))\n",
    "ax = sns.barplot(x=\"Floor Name\", y='scores', data=floor_scores);\n",
    "ax.set_xticklabels(ax.get_xticklabels(), rotation=40, ha=\"right\")\n",
    "ax.set(xlabel='Floors', ylabel='Model Scores')\n",
    "ax.set_title(\"Best floor prediction\")\n",
    "plt.show()"
   ]
  },
  {
   "cell_type": "code",
   "execution_count": 68,
   "metadata": {
    "colab": {
     "base_uri": "https://localhost:8080/",
     "height": 851
    },
    "colab_type": "code",
    "executionInfo": {
     "elapsed": 1145,
     "status": "ok",
     "timestamp": 1589527320614,
     "user": {
      "displayName": "Abhinav Sharma",
      "photoUrl": "https://lh3.googleusercontent.com/a-/AOh14Gj3H6GVeQLaO0cgiqcBdrMVghSIKMfTUg6L26Po=s64",
      "userId": "13274104362600752585"
     },
     "user_tz": -600
    },
    "id": "_djdjg6oKd3U",
    "outputId": "cee07a03-441b-455c-da6f-7c53e971d2f9"
   },
   "outputs": [
    {
     "name": "stdout",
     "output_type": "stream",
     "text": [
      "   Floor Code  Floor Name  Room Code\n",
      "0         0.0      Ground         57\n",
      "1         0.1  Basement 1         66\n",
      "2         0.2  Basement 2          6\n",
      "3         1.0     Level 1         64\n",
      "4         2.0     Level 2         68\n",
      "5         3.0     Level 3         76\n",
      "6         4.0     Level 4         67\n",
      "7         5.0     Level 5         10\n",
      "  Floor Code  Floor Name  Room Code  Room Capacity     props\n",
      "0          0      Ground          3            6.0  0.096774\n",
      "1        0.1  Basement 1          4           13.0  0.129032\n",
      "2          1     Level 1          6           10.0  0.193548\n",
      "3          2     Level 2          6           12.0  0.193548\n",
      "4          3     Level 3          6           12.0  0.193548\n",
      "5          4     Level 4          6           12.0  0.193548\n",
      "  Floor Code  Floor Name  Planned Size     props\n",
      "0          0      Ground         816.0  0.001839\n",
      "1        0.1  Basement 1      321918.0  0.725380\n",
      "2          1     Level 1       55706.0  0.125523\n",
      "3          2     Level 2       52512.0  0.118326\n",
      "4          3     Level 3        3912.0  0.008815\n",
      "5          4     Level 4        8928.0  0.020118\n",
      "   Floor Code  Floor Name   weights     probs  penalize    scores\n",
      "0         0.0      Ground  0.386999  0.224615    -0.045  0.179615\n",
      "1         0.1  Basement 1  0.000007  0.152535    -0.030  0.122535\n",
      "3         1.0     Level 1  0.000277  0.152577     0.000  0.152577\n",
      "4         2.0     Level 2  0.000374  0.152591    -0.015  0.137591\n",
      "5         3.0     Level 3  0.067352  0.163162    -0.030  0.133162\n",
      "6         4.0     Level 4  0.012931  0.154520    -0.045  0.109520\n"
     ]
    },
    {
     "data": {
      "image/png": "[encoded data removed]",
      "text/plain": [
       "<Figure size 576x288 with 1 Axes>"
      ]
     },
     "metadata": {
      "tags": []
     },
     "output_type": "display_data"
    }
   ],
   "source": [
    "# 133/115\n",
    "floor_scores = get_TO_scores_for_floors(floor_position='1',building_code='133',penalty=0.015)\n",
    "print(floor_scores[['Floor Code','Floor Name','weights','probs','penalize','scores']])\n",
    "plt.figure(figsize=(8,4))\n",
    "ax = sns.barplot(x=\"Floor Name\", y='scores', data=floor_scores);\n",
    "ax.set_xticklabels(ax.get_xticklabels(), rotation=40, ha=\"right\")\n",
    "ax.set(xlabel='Floors', ylabel='Model Scores')\n",
    "ax.set_title(\"Best floor prediction\")\n",
    "plt.show()"
   ]
  }
 ],
 "metadata": {
  "colab": {
   "collapsed_sections": [],
   "name": "model-prototype.ipynb",
   "provenance": []
  },
  "kernelspec": {
   "display_name": "Python 3",
   "language": "python",
   "name": "python3"
  },
  "language_info": {
   "codemirror_mode": {
    "name": "ipython",
    "version": 3
   },
   "file_extension": ".py",
   "mimetype": "text/x-python",
   "name": "python",
   "nbconvert_exporter": "python",
   "pygments_lexer": "ipython3",
   "version": "3.6.5"
  }
 },
 "nbformat": 4,
 "nbformat_minor": 1
}
